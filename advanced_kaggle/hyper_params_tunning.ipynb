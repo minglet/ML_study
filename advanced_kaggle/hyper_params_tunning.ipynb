{
 "cells": [
  {
   "cell_type": "markdown",
   "metadata": {},
   "source": [
    "####  Bayesian Optimization을 이용하여 application과 previous로 만들어진 집합의 하이퍼 파라미터 튜닝"
   ]
  },
  {
   "cell_type": "code",
   "execution_count": 1,
   "metadata": {},
   "outputs": [],
   "source": [
    "import numpy as np\n",
    "import pandas as pd\n",
    "import gc\n",
    "import time\n",
    "import matplotlib.pyplot as plt\n",
    "import seaborn as sns\n",
    "import os\n",
    "%matplotlib inline\n",
    "\n",
    "pd.set_option('display.max_rows', 100)\n",
    "pd.set_option('display.max_columns', 200)"
   ]
  },
  {
   "cell_type": "code",
   "execution_count": 2,
   "metadata": {},
   "outputs": [],
   "source": [
    "def get_dataset():\n",
    "    app_train = pd.read_csv('application_train.csv')\n",
    "    app_test = pd.read_csv('application_test.csv')\n",
    "    apps = pd.concat([app_train, app_test])\n",
    "    prev = pd.read_csv('previous_application.csv')\n",
    "\n",
    "    return apps, prev\n",
    "\n",
    "apps, prev = get_dataset()"
   ]
  },
  {
   "cell_type": "code",
   "execution_count": 3,
   "metadata": {},
   "outputs": [],
   "source": [
    "def get_apps_processed(apps):\n",
    "    \n",
    "    # EXT_SOURCE_X FEATURE 가공\n",
    "    apps['APPS_EXT_SOURCE_MEAN'] = apps[['EXT_SOURCE_1', 'EXT_SOURCE_2', 'EXT_SOURCE_3']].mean(axis=1)\n",
    "    apps['APPS_EXT_SOURCE_STD'] = apps[['EXT_SOURCE_1', 'EXT_SOURCE_2', 'EXT_SOURCE_3']].std(axis=1)\n",
    "    apps['APPS_EXT_SOURCE_STD'] = apps['APPS_EXT_SOURCE_STD'].fillna(apps['APPS_EXT_SOURCE_STD'].mean())\n",
    "    \n",
    "    # AMT_CREDIT 비율로 Feature 가공\n",
    "    apps['APPS_ANNUITY_CREDIT_RATIO'] = apps['AMT_ANNUITY']/apps['AMT_CREDIT']\n",
    "    apps['APPS_GOODS_CREDIT_RATIO'] = apps['AMT_GOODS_PRICE']/apps['AMT_CREDIT']\n",
    "    \n",
    "    # AMT_INCOME_TOTAL 비율로 Feature 가공\n",
    "    apps['APPS_ANNUITY_INCOME_RATIO'] = apps['AMT_ANNUITY']/apps['AMT_INCOME_TOTAL']\n",
    "    apps['APPS_CREDIT_INCOME_RATIO'] = apps['AMT_CREDIT']/apps['AMT_INCOME_TOTAL']\n",
    "    apps['APPS_GOODS_INCOME_RATIO'] = apps['AMT_GOODS_PRICE']/apps['AMT_INCOME_TOTAL']\n",
    "    apps['APPS_CNT_FAM_INCOME_RATIO'] = apps['AMT_INCOME_TOTAL']/apps['CNT_FAM_MEMBERS']\n",
    "    \n",
    "    # DAYS_BIRTH, DAYS_EMPLOYED 비율로 Feature 가공\n",
    "    apps['APPS_EMPLOYED_BIRTH_RATIO'] = apps['DAYS_EMPLOYED']/apps['DAYS_BIRTH']\n",
    "    apps['APPS_INCOME_EMPLOYED_RATIO'] = apps['AMT_INCOME_TOTAL']/apps['DAYS_EMPLOYED']\n",
    "    apps['APPS_INCOME_BIRTH_RATIO'] = apps['AMT_INCOME_TOTAL']/apps['DAYS_BIRTH']\n",
    "    apps['APPS_CAR_BIRTH_RATIO'] = apps['OWN_CAR_AGE'] / apps['DAYS_BIRTH']\n",
    "    apps['APPS_CAR_EMPLOYED_RATIO'] = apps['OWN_CAR_AGE'] / apps['DAYS_EMPLOYED']\n",
    "    \n",
    "    return apps"
   ]
  },
  {
   "cell_type": "code",
   "execution_count": 4,
   "metadata": {},
   "outputs": [],
   "source": [
    "from sklearn.model_selection import train_test_split\n",
    "from lightgbm import LGBMClassifier\n",
    "\n",
    "def get_prev_processed(prev):\n",
    "    # 대출 신청 금액과 실제 대출액/대출 상품금액 차이 및 비율\n",
    "    prev['PREV_CREDIT_DIFF'] = prev['AMT_APPLICATION'] - prev['AMT_CREDIT']\n",
    "    prev['PREV_GOODS_DIFF'] = prev['AMT_APPLICATION'] - prev['AMT_GOODS_PRICE']\n",
    "    prev['PREV_CREDIT_APPL_RATIO'] = prev['AMT_CREDIT']/prev['AMT_APPLICATION']\n",
    "    # prev['PREV_ANNUITY_APPL_RATIO'] = prev['AMT_ANNUITY']/prev['AMT_APPLICATION']\n",
    "    prev['PREV_GOODS_APPL_RATIO'] = prev['AMT_GOODS_PRICE']/prev['AMT_APPLICATION']\n",
    "    \n",
    "    prev['DAYS_FIRST_DRAWING'].replace(365243, np.nan, inplace= True)\n",
    "    prev['DAYS_FIRST_DUE'].replace(365243, np.nan, inplace= True)\n",
    "    prev['DAYS_LAST_DUE_1ST_VERSION'].replace(365243, np.nan, inplace= True)\n",
    "    prev['DAYS_LAST_DUE'].replace(365243, np.nan, inplace= True)\n",
    "    prev['DAYS_TERMINATION'].replace(365243, np.nan, inplace= True)\n",
    "    # 첫번째 만기일과 마지막 만기일까지의 기간\n",
    "    prev['PREV_DAYS_LAST_DUE_DIFF'] = prev['DAYS_LAST_DUE_1ST_VERSION'] - prev['DAYS_LAST_DUE']\n",
    "    # 매월 납부 금액과 납부 횟수 곱해서 전체 납부 금액 구함. \n",
    "    all_pay = prev['AMT_ANNUITY'] * prev['CNT_PAYMENT']\n",
    "    # 전체 납부 금액 대비 AMT_CREDIT 비율을 구하고 여기에 다시 납부횟수로 나누어서 이자율 계산. \n",
    "    prev['PREV_INTERESTS_RATE'] = (all_pay/prev['AMT_CREDIT'] - 1)/prev['CNT_PAYMENT']\n",
    "        \n",
    "    return prev\n",
    "    \n",
    "    \n",
    "def get_prev_amt_agg(prev):\n",
    "    # 새롭게 생성된 대출 신청액 대비 다른 금액 차이 및 비율로 aggregation 수행. \n",
    "    agg_dict = {\n",
    "         # 기존 컬럼. \n",
    "        'SK_ID_CURR':['count'],\n",
    "        'AMT_CREDIT':['mean', 'max', 'sum'],\n",
    "        'AMT_ANNUITY':['mean', 'max', 'sum'], \n",
    "        'AMT_APPLICATION':['mean', 'max', 'sum'],\n",
    "        'AMT_DOWN_PAYMENT':['mean', 'max', 'sum'],\n",
    "        'AMT_GOODS_PRICE':['mean', 'max', 'sum'],\n",
    "        'RATE_DOWN_PAYMENT': ['min', 'max', 'mean'],\n",
    "        'DAYS_DECISION': ['min', 'max', 'mean'],\n",
    "        'CNT_PAYMENT': ['mean', 'sum'],\n",
    "        # 가공 컬럼\n",
    "        'PREV_CREDIT_DIFF':['mean', 'max', 'sum'], \n",
    "        'PREV_CREDIT_APPL_RATIO':['mean', 'max'],\n",
    "        'PREV_GOODS_DIFF':['mean', 'max', 'sum'],\n",
    "        'PREV_GOODS_APPL_RATIO':['mean', 'max'],\n",
    "        'PREV_DAYS_LAST_DUE_DIFF':['mean', 'max', 'sum'],\n",
    "        'PREV_INTERESTS_RATE':['mean', 'max']\n",
    "    }\n",
    "\n",
    "    prev_group = prev.groupby('SK_ID_CURR')\n",
    "    prev_amt_agg = prev_group.agg(agg_dict)\n",
    "\n",
    "    # multi index 컬럼을 '_'로 연결하여 컬럼명 변경\n",
    "    prev_amt_agg.columns = [\"PREV_\"+ \"_\".join(x).upper() for x in prev_amt_agg.columns.ravel()]\n",
    "    \n",
    "    return prev_amt_agg\n",
    "\n",
    "def get_prev_refused_appr_agg(prev):\n",
    "    # 원래 groupby 컬럼 + 세부 기준 컬럼으로 groupby 수행. 세분화된 레벨로 aggregation 수행 한 뒤에 unstack()으로 컬럼레벨로 변형. \n",
    "    prev_refused_appr_group = prev[prev['NAME_CONTRACT_STATUS'].isin(['Approved', 'Refused'])].groupby([ 'SK_ID_CURR', 'NAME_CONTRACT_STATUS'])\n",
    "    prev_refused_appr_agg = prev_refused_appr_group['SK_ID_CURR'].count().unstack()\n",
    "    # 컬럼명 변경. \n",
    "    prev_refused_appr_agg.columns = ['PREV_APPROVED_COUNT', 'PREV_REFUSED_COUNT' ]\n",
    "    # NaN값은 모두 0으로 변경. \n",
    "    prev_refused_appr_agg = prev_refused_appr_agg.fillna(0)\n",
    "    \n",
    "    return prev_refused_appr_agg\n",
    "\n",
    "    \n",
    "\n",
    "def get_prev_agg(prev):\n",
    "    prev = get_prev_processed(prev)\n",
    "    prev_amt_agg = get_prev_amt_agg(prev)\n",
    "    prev_refused_appr_agg = get_prev_refused_appr_agg(prev)\n",
    "    \n",
    "    # prev_amt_agg와 조인. \n",
    "    prev_agg = prev_amt_agg.merge(prev_refused_appr_agg, on='SK_ID_CURR', how='left')\n",
    "    # SK_ID_CURR별 과거 대출건수 대비 APPROVED_COUNT 및 REFUSED_COUNT 비율 생성. \n",
    "    prev_agg['PREV_REFUSED_RATIO'] = prev_agg['PREV_REFUSED_COUNT']/prev_agg['PREV_SK_ID_CURR_COUNT']\n",
    "    prev_agg['PREV_APPROVED_RATIO'] = prev_agg['PREV_APPROVED_COUNT']/prev_agg['PREV_SK_ID_CURR_COUNT']\n",
    "    # 'PREV_REFUSED_COUNT', 'PREV_APPROVED_COUNT' 컬럼 drop \n",
    "    prev_agg = prev_agg.drop(['PREV_REFUSED_COUNT', 'PREV_APPROVED_COUNT'], axis=1)\n",
    "    \n",
    "    return prev_agg\n",
    "\n",
    "def get_apps_all_with_prev_agg(apps, prev):\n",
    "    apps_all =  get_apps_processed(apps)\n",
    "    prev_agg = get_prev_agg(prev)\n",
    "    print('prev_agg shape:', prev_agg.shape)\n",
    "    print('apps_all before merge shape:', apps_all.shape)\n",
    "    apps_all = apps_all.merge(prev_agg, on='SK_ID_CURR', how='left')\n",
    "    print('apps_all after merge with prev_agg shape:', apps_all.shape)\n",
    "    \n",
    "    return apps_all\n",
    "\n",
    "def get_apps_all_encoded(apps_all):\n",
    "    object_columns = apps_all.dtypes[apps_all.dtypes == 'object'].index.tolist()\n",
    "    for column in object_columns:\n",
    "        apps_all[column] = pd.factorize(apps_all[column])[0]\n",
    "    \n",
    "    return apps_all\n",
    "\n",
    "def get_apps_all_train_test(apps_all):\n",
    "    apps_all_train = apps_all[~apps_all['TARGET'].isnull()]\n",
    "    apps_all_test = apps_all[apps_all['TARGET'].isnull()]\n",
    "\n",
    "    apps_all_test = apps_all_test.drop('TARGET', axis=1)\n",
    "    \n",
    "    return apps_all_train, apps_all_test\n",
    "    \n",
    "def train_apps_all(apps_all_train):\n",
    "    ftr_app = apps_all_train.drop(['SK_ID_CURR', 'TARGET'], axis=1)\n",
    "    target_app = apps_all_train['TARGET']\n",
    "\n",
    "    train_x, valid_x, train_y, valid_y = train_test_split(ftr_app, target_app, test_size=0.3, random_state=2020)\n",
    "    print('train shape:', train_x.shape, 'valid shape:', valid_x.shape)\n",
    "    clf = LGBMClassifier(\n",
    "                nthread=4,\n",
    "                n_estimators=2000,\n",
    "                learning_rate=0.01,\n",
    "                num_leaves=32,\n",
    "                colsample_bytree=0.8,\n",
    "                subsample=0.8,\n",
    "                max_depth=8,\n",
    "                reg_alpha=0.04,\n",
    "                reg_lambda=0.07,\n",
    "                min_child_weight=40,\n",
    "                silent=-1,\n",
    "                verbose=-1,\n",
    "                )\n",
    "\n",
    "    clf.fit(train_x, train_y, eval_set=[(train_x, train_y), (valid_x, valid_y)], eval_metric= 'auc', verbose= 100, \n",
    "                early_stopping_rounds= 100)\n",
    "    \n",
    "    return clf"
   ]
  },
  {
   "cell_type": "code",
   "execution_count": 5,
   "metadata": {},
   "outputs": [
    {
     "name": "stderr",
     "output_type": "stream",
     "text": [
      "C:\\Users\\miming\\AppData\\Local\\Temp\\ipykernel_4892\\1480129953.py:53: FutureWarning: Index.ravel returning ndarray is deprecated; in a future version this will return a view on self.\n",
      "  prev_amt_agg.columns = [\"PREV_\"+ \"_\".join(x).upper() for x in prev_amt_agg.columns.ravel()]\n"
     ]
    },
    {
     "name": "stdout",
     "output_type": "stream",
     "text": [
      "prev_agg shape: (338857, 41)\n",
      "apps_all before merge shape: (356255, 135)\n",
      "apps_all after merge with prev_agg shape: (356255, 176)\n"
     ]
    }
   ],
   "source": [
    "apps_all = get_apps_all_with_prev_agg(apps, prev)\n",
    "apps_all = get_apps_all_encoded(apps_all)\n",
    "apps_all_train, apps_all_test = get_apps_all_train_test(apps_all)\n",
    "ftr_app = apps_all_train.drop(['SK_ID_CURR', 'TARGET'], axis=1)\n",
    "target_app = apps_all_train['TARGET']\n",
    "train_x, valid_x, train_y, valid_y = train_test_split(ftr_app, target_app, test_size=0.3, random_state=2020)\n"
   ]
  },
  {
   "cell_type": "markdown",
   "metadata": {},
   "source": [
    "### Bayesian Optimization"
   ]
  },
  {
   "cell_type": "code",
   "execution_count": 6,
   "metadata": {},
   "outputs": [],
   "source": [
    "from bayes_opt import BayesianOptimization\n",
    "from sklearn.metrics import roc_auc_score\n",
    "from lightgbm import LGBMClassifier"
   ]
  },
  {
   "cell_type": "code",
   "execution_count": 7,
   "metadata": {},
   "outputs": [],
   "source": [
    "# 함수의 입력값 search 범위(하이퍼 파라미터 별 입력 범위) 설정하기\n",
    "baysian_params = {\n",
    "    'max_depth' : (6, 16),\n",
    "    'num_leaves': (24, 64),\n",
    "    'min_child_samples': (10, 200),\n",
    "    'min_child_weight': (1, 50),\n",
    "    'subsample': (0.5, 1),\n",
    "    'colsample_bytree': (0.5, 1),\n",
    "    'max_bin': (10, 500),\n",
    "    'reg_lambda': (0.001, 10),\n",
    "    'reg_alpha': (0.01, 50)\n",
    "}"
   ]
  },
  {
   "cell_type": "code",
   "execution_count": 8,
   "metadata": {},
   "outputs": [],
   "source": [
    "def lgb_roc_eval(max_depth, num_leaves, min_child_samples, min_child_weight,\n",
    "                 subsample, colsample_bytree, max_bin, reg_lambda, reg_alpha):\n",
    "    params = {\n",
    "        'n_estimators': 500, 'learning_rate': 0.02,\n",
    "        'max_depth': int(round(max_depth)),\n",
    "        'num_leaves': int(round(num_leaves)),\n",
    "        'min_child_samples': int(round(min_child_samples)),\n",
    "        'min_child_weight': int(round(min_child_weight)),\n",
    "        'subsample': max(min(subsample, 1), 0), # 음수가 들어오거나, 1보다 커질때 제한을 해줌\n",
    "        'colsample_bytree': max(min(colsample_bytree, 1), 0),\n",
    "        'max_bin': max(int(round(max_bin)), 10),\n",
    "        'reg_lambda': max(reg_lambda, 0),\n",
    "        'reg_alpha': max(reg_alpha, 0)\n",
    "    }\n",
    "    \n",
    "    lgb_model = LGBMClassifier(**params)\n",
    "    lgb_model.fit(train_x, train_y, eval_set=[(train_x, train_y), (valid_x, valid_y)], eval_metric='auc', verbose=100,\n",
    "                  early_stopping_rounds=100)\n",
    "    valid_proba = lgb_model.predict_proba(valid_x)[:, 1]\n",
    "    roc_auc = roc_auc_score(valid_y, valid_proba)\n",
    "    return roc_auc\n"
   ]
  },
  {
   "cell_type": "code",
   "execution_count": 9,
   "metadata": {},
   "outputs": [
    {
     "name": "stdout",
     "output_type": "stream",
     "text": [
      "|   iter    |  target   | colsam... |  max_bin  | max_depth | min_ch... | min_ch... | num_le... | reg_alpha | reg_la... | subsample |\n",
      "-------------------------------------------------------------------------------------------------------------------------------------\n"
     ]
    },
    {
     "name": "stderr",
     "output_type": "stream",
     "text": [
      "c:\\Python310\\lib\\site-packages\\lightgbm\\sklearn.py:726: UserWarning: 'early_stopping_rounds' argument is deprecated and will be removed in a future release of LightGBM. Pass 'early_stopping()' callback via 'callbacks' argument instead.\n",
      "  _log_warning(\"'early_stopping_rounds' argument is deprecated and will be removed in a future release of LightGBM. \"\n",
      "c:\\Python310\\lib\\site-packages\\lightgbm\\sklearn.py:736: UserWarning: 'verbose' argument is deprecated and will be removed in a future release of LightGBM. Pass 'log_evaluation()' callback via 'callbacks' argument instead.\n",
      "  _log_warning(\"'verbose' argument is deprecated and will be removed in a future release of LightGBM. \"\n"
     ]
    },
    {
     "name": "stdout",
     "output_type": "stream",
     "text": [
      "[100]\ttraining's auc: 0.762504\ttraining's binary_logloss: 0.2479\tvalid_1's auc: 0.753638\tvalid_1's binary_logloss: 0.24943\n",
      "[200]\ttraining's auc: 0.778797\ttraining's binary_logloss: 0.241178\tvalid_1's auc: 0.764735\tvalid_1's binary_logloss: 0.244671\n",
      "[300]\ttraining's auc: 0.788513\ttraining's binary_logloss: 0.237491\tvalid_1's auc: 0.770055\tvalid_1's binary_logloss: 0.242744\n",
      "[400]\ttraining's auc: 0.795492\ttraining's binary_logloss: 0.234889\tvalid_1's auc: 0.772857\tvalid_1's binary_logloss: 0.241745\n",
      "[500]\ttraining's auc: 0.801482\ttraining's binary_logloss: 0.23268\tvalid_1's auc: 0.774752\tvalid_1's binary_logloss: 0.241084\n",
      "| \u001b[0m1        \u001b[0m | \u001b[0m0.7748   \u001b[0m | \u001b[0m0.7085   \u001b[0m | \u001b[0m363.0    \u001b[0m | \u001b[0m6.001    \u001b[0m | \u001b[0m67.44    \u001b[0m | \u001b[0m8.191    \u001b[0m | \u001b[0m27.69    \u001b[0m | \u001b[0m9.321    \u001b[0m | \u001b[0m3.456    \u001b[0m | \u001b[0m0.6984   \u001b[0m |\n"
     ]
    },
    {
     "name": "stderr",
     "output_type": "stream",
     "text": [
      "c:\\Python310\\lib\\site-packages\\lightgbm\\sklearn.py:726: UserWarning: 'early_stopping_rounds' argument is deprecated and will be removed in a future release of LightGBM. Pass 'early_stopping()' callback via 'callbacks' argument instead.\n",
      "  _log_warning(\"'early_stopping_rounds' argument is deprecated and will be removed in a future release of LightGBM. \"\n",
      "c:\\Python310\\lib\\site-packages\\lightgbm\\sklearn.py:736: UserWarning: 'verbose' argument is deprecated and will be removed in a future release of LightGBM. Pass 'log_evaluation()' callback via 'callbacks' argument instead.\n",
      "  _log_warning(\"'verbose' argument is deprecated and will be removed in a future release of LightGBM. \"\n"
     ]
    },
    {
     "name": "stdout",
     "output_type": "stream",
     "text": [
      "[100]\ttraining's auc: 0.758305\ttraining's binary_logloss: 0.249178\tvalid_1's auc: 0.751171\tvalid_1's binary_logloss: 0.250295\n",
      "[200]\ttraining's auc: 0.773693\ttraining's binary_logloss: 0.242877\tvalid_1's auc: 0.762591\tvalid_1's binary_logloss: 0.245534\n",
      "[300]\ttraining's auc: 0.782466\ttraining's binary_logloss: 0.239579\tvalid_1's auc: 0.767914\tvalid_1's binary_logloss: 0.243582\n",
      "[400]\ttraining's auc: 0.788481\ttraining's binary_logloss: 0.237356\tvalid_1's auc: 0.770862\tvalid_1's binary_logloss: 0.242523\n",
      "[500]\ttraining's auc: 0.793375\ttraining's binary_logloss: 0.23563\tvalid_1's auc: 0.77268\tvalid_1's binary_logloss: 0.241896\n",
      "| \u001b[0m2        \u001b[0m | \u001b[0m0.7727   \u001b[0m | \u001b[0m0.7694   \u001b[0m | \u001b[0m215.4    \u001b[0m | \u001b[0m12.85    \u001b[0m | \u001b[0m48.85    \u001b[0m | \u001b[0m44.03    \u001b[0m | \u001b[0m25.1     \u001b[0m | \u001b[0m33.53    \u001b[0m | \u001b[0m4.174    \u001b[0m | \u001b[0m0.7793   \u001b[0m |\n"
     ]
    },
    {
     "name": "stderr",
     "output_type": "stream",
     "text": [
      "c:\\Python310\\lib\\site-packages\\lightgbm\\sklearn.py:726: UserWarning: 'early_stopping_rounds' argument is deprecated and will be removed in a future release of LightGBM. Pass 'early_stopping()' callback via 'callbacks' argument instead.\n",
      "  _log_warning(\"'early_stopping_rounds' argument is deprecated and will be removed in a future release of LightGBM. \"\n",
      "c:\\Python310\\lib\\site-packages\\lightgbm\\sklearn.py:736: UserWarning: 'verbose' argument is deprecated and will be removed in a future release of LightGBM. Pass 'log_evaluation()' callback via 'callbacks' argument instead.\n",
      "  _log_warning(\"'verbose' argument is deprecated and will be removed in a future release of LightGBM. \"\n"
     ]
    },
    {
     "name": "stdout",
     "output_type": "stream",
     "text": [
      "[100]\ttraining's auc: 0.767667\ttraining's binary_logloss: 0.247799\tvalid_1's auc: 0.754776\tvalid_1's binary_logloss: 0.250018\n",
      "[200]\ttraining's auc: 0.781791\ttraining's binary_logloss: 0.240807\tvalid_1's auc: 0.763695\tvalid_1's binary_logloss: 0.245306\n",
      "[300]\ttraining's auc: 0.791375\ttraining's binary_logloss: 0.23701\tvalid_1's auc: 0.768574\tvalid_1's binary_logloss: 0.243419\n",
      "[400]\ttraining's auc: 0.798603\ttraining's binary_logloss: 0.23428\tvalid_1's auc: 0.771475\tvalid_1's binary_logloss: 0.242405\n",
      "[500]\ttraining's auc: 0.804644\ttraining's binary_logloss: 0.232042\tvalid_1's auc: 0.773122\tvalid_1's binary_logloss: 0.241831\n",
      "| \u001b[0m3        \u001b[0m | \u001b[0m0.7731   \u001b[0m | \u001b[0m0.5702   \u001b[0m | \u001b[0m107.1    \u001b[0m | \u001b[0m14.01    \u001b[0m | \u001b[0m194.0    \u001b[0m | \u001b[0m16.36    \u001b[0m | \u001b[0m51.69    \u001b[0m | \u001b[0m43.82    \u001b[0m | \u001b[0m8.946    \u001b[0m | \u001b[0m0.5425   \u001b[0m |\n"
     ]
    },
    {
     "name": "stderr",
     "output_type": "stream",
     "text": [
      "c:\\Python310\\lib\\site-packages\\lightgbm\\sklearn.py:726: UserWarning: 'early_stopping_rounds' argument is deprecated and will be removed in a future release of LightGBM. Pass 'early_stopping()' callback via 'callbacks' argument instead.\n",
      "  _log_warning(\"'early_stopping_rounds' argument is deprecated and will be removed in a future release of LightGBM. \"\n",
      "c:\\Python310\\lib\\site-packages\\lightgbm\\sklearn.py:736: UserWarning: 'verbose' argument is deprecated and will be removed in a future release of LightGBM. Pass 'log_evaluation()' callback via 'callbacks' argument instead.\n",
      "  _log_warning(\"'verbose' argument is deprecated and will be removed in a future release of LightGBM. \"\n"
     ]
    },
    {
     "name": "stdout",
     "output_type": "stream",
     "text": [
      "[100]\ttraining's auc: 0.773019\ttraining's binary_logloss: 0.246309\tvalid_1's auc: 0.757109\tvalid_1's binary_logloss: 0.249334\n",
      "[200]\ttraining's auc: 0.788164\ttraining's binary_logloss: 0.238668\tvalid_1's auc: 0.765957\tvalid_1's binary_logloss: 0.244482\n",
      "[300]\ttraining's auc: 0.799215\ttraining's binary_logloss: 0.234287\tvalid_1's auc: 0.770575\tvalid_1's binary_logloss: 0.242676\n",
      "[400]\ttraining's auc: 0.807901\ttraining's binary_logloss: 0.230959\tvalid_1's auc: 0.772958\tvalid_1's binary_logloss: 0.24179\n",
      "[500]\ttraining's auc: 0.81573\ttraining's binary_logloss: 0.228057\tvalid_1's auc: 0.774291\tvalid_1's binary_logloss: 0.241288\n",
      "| \u001b[0m4        \u001b[0m | \u001b[0m0.7743   \u001b[0m | \u001b[0m0.5195   \u001b[0m | \u001b[0m93.22    \u001b[0m | \u001b[0m14.78    \u001b[0m | \u001b[0m28.69    \u001b[0m | \u001b[0m21.63    \u001b[0m | \u001b[0m62.32    \u001b[0m | \u001b[0m26.66    \u001b[0m | \u001b[0m6.919    \u001b[0m | \u001b[0m0.6578   \u001b[0m |\n"
     ]
    },
    {
     "name": "stderr",
     "output_type": "stream",
     "text": [
      "c:\\Python310\\lib\\site-packages\\lightgbm\\sklearn.py:726: UserWarning: 'early_stopping_rounds' argument is deprecated and will be removed in a future release of LightGBM. Pass 'early_stopping()' callback via 'callbacks' argument instead.\n",
      "  _log_warning(\"'early_stopping_rounds' argument is deprecated and will be removed in a future release of LightGBM. \"\n",
      "c:\\Python310\\lib\\site-packages\\lightgbm\\sklearn.py:736: UserWarning: 'verbose' argument is deprecated and will be removed in a future release of LightGBM. Pass 'log_evaluation()' callback via 'callbacks' argument instead.\n",
      "  _log_warning(\"'verbose' argument is deprecated and will be removed in a future release of LightGBM. \"\n"
     ]
    },
    {
     "name": "stdout",
     "output_type": "stream",
     "text": [
      "[100]\ttraining's auc: 0.769114\ttraining's binary_logloss: 0.246552\tvalid_1's auc: 0.755193\tvalid_1's binary_logloss: 0.249081\n",
      "[200]\ttraining's auc: 0.785207\ttraining's binary_logloss: 0.239522\tvalid_1's auc: 0.765419\tvalid_1's binary_logloss: 0.244468\n",
      "[300]\ttraining's auc: 0.794529\ttraining's binary_logloss: 0.235774\tvalid_1's auc: 0.770098\tvalid_1's binary_logloss: 0.242675\n",
      "[400]\ttraining's auc: 0.800966\ttraining's binary_logloss: 0.233216\tvalid_1's auc: 0.772403\tvalid_1's binary_logloss: 0.241785\n",
      "[500]\ttraining's auc: 0.806372\ttraining's binary_logloss: 0.231121\tvalid_1's auc: 0.773807\tvalid_1's binary_logloss: 0.241265\n",
      "| \u001b[0m5        \u001b[0m | \u001b[0m0.7738   \u001b[0m | \u001b[0m0.8433   \u001b[0m | \u001b[0m419.0    \u001b[0m | \u001b[0m6.183    \u001b[0m | \u001b[0m152.5    \u001b[0m | \u001b[0m49.45    \u001b[0m | \u001b[0m53.93    \u001b[0m | \u001b[0m14.03    \u001b[0m | \u001b[0m7.893    \u001b[0m | \u001b[0m0.5516   \u001b[0m |\n"
     ]
    },
    {
     "name": "stderr",
     "output_type": "stream",
     "text": [
      "c:\\Python310\\lib\\site-packages\\lightgbm\\sklearn.py:726: UserWarning: 'early_stopping_rounds' argument is deprecated and will be removed in a future release of LightGBM. Pass 'early_stopping()' callback via 'callbacks' argument instead.\n",
      "  _log_warning(\"'early_stopping_rounds' argument is deprecated and will be removed in a future release of LightGBM. \"\n",
      "c:\\Python310\\lib\\site-packages\\lightgbm\\sklearn.py:736: UserWarning: 'verbose' argument is deprecated and will be removed in a future release of LightGBM. Pass 'log_evaluation()' callback via 'callbacks' argument instead.\n",
      "  _log_warning(\"'verbose' argument is deprecated and will be removed in a future release of LightGBM. \"\n"
     ]
    },
    {
     "name": "stdout",
     "output_type": "stream",
     "text": [
      "[100]\ttraining's auc: 0.770538\ttraining's binary_logloss: 0.247255\tvalid_1's auc: 0.756131\tvalid_1's binary_logloss: 0.249796\n",
      "[200]\ttraining's auc: 0.784449\ttraining's binary_logloss: 0.24004\tvalid_1's auc: 0.7644\tvalid_1's binary_logloss: 0.245069\n",
      "[300]\ttraining's auc: 0.794206\ttraining's binary_logloss: 0.236081\tvalid_1's auc: 0.768949\tvalid_1's binary_logloss: 0.243245\n",
      "[400]\ttraining's auc: 0.801745\ttraining's binary_logloss: 0.233222\tvalid_1's auc: 0.771383\tvalid_1's binary_logloss: 0.242343\n",
      "[500]\ttraining's auc: 0.808458\ttraining's binary_logloss: 0.230708\tvalid_1's auc: 0.773123\tvalid_1's binary_logloss: 0.24173\n",
      "| \u001b[0m6        \u001b[0m | \u001b[0m0.7731   \u001b[0m | \u001b[0m0.5021   \u001b[0m | \u001b[0m93.64    \u001b[0m | \u001b[0m13.03    \u001b[0m | \u001b[0m31.74    \u001b[0m | \u001b[0m24.13    \u001b[0m | \u001b[0m61.17    \u001b[0m | \u001b[0m39.98    \u001b[0m | \u001b[0m3.506    \u001b[0m | \u001b[0m0.7127   \u001b[0m |\n"
     ]
    },
    {
     "name": "stderr",
     "output_type": "stream",
     "text": [
      "c:\\Python310\\lib\\site-packages\\lightgbm\\sklearn.py:726: UserWarning: 'early_stopping_rounds' argument is deprecated and will be removed in a future release of LightGBM. Pass 'early_stopping()' callback via 'callbacks' argument instead.\n",
      "  _log_warning(\"'early_stopping_rounds' argument is deprecated and will be removed in a future release of LightGBM. \"\n",
      "c:\\Python310\\lib\\site-packages\\lightgbm\\sklearn.py:736: UserWarning: 'verbose' argument is deprecated and will be removed in a future release of LightGBM. Pass 'log_evaluation()' callback via 'callbacks' argument instead.\n",
      "  _log_warning(\"'verbose' argument is deprecated and will be removed in a future release of LightGBM. \"\n"
     ]
    },
    {
     "name": "stdout",
     "output_type": "stream",
     "text": [
      "[100]\ttraining's auc: 0.758737\ttraining's binary_logloss: 0.248743\tvalid_1's auc: 0.751098\tvalid_1's binary_logloss: 0.24996\n",
      "[200]\ttraining's auc: 0.775102\ttraining's binary_logloss: 0.242311\tvalid_1's auc: 0.763199\tvalid_1's binary_logloss: 0.245169\n",
      "[300]\ttraining's auc: 0.78423\ttraining's binary_logloss: 0.238917\tvalid_1's auc: 0.76878\tvalid_1's binary_logloss: 0.243176\n",
      "[400]\ttraining's auc: 0.790455\ttraining's binary_logloss: 0.236605\tvalid_1's auc: 0.771435\tvalid_1's binary_logloss: 0.242221\n",
      "[500]\ttraining's auc: 0.79584\ttraining's binary_logloss: 0.234674\tvalid_1's auc: 0.773296\tvalid_1's binary_logloss: 0.241554\n",
      "| \u001b[0m7        \u001b[0m | \u001b[0m0.7733   \u001b[0m | \u001b[0m0.8678   \u001b[0m | \u001b[0m126.6    \u001b[0m | \u001b[0m7.921    \u001b[0m | \u001b[0m28.8     \u001b[0m | \u001b[0m9.69     \u001b[0m | \u001b[0m24.02    \u001b[0m | \u001b[0m16.91    \u001b[0m | \u001b[0m6.615    \u001b[0m | \u001b[0m0.9486   \u001b[0m |\n"
     ]
    },
    {
     "name": "stderr",
     "output_type": "stream",
     "text": [
      "c:\\Python310\\lib\\site-packages\\lightgbm\\sklearn.py:726: UserWarning: 'early_stopping_rounds' argument is deprecated and will be removed in a future release of LightGBM. Pass 'early_stopping()' callback via 'callbacks' argument instead.\n",
      "  _log_warning(\"'early_stopping_rounds' argument is deprecated and will be removed in a future release of LightGBM. \"\n",
      "c:\\Python310\\lib\\site-packages\\lightgbm\\sklearn.py:736: UserWarning: 'verbose' argument is deprecated and will be removed in a future release of LightGBM. Pass 'log_evaluation()' callback via 'callbacks' argument instead.\n",
      "  _log_warning(\"'verbose' argument is deprecated and will be removed in a future release of LightGBM. \"\n"
     ]
    },
    {
     "name": "stdout",
     "output_type": "stream",
     "text": [
      "[100]\ttraining's auc: 0.771173\ttraining's binary_logloss: 0.245083\tvalid_1's auc: 0.755845\tvalid_1's binary_logloss: 0.248337\n",
      "[200]\ttraining's auc: 0.790712\ttraining's binary_logloss: 0.237082\tvalid_1's auc: 0.767381\tvalid_1's binary_logloss: 0.243641\n",
      "[300]\ttraining's auc: 0.803402\ttraining's binary_logloss: 0.23224\tvalid_1's auc: 0.771905\tvalid_1's binary_logloss: 0.24199\n",
      "[400]\ttraining's auc: 0.813874\ttraining's binary_logloss: 0.228376\tvalid_1's auc: 0.774608\tvalid_1's binary_logloss: 0.241052\n",
      "[500]\ttraining's auc: 0.823042\ttraining's binary_logloss: 0.225008\tvalid_1's auc: 0.776183\tvalid_1's binary_logloss: 0.240519\n",
      "| \u001b[95m8        \u001b[0m | \u001b[95m0.7762   \u001b[0m | \u001b[95m0.9126   \u001b[0m | \u001b[95m401.5    \u001b[0m | \u001b[95m8.41     \u001b[0m | \u001b[95m151.8    \u001b[0m | \u001b[95m4.134    \u001b[0m | \u001b[95m43.34    \u001b[0m | \u001b[95m4.129    \u001b[0m | \u001b[95m6.242    \u001b[0m | \u001b[95m0.8421   \u001b[0m |\n"
     ]
    },
    {
     "name": "stderr",
     "output_type": "stream",
     "text": [
      "c:\\Python310\\lib\\site-packages\\lightgbm\\sklearn.py:726: UserWarning: 'early_stopping_rounds' argument is deprecated and will be removed in a future release of LightGBM. Pass 'early_stopping()' callback via 'callbacks' argument instead.\n",
      "  _log_warning(\"'early_stopping_rounds' argument is deprecated and will be removed in a future release of LightGBM. \"\n",
      "c:\\Python310\\lib\\site-packages\\lightgbm\\sklearn.py:736: UserWarning: 'verbose' argument is deprecated and will be removed in a future release of LightGBM. Pass 'log_evaluation()' callback via 'callbacks' argument instead.\n",
      "  _log_warning(\"'verbose' argument is deprecated and will be removed in a future release of LightGBM. \"\n"
     ]
    },
    {
     "name": "stdout",
     "output_type": "stream",
     "text": [
      "[100]\ttraining's auc: 0.766052\ttraining's binary_logloss: 0.24767\tvalid_1's auc: 0.753334\tvalid_1's binary_logloss: 0.250004\n",
      "[200]\ttraining's auc: 0.781144\ttraining's binary_logloss: 0.240789\tvalid_1's auc: 0.763497\tvalid_1's binary_logloss: 0.24527\n",
      "[300]\ttraining's auc: 0.790478\ttraining's binary_logloss: 0.237083\tvalid_1's auc: 0.768602\tvalid_1's binary_logloss: 0.243364\n",
      "[400]\ttraining's auc: 0.797577\ttraining's binary_logloss: 0.234425\tvalid_1's auc: 0.771603\tvalid_1's binary_logloss: 0.242313\n",
      "[500]\ttraining's auc: 0.803375\ttraining's binary_logloss: 0.232281\tvalid_1's auc: 0.773245\tvalid_1's binary_logloss: 0.241729\n",
      "| \u001b[0m9        \u001b[0m | \u001b[0m0.7732   \u001b[0m | \u001b[0m0.7513   \u001b[0m | \u001b[0m375.2    \u001b[0m | \u001b[0m9.405    \u001b[0m | \u001b[0m140.4    \u001b[0m | \u001b[0m15.21    \u001b[0m | \u001b[0m45.24    \u001b[0m | \u001b[0m47.31    \u001b[0m | \u001b[0m3.949    \u001b[0m | \u001b[0m0.9567   \u001b[0m |\n"
     ]
    },
    {
     "name": "stderr",
     "output_type": "stream",
     "text": [
      "c:\\Python310\\lib\\site-packages\\lightgbm\\sklearn.py:726: UserWarning: 'early_stopping_rounds' argument is deprecated and will be removed in a future release of LightGBM. Pass 'early_stopping()' callback via 'callbacks' argument instead.\n",
      "  _log_warning(\"'early_stopping_rounds' argument is deprecated and will be removed in a future release of LightGBM. \"\n",
      "c:\\Python310\\lib\\site-packages\\lightgbm\\sklearn.py:736: UserWarning: 'verbose' argument is deprecated and will be removed in a future release of LightGBM. Pass 'log_evaluation()' callback via 'callbacks' argument instead.\n",
      "  _log_warning(\"'verbose' argument is deprecated and will be removed in a future release of LightGBM. \"\n"
     ]
    },
    {
     "name": "stdout",
     "output_type": "stream",
     "text": [
      "[100]\ttraining's auc: 0.762654\ttraining's binary_logloss: 0.247691\tvalid_1's auc: 0.753472\tvalid_1's binary_logloss: 0.249357\n",
      "[200]\ttraining's auc: 0.779928\ttraining's binary_logloss: 0.240725\tvalid_1's auc: 0.765106\tvalid_1's binary_logloss: 0.244527\n",
      "[300]\ttraining's auc: 0.790132\ttraining's binary_logloss: 0.236874\tvalid_1's auc: 0.770473\tvalid_1's binary_logloss: 0.242604\n",
      "[400]\ttraining's auc: 0.798054\ttraining's binary_logloss: 0.234031\tvalid_1's auc: 0.773156\tvalid_1's binary_logloss: 0.241669\n",
      "[500]\ttraining's auc: 0.804825\ttraining's binary_logloss: 0.231577\tvalid_1's auc: 0.77509\tvalid_1's binary_logloss: 0.240985\n",
      "| \u001b[0m10       \u001b[0m | \u001b[0m0.7751   \u001b[0m | \u001b[0m0.7641   \u001b[0m | \u001b[0m189.1    \u001b[0m | \u001b[0m11.26    \u001b[0m | \u001b[0m87.43    \u001b[0m | \u001b[0m30.17    \u001b[0m | \u001b[0m28.59    \u001b[0m | \u001b[0m8.651    \u001b[0m | \u001b[0m9.464    \u001b[0m | \u001b[0m0.875    \u001b[0m |\n"
     ]
    },
    {
     "name": "stderr",
     "output_type": "stream",
     "text": [
      "c:\\Python310\\lib\\site-packages\\lightgbm\\sklearn.py:726: UserWarning: 'early_stopping_rounds' argument is deprecated and will be removed in a future release of LightGBM. Pass 'early_stopping()' callback via 'callbacks' argument instead.\n",
      "  _log_warning(\"'early_stopping_rounds' argument is deprecated and will be removed in a future release of LightGBM. \"\n",
      "c:\\Python310\\lib\\site-packages\\lightgbm\\sklearn.py:736: UserWarning: 'verbose' argument is deprecated and will be removed in a future release of LightGBM. Pass 'log_evaluation()' callback via 'callbacks' argument instead.\n",
      "  _log_warning(\"'verbose' argument is deprecated and will be removed in a future release of LightGBM. \"\n"
     ]
    },
    {
     "name": "stdout",
     "output_type": "stream",
     "text": [
      "[100]\ttraining's auc: 0.770007\ttraining's binary_logloss: 0.245963\tvalid_1's auc: 0.753841\tvalid_1's binary_logloss: 0.249248\n",
      "[200]\ttraining's auc: 0.787888\ttraining's binary_logloss: 0.238339\tvalid_1's auc: 0.765022\tvalid_1's binary_logloss: 0.244582\n",
      "[300]\ttraining's auc: 0.799279\ttraining's binary_logloss: 0.233956\tvalid_1's auc: 0.770249\tvalid_1's binary_logloss: 0.242725\n",
      "[400]\ttraining's auc: 0.808167\ttraining's binary_logloss: 0.230629\tvalid_1's auc: 0.772771\tvalid_1's binary_logloss: 0.241822\n",
      "[500]\ttraining's auc: 0.815874\ttraining's binary_logloss: 0.227723\tvalid_1's auc: 0.774539\tvalid_1's binary_logloss: 0.24121\n",
      "| \u001b[0m11       \u001b[0m | \u001b[0m0.7745   \u001b[0m | \u001b[0m0.9634   \u001b[0m | \u001b[0m481.1    \u001b[0m | \u001b[0m9.868    \u001b[0m | \u001b[0m154.2    \u001b[0m | \u001b[0m16.6     \u001b[0m | \u001b[0m56.71    \u001b[0m | \u001b[0m33.91    \u001b[0m | \u001b[0m3.129    \u001b[0m | \u001b[0m0.5961   \u001b[0m |\n"
     ]
    },
    {
     "name": "stderr",
     "output_type": "stream",
     "text": [
      "c:\\Python310\\lib\\site-packages\\lightgbm\\sklearn.py:726: UserWarning: 'early_stopping_rounds' argument is deprecated and will be removed in a future release of LightGBM. Pass 'early_stopping()' callback via 'callbacks' argument instead.\n",
      "  _log_warning(\"'early_stopping_rounds' argument is deprecated and will be removed in a future release of LightGBM. \"\n",
      "c:\\Python310\\lib\\site-packages\\lightgbm\\sklearn.py:736: UserWarning: 'verbose' argument is deprecated and will be removed in a future release of LightGBM. Pass 'log_evaluation()' callback via 'callbacks' argument instead.\n",
      "  _log_warning(\"'verbose' argument is deprecated and will be removed in a future release of LightGBM. \"\n"
     ]
    },
    {
     "name": "stdout",
     "output_type": "stream",
     "text": [
      "[100]\ttraining's auc: 0.763226\ttraining's binary_logloss: 0.247801\tvalid_1's auc: 0.752095\tvalid_1's binary_logloss: 0.249798\n",
      "[200]\ttraining's auc: 0.77946\ttraining's binary_logloss: 0.241003\tvalid_1's auc: 0.763433\tvalid_1's binary_logloss: 0.245092\n",
      "[300]\ttraining's auc: 0.789185\ttraining's binary_logloss: 0.237314\tvalid_1's auc: 0.768657\tvalid_1's binary_logloss: 0.243225\n",
      "[400]\ttraining's auc: 0.796367\ttraining's binary_logloss: 0.234679\tvalid_1's auc: 0.771542\tvalid_1's binary_logloss: 0.242257\n",
      "[500]\ttraining's auc: 0.802338\ttraining's binary_logloss: 0.232511\tvalid_1's auc: 0.77342\tvalid_1's binary_logloss: 0.241615\n",
      "| \u001b[0m12       \u001b[0m | \u001b[0m0.7734   \u001b[0m | \u001b[0m0.9757   \u001b[0m | \u001b[0m283.0    \u001b[0m | \u001b[0m14.43    \u001b[0m | \u001b[0m42.81    \u001b[0m | \u001b[0m40.66    \u001b[0m | \u001b[0m37.7     \u001b[0m | \u001b[0m37.45    \u001b[0m | \u001b[0m8.349    \u001b[0m | \u001b[0m0.6578   \u001b[0m |\n"
     ]
    },
    {
     "name": "stderr",
     "output_type": "stream",
     "text": [
      "c:\\Python310\\lib\\site-packages\\lightgbm\\sklearn.py:726: UserWarning: 'early_stopping_rounds' argument is deprecated and will be removed in a future release of LightGBM. Pass 'early_stopping()' callback via 'callbacks' argument instead.\n",
      "  _log_warning(\"'early_stopping_rounds' argument is deprecated and will be removed in a future release of LightGBM. \"\n",
      "c:\\Python310\\lib\\site-packages\\lightgbm\\sklearn.py:736: UserWarning: 'verbose' argument is deprecated and will be removed in a future release of LightGBM. Pass 'log_evaluation()' callback via 'callbacks' argument instead.\n",
      "  _log_warning(\"'verbose' argument is deprecated and will be removed in a future release of LightGBM. \"\n"
     ]
    },
    {
     "name": "stdout",
     "output_type": "stream",
     "text": [
      "[100]\ttraining's auc: 0.764623\ttraining's binary_logloss: 0.247222\tvalid_1's auc: 0.753795\tvalid_1's binary_logloss: 0.249262\n",
      "[200]\ttraining's auc: 0.781528\ttraining's binary_logloss: 0.240238\tvalid_1's auc: 0.764755\tvalid_1's binary_logloss: 0.244614\n",
      "[300]\ttraining's auc: 0.792153\ttraining's binary_logloss: 0.236255\tvalid_1's auc: 0.769977\tvalid_1's binary_logloss: 0.242765\n",
      "[400]\ttraining's auc: 0.800162\ttraining's binary_logloss: 0.233345\tvalid_1's auc: 0.772366\tvalid_1's binary_logloss: 0.241925\n",
      "[500]\ttraining's auc: 0.80709\ttraining's binary_logloss: 0.230862\tvalid_1's auc: 0.773862\tvalid_1's binary_logloss: 0.24141\n",
      "| \u001b[0m13       \u001b[0m | \u001b[0m0.7739   \u001b[0m | \u001b[0m0.8052   \u001b[0m | \u001b[0m32.11    \u001b[0m | \u001b[0m10.36    \u001b[0m | \u001b[0m99.46    \u001b[0m | \u001b[0m7.165    \u001b[0m | \u001b[0m36.61    \u001b[0m | \u001b[0m12.09    \u001b[0m | \u001b[0m8.402    \u001b[0m | \u001b[0m0.9259   \u001b[0m |\n"
     ]
    },
    {
     "name": "stderr",
     "output_type": "stream",
     "text": [
      "c:\\Python310\\lib\\site-packages\\lightgbm\\sklearn.py:726: UserWarning: 'early_stopping_rounds' argument is deprecated and will be removed in a future release of LightGBM. Pass 'early_stopping()' callback via 'callbacks' argument instead.\n",
      "  _log_warning(\"'early_stopping_rounds' argument is deprecated and will be removed in a future release of LightGBM. \"\n",
      "c:\\Python310\\lib\\site-packages\\lightgbm\\sklearn.py:736: UserWarning: 'verbose' argument is deprecated and will be removed in a future release of LightGBM. Pass 'log_evaluation()' callback via 'callbacks' argument instead.\n",
      "  _log_warning(\"'verbose' argument is deprecated and will be removed in a future release of LightGBM. \"\n"
     ]
    },
    {
     "name": "stdout",
     "output_type": "stream",
     "text": [
      "[100]\ttraining's auc: 0.775925\ttraining's binary_logloss: 0.245031\tvalid_1's auc: 0.75946\tvalid_1's binary_logloss: 0.248299\n",
      "[200]\ttraining's auc: 0.793424\ttraining's binary_logloss: 0.236695\tvalid_1's auc: 0.76858\tvalid_1's binary_logloss: 0.24342\n",
      "[300]\ttraining's auc: 0.806262\ttraining's binary_logloss: 0.231617\tvalid_1's auc: 0.772687\tvalid_1's binary_logloss: 0.241754\n",
      "[400]\ttraining's auc: 0.81745\ttraining's binary_logloss: 0.227443\tvalid_1's auc: 0.7747\tvalid_1's binary_logloss: 0.24104\n",
      "[500]\ttraining's auc: 0.827298\ttraining's binary_logloss: 0.223747\tvalid_1's auc: 0.775997\tvalid_1's binary_logloss: 0.240552\n",
      "| \u001b[0m14       \u001b[0m | \u001b[0m0.776    \u001b[0m | \u001b[0m0.5144   \u001b[0m | \u001b[0m113.2    \u001b[0m | \u001b[0m12.86    \u001b[0m | \u001b[0m133.8    \u001b[0m | \u001b[0m48.37    \u001b[0m | \u001b[0m53.47    \u001b[0m | \u001b[0m5.095    \u001b[0m | \u001b[0m9.321    \u001b[0m | \u001b[0m0.7577   \u001b[0m |\n"
     ]
    },
    {
     "name": "stderr",
     "output_type": "stream",
     "text": [
      "c:\\Python310\\lib\\site-packages\\lightgbm\\sklearn.py:726: UserWarning: 'early_stopping_rounds' argument is deprecated and will be removed in a future release of LightGBM. Pass 'early_stopping()' callback via 'callbacks' argument instead.\n",
      "  _log_warning(\"'early_stopping_rounds' argument is deprecated and will be removed in a future release of LightGBM. \"\n",
      "c:\\Python310\\lib\\site-packages\\lightgbm\\sklearn.py:736: UserWarning: 'verbose' argument is deprecated and will be removed in a future release of LightGBM. Pass 'log_evaluation()' callback via 'callbacks' argument instead.\n",
      "  _log_warning(\"'verbose' argument is deprecated and will be removed in a future release of LightGBM. \"\n"
     ]
    },
    {
     "name": "stdout",
     "output_type": "stream",
     "text": [
      "[100]\ttraining's auc: 0.764634\ttraining's binary_logloss: 0.248309\tvalid_1's auc: 0.753414\tvalid_1's binary_logloss: 0.250233\n",
      "[200]\ttraining's auc: 0.778645\ttraining's binary_logloss: 0.241606\tvalid_1's auc: 0.76285\tvalid_1's binary_logloss: 0.24549\n",
      "[300]\ttraining's auc: 0.787346\ttraining's binary_logloss: 0.23813\tvalid_1's auc: 0.767485\tvalid_1's binary_logloss: 0.243675\n",
      "[400]\ttraining's auc: 0.794185\ttraining's binary_logloss: 0.235575\tvalid_1's auc: 0.770536\tvalid_1's binary_logloss: 0.242606\n",
      "[500]\ttraining's auc: 0.799812\ttraining's binary_logloss: 0.233516\tvalid_1's auc: 0.772497\tvalid_1's binary_logloss: 0.241942\n",
      "| \u001b[0m15       \u001b[0m | \u001b[0m0.7725   \u001b[0m | \u001b[0m0.595    \u001b[0m | \u001b[0m180.3    \u001b[0m | \u001b[0m15.83    \u001b[0m | \u001b[0m64.95    \u001b[0m | \u001b[0m22.79    \u001b[0m | \u001b[0m41.12    \u001b[0m | \u001b[0m45.48    \u001b[0m | \u001b[0m8.293    \u001b[0m | \u001b[0m0.9934   \u001b[0m |\n"
     ]
    },
    {
     "name": "stderr",
     "output_type": "stream",
     "text": [
      "c:\\Python310\\lib\\site-packages\\lightgbm\\sklearn.py:726: UserWarning: 'early_stopping_rounds' argument is deprecated and will be removed in a future release of LightGBM. Pass 'early_stopping()' callback via 'callbacks' argument instead.\n",
      "  _log_warning(\"'early_stopping_rounds' argument is deprecated and will be removed in a future release of LightGBM. \"\n",
      "c:\\Python310\\lib\\site-packages\\lightgbm\\sklearn.py:736: UserWarning: 'verbose' argument is deprecated and will be removed in a future release of LightGBM. Pass 'log_evaluation()' callback via 'callbacks' argument instead.\n",
      "  _log_warning(\"'verbose' argument is deprecated and will be removed in a future release of LightGBM. \"\n"
     ]
    },
    {
     "name": "stdout",
     "output_type": "stream",
     "text": [
      "[100]\ttraining's auc: 0.761172\ttraining's binary_logloss: 0.24835\tvalid_1's auc: 0.75341\tvalid_1's binary_logloss: 0.249572\n",
      "[200]\ttraining's auc: 0.777152\ttraining's binary_logloss: 0.241735\tvalid_1's auc: 0.764446\tvalid_1's binary_logloss: 0.244778\n",
      "[300]\ttraining's auc: 0.786583\ttraining's binary_logloss: 0.238109\tvalid_1's auc: 0.769196\tvalid_1's binary_logloss: 0.24294\n",
      "[400]\ttraining's auc: 0.793736\ttraining's binary_logloss: 0.235477\tvalid_1's auc: 0.771777\tvalid_1's binary_logloss: 0.24202\n",
      "[500]\ttraining's auc: 0.799829\ttraining's binary_logloss: 0.233293\tvalid_1's auc: 0.773461\tvalid_1's binary_logloss: 0.241433\n",
      "| \u001b[0m16       \u001b[0m | \u001b[0m0.7735   \u001b[0m | \u001b[0m0.7062   \u001b[0m | \u001b[0m41.45    \u001b[0m | \u001b[0m6.223    \u001b[0m | \u001b[0m179.6    \u001b[0m | \u001b[0m9.368    \u001b[0m | \u001b[0m26.71    \u001b[0m | \u001b[0m1.877    \u001b[0m | \u001b[0m9.575    \u001b[0m | \u001b[0m0.6605   \u001b[0m |\n"
     ]
    },
    {
     "name": "stderr",
     "output_type": "stream",
     "text": [
      "c:\\Python310\\lib\\site-packages\\lightgbm\\sklearn.py:726: UserWarning: 'early_stopping_rounds' argument is deprecated and will be removed in a future release of LightGBM. Pass 'early_stopping()' callback via 'callbacks' argument instead.\n",
      "  _log_warning(\"'early_stopping_rounds' argument is deprecated and will be removed in a future release of LightGBM. \"\n",
      "c:\\Python310\\lib\\site-packages\\lightgbm\\sklearn.py:736: UserWarning: 'verbose' argument is deprecated and will be removed in a future release of LightGBM. Pass 'log_evaluation()' callback via 'callbacks' argument instead.\n",
      "  _log_warning(\"'verbose' argument is deprecated and will be removed in a future release of LightGBM. \"\n"
     ]
    },
    {
     "name": "stdout",
     "output_type": "stream",
     "text": [
      "[100]\ttraining's auc: 0.768084\ttraining's binary_logloss: 0.246523\tvalid_1's auc: 0.753594\tvalid_1's binary_logloss: 0.24943\n",
      "[200]\ttraining's auc: 0.785086\ttraining's binary_logloss: 0.239207\tvalid_1's auc: 0.76449\tvalid_1's binary_logloss: 0.244793\n",
      "[300]\ttraining's auc: 0.795791\ttraining's binary_logloss: 0.235079\tvalid_1's auc: 0.769624\tvalid_1's binary_logloss: 0.242965\n",
      "[400]\ttraining's auc: 0.804105\ttraining's binary_logloss: 0.231989\tvalid_1's auc: 0.772377\tvalid_1's binary_logloss: 0.242009\n",
      "[500]\ttraining's auc: 0.811215\ttraining's binary_logloss: 0.229364\tvalid_1's auc: 0.773913\tvalid_1's binary_logloss: 0.241486\n",
      "| \u001b[0m17       \u001b[0m | \u001b[0m0.7739   \u001b[0m | \u001b[0m0.8955   \u001b[0m | \u001b[0m221.6    \u001b[0m | \u001b[0m9.909    \u001b[0m | \u001b[0m120.5    \u001b[0m | \u001b[0m14.62    \u001b[0m | \u001b[0m50.54    \u001b[0m | \u001b[0m34.58    \u001b[0m | \u001b[0m1.319    \u001b[0m | \u001b[0m0.7147   \u001b[0m |\n"
     ]
    },
    {
     "name": "stderr",
     "output_type": "stream",
     "text": [
      "c:\\Python310\\lib\\site-packages\\lightgbm\\sklearn.py:726: UserWarning: 'early_stopping_rounds' argument is deprecated and will be removed in a future release of LightGBM. Pass 'early_stopping()' callback via 'callbacks' argument instead.\n",
      "  _log_warning(\"'early_stopping_rounds' argument is deprecated and will be removed in a future release of LightGBM. \"\n",
      "c:\\Python310\\lib\\site-packages\\lightgbm\\sklearn.py:736: UserWarning: 'verbose' argument is deprecated and will be removed in a future release of LightGBM. Pass 'log_evaluation()' callback via 'callbacks' argument instead.\n",
      "  _log_warning(\"'verbose' argument is deprecated and will be removed in a future release of LightGBM. \"\n"
     ]
    },
    {
     "name": "stdout",
     "output_type": "stream",
     "text": [
      "[100]\ttraining's auc: 0.766219\ttraining's binary_logloss: 0.247154\tvalid_1's auc: 0.754685\tvalid_1's binary_logloss: 0.249306\n",
      "[200]\ttraining's auc: 0.78256\ttraining's binary_logloss: 0.240111\tvalid_1's auc: 0.76543\tvalid_1's binary_logloss: 0.244564\n",
      "[300]\ttraining's auc: 0.792787\ttraining's binary_logloss: 0.236177\tvalid_1's auc: 0.770647\tvalid_1's binary_logloss: 0.242659\n",
      "[400]\ttraining's auc: 0.800571\ttraining's binary_logloss: 0.233297\tvalid_1's auc: 0.77327\tvalid_1's binary_logloss: 0.241723\n",
      "[500]\ttraining's auc: 0.807223\ttraining's binary_logloss: 0.23088\tvalid_1's auc: 0.774683\tvalid_1's binary_logloss: 0.241215\n",
      "| \u001b[0m18       \u001b[0m | \u001b[0m0.7747   \u001b[0m | \u001b[0m0.6853   \u001b[0m | \u001b[0m155.6    \u001b[0m | \u001b[0m16.0     \u001b[0m | \u001b[0m120.8    \u001b[0m | \u001b[0m40.93    \u001b[0m | \u001b[0m40.18    \u001b[0m | \u001b[0m24.13    \u001b[0m | \u001b[0m2.289    \u001b[0m | \u001b[0m0.5043   \u001b[0m |\n"
     ]
    },
    {
     "name": "stderr",
     "output_type": "stream",
     "text": [
      "c:\\Python310\\lib\\site-packages\\lightgbm\\sklearn.py:726: UserWarning: 'early_stopping_rounds' argument is deprecated and will be removed in a future release of LightGBM. Pass 'early_stopping()' callback via 'callbacks' argument instead.\n",
      "  _log_warning(\"'early_stopping_rounds' argument is deprecated and will be removed in a future release of LightGBM. \"\n",
      "c:\\Python310\\lib\\site-packages\\lightgbm\\sklearn.py:736: UserWarning: 'verbose' argument is deprecated and will be removed in a future release of LightGBM. Pass 'log_evaluation()' callback via 'callbacks' argument instead.\n",
      "  _log_warning(\"'verbose' argument is deprecated and will be removed in a future release of LightGBM. \"\n"
     ]
    },
    {
     "name": "stdout",
     "output_type": "stream",
     "text": [
      "[100]\ttraining's auc: 0.765396\ttraining's binary_logloss: 0.247426\tvalid_1's auc: 0.755146\tvalid_1's binary_logloss: 0.249334\n",
      "[200]\ttraining's auc: 0.780913\ttraining's binary_logloss: 0.240536\tvalid_1's auc: 0.765481\tvalid_1's binary_logloss: 0.244517\n",
      "[300]\ttraining's auc: 0.790712\ttraining's binary_logloss: 0.236718\tvalid_1's auc: 0.770699\tvalid_1's binary_logloss: 0.24255\n",
      "[400]\ttraining's auc: 0.797853\ttraining's binary_logloss: 0.234028\tvalid_1's auc: 0.773339\tvalid_1's binary_logloss: 0.241593\n",
      "[500]\ttraining's auc: 0.804101\ttraining's binary_logloss: 0.231729\tvalid_1's auc: 0.775071\tvalid_1's binary_logloss: 0.240992\n",
      "| \u001b[0m19       \u001b[0m | \u001b[0m0.7751   \u001b[0m | \u001b[0m0.6009   \u001b[0m | \u001b[0m294.2    \u001b[0m | \u001b[0m6.992    \u001b[0m | \u001b[0m61.34    \u001b[0m | \u001b[0m19.63    \u001b[0m | \u001b[0m33.36    \u001b[0m | \u001b[0m12.7     \u001b[0m | \u001b[0m7.577    \u001b[0m | \u001b[0m0.7208   \u001b[0m |\n"
     ]
    },
    {
     "name": "stderr",
     "output_type": "stream",
     "text": [
      "c:\\Python310\\lib\\site-packages\\lightgbm\\sklearn.py:726: UserWarning: 'early_stopping_rounds' argument is deprecated and will be removed in a future release of LightGBM. Pass 'early_stopping()' callback via 'callbacks' argument instead.\n",
      "  _log_warning(\"'early_stopping_rounds' argument is deprecated and will be removed in a future release of LightGBM. \"\n",
      "c:\\Python310\\lib\\site-packages\\lightgbm\\sklearn.py:736: UserWarning: 'verbose' argument is deprecated and will be removed in a future release of LightGBM. Pass 'log_evaluation()' callback via 'callbacks' argument instead.\n",
      "  _log_warning(\"'verbose' argument is deprecated and will be removed in a future release of LightGBM. \"\n"
     ]
    },
    {
     "name": "stdout",
     "output_type": "stream",
     "text": [
      "[100]\ttraining's auc: 0.759603\ttraining's binary_logloss: 0.249118\tvalid_1's auc: 0.751783\tvalid_1's binary_logloss: 0.250329\n",
      "[200]\ttraining's auc: 0.774098\ttraining's binary_logloss: 0.242908\tvalid_1's auc: 0.762703\tvalid_1's binary_logloss: 0.245568\n",
      "[300]\ttraining's auc: 0.782236\ttraining's binary_logloss: 0.239743\tvalid_1's auc: 0.767983\tvalid_1's binary_logloss: 0.243591\n",
      "[400]\ttraining's auc: 0.787941\ttraining's binary_logloss: 0.23759\tvalid_1's auc: 0.770969\tvalid_1's binary_logloss: 0.242509\n",
      "[500]\ttraining's auc: 0.792417\ttraining's binary_logloss: 0.235916\tvalid_1's auc: 0.77268\tvalid_1's binary_logloss: 0.241866\n",
      "| \u001b[0m20       \u001b[0m | \u001b[0m0.7727   \u001b[0m | \u001b[0m0.8361   \u001b[0m | \u001b[0m180.4    \u001b[0m | \u001b[0m6.4      \u001b[0m | \u001b[0m137.9    \u001b[0m | \u001b[0m34.23    \u001b[0m | \u001b[0m28.65    \u001b[0m | \u001b[0m38.12    \u001b[0m | \u001b[0m9.619    \u001b[0m | \u001b[0m0.6246   \u001b[0m |\n"
     ]
    },
    {
     "name": "stderr",
     "output_type": "stream",
     "text": [
      "c:\\Python310\\lib\\site-packages\\lightgbm\\sklearn.py:726: UserWarning: 'early_stopping_rounds' argument is deprecated and will be removed in a future release of LightGBM. Pass 'early_stopping()' callback via 'callbacks' argument instead.\n",
      "  _log_warning(\"'early_stopping_rounds' argument is deprecated and will be removed in a future release of LightGBM. \"\n",
      "c:\\Python310\\lib\\site-packages\\lightgbm\\sklearn.py:736: UserWarning: 'verbose' argument is deprecated and will be removed in a future release of LightGBM. Pass 'log_evaluation()' callback via 'callbacks' argument instead.\n",
      "  _log_warning(\"'verbose' argument is deprecated and will be removed in a future release of LightGBM. \"\n"
     ]
    },
    {
     "name": "stdout",
     "output_type": "stream",
     "text": [
      "[100]\ttraining's auc: 0.765749\ttraining's binary_logloss: 0.24721\tvalid_1's auc: 0.752813\tvalid_1's binary_logloss: 0.24969\n",
      "[200]\ttraining's auc: 0.782274\ttraining's binary_logloss: 0.240166\tvalid_1's auc: 0.763962\tvalid_1's binary_logloss: 0.244975\n",
      "[300]\ttraining's auc: 0.792311\ttraining's binary_logloss: 0.236308\tvalid_1's auc: 0.769222\tvalid_1's binary_logloss: 0.243086\n",
      "[400]\ttraining's auc: 0.79999\ttraining's binary_logloss: 0.233475\tvalid_1's auc: 0.772065\tvalid_1's binary_logloss: 0.242109\n",
      "[500]\ttraining's auc: 0.806447\ttraining's binary_logloss: 0.231083\tvalid_1's auc: 0.773818\tvalid_1's binary_logloss: 0.241504\n",
      "| \u001b[0m21       \u001b[0m | \u001b[0m0.7738   \u001b[0m | \u001b[0m0.937    \u001b[0m | \u001b[0m404.9    \u001b[0m | \u001b[0m8.822    \u001b[0m | \u001b[0m146.4    \u001b[0m | \u001b[0m11.05    \u001b[0m | \u001b[0m46.34    \u001b[0m | \u001b[0m41.82    \u001b[0m | \u001b[0m4.554    \u001b[0m | \u001b[0m0.8903   \u001b[0m |\n"
     ]
    },
    {
     "name": "stderr",
     "output_type": "stream",
     "text": [
      "c:\\Python310\\lib\\site-packages\\lightgbm\\sklearn.py:726: UserWarning: 'early_stopping_rounds' argument is deprecated and will be removed in a future release of LightGBM. Pass 'early_stopping()' callback via 'callbacks' argument instead.\n",
      "  _log_warning(\"'early_stopping_rounds' argument is deprecated and will be removed in a future release of LightGBM. \"\n",
      "c:\\Python310\\lib\\site-packages\\lightgbm\\sklearn.py:736: UserWarning: 'verbose' argument is deprecated and will be removed in a future release of LightGBM. Pass 'log_evaluation()' callback via 'callbacks' argument instead.\n",
      "  _log_warning(\"'verbose' argument is deprecated and will be removed in a future release of LightGBM. \"\n"
     ]
    },
    {
     "name": "stdout",
     "output_type": "stream",
     "text": [
      "[100]\ttraining's auc: 0.768877\ttraining's binary_logloss: 0.246325\tvalid_1's auc: 0.754479\tvalid_1's binary_logloss: 0.2491\n",
      "[200]\ttraining's auc: 0.786097\ttraining's binary_logloss: 0.239048\tvalid_1's auc: 0.765392\tvalid_1's binary_logloss: 0.244453\n",
      "[300]\ttraining's auc: 0.796442\ttraining's binary_logloss: 0.234969\tvalid_1's auc: 0.770484\tvalid_1's binary_logloss: 0.242593\n",
      "[400]\ttraining's auc: 0.804156\ttraining's binary_logloss: 0.232014\tvalid_1's auc: 0.772846\tvalid_1's binary_logloss: 0.241739\n",
      "[500]\ttraining's auc: 0.810798\ttraining's binary_logloss: 0.229503\tvalid_1's auc: 0.774352\tvalid_1's binary_logloss: 0.24118\n",
      "| \u001b[0m22       \u001b[0m | \u001b[0m0.7744   \u001b[0m | \u001b[0m0.9717   \u001b[0m | \u001b[0m233.6    \u001b[0m | \u001b[0m7.091    \u001b[0m | \u001b[0m129.2    \u001b[0m | \u001b[0m16.19    \u001b[0m | \u001b[0m54.22    \u001b[0m | \u001b[0m26.29    \u001b[0m | \u001b[0m5.379    \u001b[0m | \u001b[0m0.922    \u001b[0m |\n"
     ]
    },
    {
     "name": "stderr",
     "output_type": "stream",
     "text": [
      "c:\\Python310\\lib\\site-packages\\lightgbm\\sklearn.py:726: UserWarning: 'early_stopping_rounds' argument is deprecated and will be removed in a future release of LightGBM. Pass 'early_stopping()' callback via 'callbacks' argument instead.\n",
      "  _log_warning(\"'early_stopping_rounds' argument is deprecated and will be removed in a future release of LightGBM. \"\n",
      "c:\\Python310\\lib\\site-packages\\lightgbm\\sklearn.py:736: UserWarning: 'verbose' argument is deprecated and will be removed in a future release of LightGBM. Pass 'log_evaluation()' callback via 'callbacks' argument instead.\n",
      "  _log_warning(\"'verbose' argument is deprecated and will be removed in a future release of LightGBM. \"\n"
     ]
    },
    {
     "name": "stdout",
     "output_type": "stream",
     "text": [
      "[100]\ttraining's auc: 0.767273\ttraining's binary_logloss: 0.246934\tvalid_1's auc: 0.754059\tvalid_1's binary_logloss: 0.249432\n",
      "[200]\ttraining's auc: 0.78356\ttraining's binary_logloss: 0.239832\tvalid_1's auc: 0.764784\tvalid_1's binary_logloss: 0.244712\n",
      "[300]\ttraining's auc: 0.793858\ttraining's binary_logloss: 0.235846\tvalid_1's auc: 0.770016\tvalid_1's binary_logloss: 0.242821\n",
      "[400]\ttraining's auc: 0.801742\ttraining's binary_logloss: 0.232882\tvalid_1's auc: 0.772783\tvalid_1's binary_logloss: 0.241847\n",
      "[500]\ttraining's auc: 0.808444\ttraining's binary_logloss: 0.230439\tvalid_1's auc: 0.774425\tvalid_1's binary_logloss: 0.24127\n",
      "| \u001b[0m23       \u001b[0m | \u001b[0m0.7744   \u001b[0m | \u001b[0m0.7888   \u001b[0m | \u001b[0m360.7    \u001b[0m | \u001b[0m9.317    \u001b[0m | \u001b[0m77.34    \u001b[0m | \u001b[0m31.8     \u001b[0m | \u001b[0m47.15    \u001b[0m | \u001b[0m33.48    \u001b[0m | \u001b[0m5.403    \u001b[0m | \u001b[0m0.9758   \u001b[0m |\n"
     ]
    },
    {
     "name": "stderr",
     "output_type": "stream",
     "text": [
      "c:\\Python310\\lib\\site-packages\\lightgbm\\sklearn.py:726: UserWarning: 'early_stopping_rounds' argument is deprecated and will be removed in a future release of LightGBM. Pass 'early_stopping()' callback via 'callbacks' argument instead.\n",
      "  _log_warning(\"'early_stopping_rounds' argument is deprecated and will be removed in a future release of LightGBM. \"\n",
      "c:\\Python310\\lib\\site-packages\\lightgbm\\sklearn.py:736: UserWarning: 'verbose' argument is deprecated and will be removed in a future release of LightGBM. Pass 'log_evaluation()' callback via 'callbacks' argument instead.\n",
      "  _log_warning(\"'verbose' argument is deprecated and will be removed in a future release of LightGBM. \"\n"
     ]
    },
    {
     "name": "stdout",
     "output_type": "stream",
     "text": [
      "[100]\ttraining's auc: 0.757725\ttraining's binary_logloss: 0.249271\tvalid_1's auc: 0.750678\tvalid_1's binary_logloss: 0.250329\n",
      "[200]\ttraining's auc: 0.772861\ttraining's binary_logloss: 0.243097\tvalid_1's auc: 0.762139\tvalid_1's binary_logloss: 0.245614\n",
      "[300]\ttraining's auc: 0.781629\ttraining's binary_logloss: 0.239851\tvalid_1's auc: 0.767759\tvalid_1's binary_logloss: 0.243595\n",
      "[400]\ttraining's auc: 0.787434\ttraining's binary_logloss: 0.237708\tvalid_1's auc: 0.770491\tvalid_1's binary_logloss: 0.242603\n",
      "[500]\ttraining's auc: 0.792209\ttraining's binary_logloss: 0.236001\tvalid_1's auc: 0.772203\tvalid_1's binary_logloss: 0.241994\n",
      "| \u001b[0m24       \u001b[0m | \u001b[0m0.7722   \u001b[0m | \u001b[0m0.8967   \u001b[0m | \u001b[0m75.06    \u001b[0m | \u001b[0m13.24    \u001b[0m | \u001b[0m175.7    \u001b[0m | \u001b[0m12.26    \u001b[0m | \u001b[0m26.07    \u001b[0m | \u001b[0m35.86    \u001b[0m | \u001b[0m9.655    \u001b[0m | \u001b[0m0.5453   \u001b[0m |\n"
     ]
    },
    {
     "name": "stderr",
     "output_type": "stream",
     "text": [
      "c:\\Python310\\lib\\site-packages\\lightgbm\\sklearn.py:726: UserWarning: 'early_stopping_rounds' argument is deprecated and will be removed in a future release of LightGBM. Pass 'early_stopping()' callback via 'callbacks' argument instead.\n",
      "  _log_warning(\"'early_stopping_rounds' argument is deprecated and will be removed in a future release of LightGBM. \"\n",
      "c:\\Python310\\lib\\site-packages\\lightgbm\\sklearn.py:736: UserWarning: 'verbose' argument is deprecated and will be removed in a future release of LightGBM. Pass 'log_evaluation()' callback via 'callbacks' argument instead.\n",
      "  _log_warning(\"'verbose' argument is deprecated and will be removed in a future release of LightGBM. \"\n"
     ]
    },
    {
     "name": "stdout",
     "output_type": "stream",
     "text": [
      "[100]\ttraining's auc: 0.76713\ttraining's binary_logloss: 0.246973\tvalid_1's auc: 0.753158\tvalid_1's binary_logloss: 0.249747\n",
      "[200]\ttraining's auc: 0.783592\ttraining's binary_logloss: 0.239805\tvalid_1's auc: 0.763924\tvalid_1's binary_logloss: 0.245071\n",
      "[300]\ttraining's auc: 0.794051\ttraining's binary_logloss: 0.235812\tvalid_1's auc: 0.768936\tvalid_1's binary_logloss: 0.243251\n",
      "[400]\ttraining's auc: 0.801858\ttraining's binary_logloss: 0.232933\tvalid_1's auc: 0.77196\tvalid_1's binary_logloss: 0.242253\n",
      "[500]\ttraining's auc: 0.808582\ttraining's binary_logloss: 0.230488\tvalid_1's auc: 0.773651\tvalid_1's binary_logloss: 0.241662\n",
      "| \u001b[0m25       \u001b[0m | \u001b[0m0.7737   \u001b[0m | \u001b[0m0.8264   \u001b[0m | \u001b[0m482.0    \u001b[0m | \u001b[0m14.41    \u001b[0m | \u001b[0m111.9    \u001b[0m | \u001b[0m1.149    \u001b[0m | \u001b[0m49.73    \u001b[0m | \u001b[0m44.7     \u001b[0m | \u001b[0m0.06606  \u001b[0m | \u001b[0m0.6456   \u001b[0m |\n"
     ]
    },
    {
     "name": "stderr",
     "output_type": "stream",
     "text": [
      "c:\\Python310\\lib\\site-packages\\lightgbm\\sklearn.py:726: UserWarning: 'early_stopping_rounds' argument is deprecated and will be removed in a future release of LightGBM. Pass 'early_stopping()' callback via 'callbacks' argument instead.\n",
      "  _log_warning(\"'early_stopping_rounds' argument is deprecated and will be removed in a future release of LightGBM. \"\n",
      "c:\\Python310\\lib\\site-packages\\lightgbm\\sklearn.py:736: UserWarning: 'verbose' argument is deprecated and will be removed in a future release of LightGBM. Pass 'log_evaluation()' callback via 'callbacks' argument instead.\n",
      "  _log_warning(\"'verbose' argument is deprecated and will be removed in a future release of LightGBM. \"\n"
     ]
    },
    {
     "name": "stdout",
     "output_type": "stream",
     "text": [
      "[100]\ttraining's auc: 0.777145\ttraining's binary_logloss: 0.244225\tvalid_1's auc: 0.758342\tvalid_1's binary_logloss: 0.248192\n",
      "[200]\ttraining's auc: 0.796038\ttraining's binary_logloss: 0.235651\tvalid_1's auc: 0.768443\tvalid_1's binary_logloss: 0.243431\n",
      "[300]\ttraining's auc: 0.80981\ttraining's binary_logloss: 0.230226\tvalid_1's auc: 0.773393\tvalid_1's binary_logloss: 0.241591\n",
      "[400]\ttraining's auc: 0.821475\ttraining's binary_logloss: 0.225829\tvalid_1's auc: 0.775757\tvalid_1's binary_logloss: 0.24074\n",
      "[500]\ttraining's auc: 0.831886\ttraining's binary_logloss: 0.221888\tvalid_1's auc: 0.777286\tvalid_1's binary_logloss: 0.240192\n",
      "| \u001b[95m26       \u001b[0m | \u001b[95m0.7773   \u001b[0m | \u001b[95m0.6791   \u001b[0m | \u001b[95m495.6    \u001b[0m | \u001b[95m13.5     \u001b[0m | \u001b[95m154.9    \u001b[0m | \u001b[95m41.06    \u001b[0m | \u001b[95m59.61    \u001b[0m | \u001b[95m10.89    \u001b[0m | \u001b[95m7.263    \u001b[0m | \u001b[95m0.9834   \u001b[0m |\n"
     ]
    },
    {
     "name": "stderr",
     "output_type": "stream",
     "text": [
      "c:\\Python310\\lib\\site-packages\\lightgbm\\sklearn.py:726: UserWarning: 'early_stopping_rounds' argument is deprecated and will be removed in a future release of LightGBM. Pass 'early_stopping()' callback via 'callbacks' argument instead.\n",
      "  _log_warning(\"'early_stopping_rounds' argument is deprecated and will be removed in a future release of LightGBM. \"\n",
      "c:\\Python310\\lib\\site-packages\\lightgbm\\sklearn.py:736: UserWarning: 'verbose' argument is deprecated and will be removed in a future release of LightGBM. Pass 'log_evaluation()' callback via 'callbacks' argument instead.\n",
      "  _log_warning(\"'verbose' argument is deprecated and will be removed in a future release of LightGBM. \"\n"
     ]
    },
    {
     "name": "stdout",
     "output_type": "stream",
     "text": [
      "[100]\ttraining's auc: 0.779513\ttraining's binary_logloss: 0.242562\tvalid_1's auc: 0.758305\tvalid_1's binary_logloss: 0.247564\n",
      "[200]\ttraining's auc: 0.801996\ttraining's binary_logloss: 0.233156\tvalid_1's auc: 0.769182\tvalid_1's binary_logloss: 0.243\n",
      "[300]\ttraining's auc: 0.817809\ttraining's binary_logloss: 0.227005\tvalid_1's auc: 0.773205\tvalid_1's binary_logloss: 0.241551\n",
      "[400]\ttraining's auc: 0.831313\ttraining's binary_logloss: 0.22181\tvalid_1's auc: 0.775798\tvalid_1's binary_logloss: 0.240638\n",
      "[500]\ttraining's auc: 0.843017\ttraining's binary_logloss: 0.217342\tvalid_1's auc: 0.777013\tvalid_1's binary_logloss: 0.240222\n",
      "| \u001b[0m27       \u001b[0m | \u001b[0m0.777    \u001b[0m | \u001b[0m0.9566   \u001b[0m | \u001b[0m402.0    \u001b[0m | \u001b[0m10.79    \u001b[0m | \u001b[0m41.55    \u001b[0m | \u001b[0m26.34    \u001b[0m | \u001b[0m62.53    \u001b[0m | \u001b[0m5.918    \u001b[0m | \u001b[0m2.265    \u001b[0m | \u001b[0m0.8735   \u001b[0m |\n"
     ]
    },
    {
     "name": "stderr",
     "output_type": "stream",
     "text": [
      "c:\\Python310\\lib\\site-packages\\lightgbm\\sklearn.py:726: UserWarning: 'early_stopping_rounds' argument is deprecated and will be removed in a future release of LightGBM. Pass 'early_stopping()' callback via 'callbacks' argument instead.\n",
      "  _log_warning(\"'early_stopping_rounds' argument is deprecated and will be removed in a future release of LightGBM. \"\n",
      "c:\\Python310\\lib\\site-packages\\lightgbm\\sklearn.py:736: UserWarning: 'verbose' argument is deprecated and will be removed in a future release of LightGBM. Pass 'log_evaluation()' callback via 'callbacks' argument instead.\n",
      "  _log_warning(\"'verbose' argument is deprecated and will be removed in a future release of LightGBM. \"\n"
     ]
    },
    {
     "name": "stdout",
     "output_type": "stream",
     "text": [
      "[100]\ttraining's auc: 0.782237\ttraining's binary_logloss: 0.241871\tvalid_1's auc: 0.759836\tvalid_1's binary_logloss: 0.247288\n",
      "[200]\ttraining's auc: 0.805036\ttraining's binary_logloss: 0.23209\tvalid_1's auc: 0.769754\tvalid_1's binary_logloss: 0.242751\n",
      "[300]\ttraining's auc: 0.821977\ttraining's binary_logloss: 0.225544\tvalid_1's auc: 0.773663\tvalid_1's binary_logloss: 0.241275\n",
      "[400]\ttraining's auc: 0.836157\ttraining's binary_logloss: 0.220134\tvalid_1's auc: 0.775896\tvalid_1's binary_logloss: 0.240522\n",
      "[500]\ttraining's auc: 0.848054\ttraining's binary_logloss: 0.215562\tvalid_1's auc: 0.777102\tvalid_1's binary_logloss: 0.240092\n",
      "| \u001b[0m28       \u001b[0m | \u001b[0m0.7771   \u001b[0m | \u001b[0m0.71     \u001b[0m | \u001b[0m494.0    \u001b[0m | \u001b[0m10.77    \u001b[0m | \u001b[0m162.3    \u001b[0m | \u001b[0m31.09    \u001b[0m | \u001b[0m60.92    \u001b[0m | \u001b[0m0.1603   \u001b[0m | \u001b[0m0.9464   \u001b[0m | \u001b[0m0.5215   \u001b[0m |\n"
     ]
    },
    {
     "name": "stderr",
     "output_type": "stream",
     "text": [
      "c:\\Python310\\lib\\site-packages\\lightgbm\\sklearn.py:726: UserWarning: 'early_stopping_rounds' argument is deprecated and will be removed in a future release of LightGBM. Pass 'early_stopping()' callback via 'callbacks' argument instead.\n",
      "  _log_warning(\"'early_stopping_rounds' argument is deprecated and will be removed in a future release of LightGBM. \"\n",
      "c:\\Python310\\lib\\site-packages\\lightgbm\\sklearn.py:736: UserWarning: 'verbose' argument is deprecated and will be removed in a future release of LightGBM. Pass 'log_evaluation()' callback via 'callbacks' argument instead.\n",
      "  _log_warning(\"'verbose' argument is deprecated and will be removed in a future release of LightGBM. \"\n"
     ]
    },
    {
     "name": "stdout",
     "output_type": "stream",
     "text": [
      "[100]\ttraining's auc: 0.761858\ttraining's binary_logloss: 0.247982\tvalid_1's auc: 0.753428\tvalid_1's binary_logloss: 0.249459\n",
      "[200]\ttraining's auc: 0.778724\ttraining's binary_logloss: 0.24109\tvalid_1's auc: 0.765405\tvalid_1's binary_logloss: 0.244501\n",
      "[300]\ttraining's auc: 0.7888\ttraining's binary_logloss: 0.237295\tvalid_1's auc: 0.770746\tvalid_1's binary_logloss: 0.242547\n",
      "[400]\ttraining's auc: 0.796399\ttraining's binary_logloss: 0.234516\tvalid_1's auc: 0.773817\tvalid_1's binary_logloss: 0.241459\n",
      "[500]\ttraining's auc: 0.802752\ttraining's binary_logloss: 0.232224\tvalid_1's auc: 0.775655\tvalid_1's binary_logloss: 0.240807\n",
      "| \u001b[0m29       \u001b[0m | \u001b[0m0.7757   \u001b[0m | \u001b[0m0.7145   \u001b[0m | \u001b[0m406.7    \u001b[0m | \u001b[0m14.3     \u001b[0m | \u001b[0m133.6    \u001b[0m | \u001b[0m29.27    \u001b[0m | \u001b[0m24.92    \u001b[0m | \u001b[0m6.614    \u001b[0m | \u001b[0m4.345    \u001b[0m | \u001b[0m0.5224   \u001b[0m |\n"
     ]
    },
    {
     "name": "stderr",
     "output_type": "stream",
     "text": [
      "c:\\Python310\\lib\\site-packages\\lightgbm\\sklearn.py:726: UserWarning: 'early_stopping_rounds' argument is deprecated and will be removed in a future release of LightGBM. Pass 'early_stopping()' callback via 'callbacks' argument instead.\n",
      "  _log_warning(\"'early_stopping_rounds' argument is deprecated and will be removed in a future release of LightGBM. \"\n",
      "c:\\Python310\\lib\\site-packages\\lightgbm\\sklearn.py:736: UserWarning: 'verbose' argument is deprecated and will be removed in a future release of LightGBM. Pass 'log_evaluation()' callback via 'callbacks' argument instead.\n",
      "  _log_warning(\"'verbose' argument is deprecated and will be removed in a future release of LightGBM. \"\n"
     ]
    },
    {
     "name": "stdout",
     "output_type": "stream",
     "text": [
      "[100]\ttraining's auc: 0.776723\ttraining's binary_logloss: 0.244378\tvalid_1's auc: 0.759144\tvalid_1's binary_logloss: 0.248089\n",
      "[200]\ttraining's auc: 0.795496\ttraining's binary_logloss: 0.235765\tvalid_1's auc: 0.769046\tvalid_1's binary_logloss: 0.243183\n",
      "[300]\ttraining's auc: 0.809237\ttraining's binary_logloss: 0.230399\tvalid_1's auc: 0.773284\tvalid_1's binary_logloss: 0.241536\n",
      "[400]\ttraining's auc: 0.820955\ttraining's binary_logloss: 0.225945\tvalid_1's auc: 0.775525\tvalid_1's binary_logloss: 0.240714\n",
      "[500]\ttraining's auc: 0.831519\ttraining's binary_logloss: 0.222\tvalid_1's auc: 0.777019\tvalid_1's binary_logloss: 0.240179\n",
      "| \u001b[0m30       \u001b[0m | \u001b[0m0.777    \u001b[0m | \u001b[0m0.6166   \u001b[0m | \u001b[0m498.4    \u001b[0m | \u001b[0m12.9     \u001b[0m | \u001b[0m170.8    \u001b[0m | \u001b[0m47.75    \u001b[0m | \u001b[0m52.59    \u001b[0m | \u001b[0m4.512    \u001b[0m | \u001b[0m8.353    \u001b[0m | \u001b[0m0.9305   \u001b[0m |\n",
      "=====================================================================================================================================\n"
     ]
    }
   ],
   "source": [
    "lbgBO = BayesianOptimization(\n",
    "    f=lgb_roc_eval,\n",
    "    pbounds=baysian_params,\n",
    "    random_state=1\n",
    ")\n",
    "\n",
    "lbgBO.maximize(init_points=5, n_iter=25)"
   ]
  },
  {
   "cell_type": "code",
   "execution_count": 10,
   "metadata": {},
   "outputs": [
    {
     "data": {
      "text/plain": [
       "[{'target': 0.7747515318161347,\n",
       "  'params': {'colsample_bytree': 0.7085110023512871,\n",
       "   'max_bin': 362.9590017866575,\n",
       "   'max_depth': 6.001143748173449,\n",
       "   'min_child_samples': 67.44318880004955,\n",
       "   'min_child_weight': 8.19103865003854,\n",
       "   'num_leaves': 27.69354379075191,\n",
       "   'reg_alpha': 9.321147966769768,\n",
       "   'reg_lambda': 3.4562617097034343,\n",
       "   'subsample': 0.698383737115335}},\n",
       " {'target': 0.7726800872577807,\n",
       "  'params': {'colsample_bytree': 0.7694083670016785,\n",
       "   'max_bin': 215.40531205761445,\n",
       "   'max_depth': 12.852195003967594,\n",
       "   'min_child_samples': 48.84592744898831,\n",
       "   'min_child_weight': 44.02775438315633,\n",
       "   'num_leaves': 25.09550372791705,\n",
       "   'reg_alpha': 33.52667083381833,\n",
       "   'reg_lambda': 4.173630718868903,\n",
       "   'subsample': 0.7793449142228759}},\n",
       " {'target': 0.7731216247078669,\n",
       "  'params': {'colsample_bytree': 0.5701934692976169,\n",
       "   'max_bin': 107.0697296515906,\n",
       "   'max_depth': 14.007445686755366,\n",
       "   'min_child_samples': 193.96969938668553,\n",
       "   'min_child_weight': 16.3577847298029,\n",
       "   'num_leaves': 51.69290462677256,\n",
       "   'reg_alpha': 43.82069372327896,\n",
       "   'reg_lambda': 8.946172028374969,\n",
       "   'subsample': 0.542522105684889}},\n",
       " {'target': 0.7742910108353326,\n",
       "  'params': {'colsample_bytree': 0.5195273916164411,\n",
       "   'max_bin': 93.21690558663876,\n",
       "   'max_depth': 14.78142503429413,\n",
       "   'min_child_samples': 28.68589842827952,\n",
       "   'min_child_weight': 21.634273625247555,\n",
       "   'num_leaves': 62.31558120602008,\n",
       "   'reg_alpha': 26.662932595801127,\n",
       "   'reg_lambda': 6.919079262390784,\n",
       "   'subsample': 0.6577578155030315}},\n",
       " {'target': 0.7738070427875996,\n",
       "  'params': {'colsample_bytree': 0.8432504638407918,\n",
       "   'max_bin': 418.96657922971275,\n",
       "   'max_depth': 6.182882773441918,\n",
       "   'min_child_samples': 152.52741983954382,\n",
       "   'min_child_weight': 49.454193356418244,\n",
       "   'num_leaves': 53.926626175193576,\n",
       "   'reg_alpha': 14.029395163299615,\n",
       "   'reg_lambda': 7.893004005186435,\n",
       "   'subsample': 0.551613003288821}},\n",
       " {'target': 0.7731230971982839,\n",
       "  'params': {'colsample_bytree': 0.5020612803491082,\n",
       "   'max_bin': 93.64229293032784,\n",
       "   'max_depth': 13.032029088750445,\n",
       "   'min_child_samples': 31.736205115897896,\n",
       "   'min_child_weight': 24.125133114662944,\n",
       "   'num_leaves': 61.17282786966746,\n",
       "   'reg_alpha': 39.97789013341289,\n",
       "   'reg_lambda': 3.5063682417983166,\n",
       "   'subsample': 0.7127095527310787}},\n",
       " {'target': 0.7732957185047409,\n",
       "  'params': {'colsample_bytree': 0.8677554856690404,\n",
       "   'max_bin': 126.60742225909075,\n",
       "   'max_depth': 7.921145490531565,\n",
       "   'min_child_samples': 28.799863556052202,\n",
       "   'min_child_weight': 9.689846044762085,\n",
       "   'num_leaves': 24.01789988771066,\n",
       "   'reg_alpha': 16.911774323128427,\n",
       "   'reg_lambda': 6.615067658905877,\n",
       "   'subsample': 0.948590710344025}},\n",
       " {'target': 0.7761834961834931,\n",
       "  'params': {'colsample_bytree': 0.9126021248194948,\n",
       "   'max_bin': 401.4573341982168,\n",
       "   'max_depth': 8.410115151768995,\n",
       "   'min_child_samples': 151.80073287042217,\n",
       "   'min_child_weight': 4.134119720311668,\n",
       "   'num_leaves': 43.33979441255571,\n",
       "   'reg_alpha': 4.129122272910234,\n",
       "   'reg_lambda': 6.242401075152662,\n",
       "   'subsample': 0.8420783511642371}},\n",
       " {'target': 0.7732448310149904,\n",
       "  'params': {'colsample_bytree': 0.7513103044436267,\n",
       "   'max_bin': 375.18790145427465,\n",
       "   'max_depth': 9.404518524096705,\n",
       "   'min_child_samples': 140.3722193322318,\n",
       "   'min_child_weight': 15.20761121700669,\n",
       "   'num_leaves': 45.24430254657286,\n",
       "   'reg_alpha': 47.31002804187768,\n",
       "   'reg_lambda': 3.9485370145276018,\n",
       "   'subsample': 0.9567021701554329}},\n",
       " {'target': 0.7750903841065592,\n",
       "  'params': {'colsample_bytree': 0.764122179024542,\n",
       "   'max_bin': 189.0753919671434,\n",
       "   'max_depth': 11.262289604891123,\n",
       "   'min_child_samples': 87.42574549838208,\n",
       "   'min_child_weight': 30.173222607039328,\n",
       "   'num_leaves': 28.592985503746718,\n",
       "   'reg_alpha': 8.650775860336728,\n",
       "   'reg_lambda': 9.463786568071177,\n",
       "   'subsample': 0.8750374350554202}},\n",
       " {'target': 0.7745394471311235,\n",
       "  'params': {'colsample_bytree': 0.9634200509518664,\n",
       "   'max_bin': 481.06700147657494,\n",
       "   'max_depth': 9.867909124627817,\n",
       "   'min_child_samples': 154.1602182093559,\n",
       "   'min_child_weight': 16.6048301058337,\n",
       "   'num_leaves': 56.710175236362254,\n",
       "   'reg_alpha': 33.91081259696302,\n",
       "   'reg_lambda': 3.1290876159302505,\n",
       "   'subsample': 0.5960679032415892}},\n",
       " {'target': 0.7734197984577427,\n",
       "  'params': {'colsample_bytree': 0.9757045853152875,\n",
       "   'max_bin': 282.98818966194625,\n",
       "   'max_depth': 14.429953430654011,\n",
       "   'min_child_samples': 42.811346110678336,\n",
       "   'min_child_weight': 40.659143864030895,\n",
       "   'num_leaves': 37.69527290172273,\n",
       "   'reg_alpha': 37.45254645418282,\n",
       "   'reg_lambda': 8.349461727646563,\n",
       "   'subsample': 0.6578274496067013}},\n",
       " {'target': 0.7738622429110955,\n",
       "  'params': {'colsample_bytree': 0.8052029975875314,\n",
       "   'max_bin': 32.10514073898229,\n",
       "   'max_depth': 10.361914457390064,\n",
       "   'min_child_samples': 99.45905312013927,\n",
       "   'min_child_weight': 7.165229326792636,\n",
       "   'num_leaves': 36.61210116338795,\n",
       "   'reg_alpha': 12.091638576650864,\n",
       "   'reg_lambda': 8.401893613048024,\n",
       "   'subsample': 0.9259017049054175}},\n",
       " {'target': 0.7759966455683464,\n",
       "  'params': {'colsample_bytree': 0.5143976970692234,\n",
       "   'max_bin': 113.22004005720916,\n",
       "   'max_depth': 12.858284532813254,\n",
       "   'min_child_samples': 133.80479119941378,\n",
       "   'min_child_weight': 48.373307998689796,\n",
       "   'num_leaves': 53.47083191090222,\n",
       "   'reg_alpha': 5.0953185769898806,\n",
       "   'reg_lambda': 9.321366040321037,\n",
       "   'subsample': 0.7577296758282311}},\n",
       " {'target': 0.7724974571464506,\n",
       "  'params': {'colsample_bytree': 0.5950438655198768,\n",
       "   'max_bin': 180.27004091480282,\n",
       "   'max_depth': 15.826884932389596,\n",
       "   'min_child_samples': 64.95017176861718,\n",
       "   'min_child_weight': 22.794521673390125,\n",
       "   'num_leaves': 41.11513099667162,\n",
       "   'reg_alpha': 45.48338358676267,\n",
       "   'reg_lambda': 8.292784027737964,\n",
       "   'subsample': 0.9934105766588165}},\n",
       " {'target': 0.7734608963483132,\n",
       "  'params': {'colsample_bytree': 0.7061965544385159,\n",
       "   'max_bin': 41.447763639937605,\n",
       "   'max_depth': 6.2227890307016125,\n",
       "   'min_child_samples': 179.62327426139197,\n",
       "   'min_child_weight': 9.367672336159009,\n",
       "   'num_leaves': 26.70684998043627,\n",
       "   'reg_alpha': 1.8766309989374212,\n",
       "   'reg_lambda': 9.5751913745111,\n",
       "   'subsample': 0.6605218495963527}},\n",
       " {'target': 0.7739129381987528,\n",
       "  'params': {'colsample_bytree': 0.8954797919081245,\n",
       "   'max_bin': 221.5789558623755,\n",
       "   'max_depth': 9.908786762709836,\n",
       "   'min_child_samples': 120.47096077985164,\n",
       "   'min_child_weight': 14.624105730792113,\n",
       "   'num_leaves': 50.54135648655125,\n",
       "   'reg_alpha': 34.57843242683537,\n",
       "   'reg_lambda': 1.3191864251327758,\n",
       "   'subsample': 0.7146533936355994}},\n",
       " {'target': 0.7746834716253075,\n",
       "  'params': {'colsample_bytree': 0.6852742817670284,\n",
       "   'max_bin': 155.5517442881901,\n",
       "   'max_depth': 15.99904689556735,\n",
       "   'min_child_samples': 120.8446838667522,\n",
       "   'min_child_weight': 40.92673699116242,\n",
       "   'num_leaves': 40.18266540226382,\n",
       "   'reg_alpha': 24.131964853010636,\n",
       "   'reg_lambda': 2.2893310727541514,\n",
       "   'subsample': 0.5042615822240863}},\n",
       " {'target': 0.775070804908199,\n",
       "  'params': {'colsample_bytree': 0.6009410140014493,\n",
       "   'max_bin': 294.1775195781478,\n",
       "   'max_depth': 6.991844110147135,\n",
       "   'min_child_samples': 61.34182404568962,\n",
       "   'min_child_weight': 19.63103152115901,\n",
       "   'num_leaves': 33.361425188446034,\n",
       "   'reg_alpha': 12.704951190704094,\n",
       "   'reg_lambda': 7.577341243998634,\n",
       "   'subsample': 0.7208339115932022}},\n",
       " {'target': 0.7726797489185586,\n",
       "  'params': {'colsample_bytree': 0.8361093480756562,\n",
       "   'max_bin': 180.38183169962187,\n",
       "   'max_depth': 6.400344870997679,\n",
       "   'min_child_samples': 137.93314499134385,\n",
       "   'min_child_weight': 34.22826019176856,\n",
       "   'num_leaves': 28.654077318948133,\n",
       "   'reg_alpha': 38.12406844327419,\n",
       "   'reg_lambda': 9.618923478681143,\n",
       "   'subsample': 0.6245731469466376}},\n",
       " {'target': 0.7738176107258349,\n",
       "  'params': {'colsample_bytree': 0.9370025057484679,\n",
       "   'max_bin': 404.85602032815694,\n",
       "   'max_depth': 8.821609540142791,\n",
       "   'min_child_samples': 146.42256117386802,\n",
       "   'min_child_weight': 11.051688241453874,\n",
       "   'num_leaves': 46.34229455620547,\n",
       "   'reg_alpha': 41.819001612657814,\n",
       "   'reg_lambda': 4.55375763653511,\n",
       "   'subsample': 0.8902837560306458}},\n",
       " {'target': 0.7743523074186134,\n",
       "  'params': {'colsample_bytree': 0.9717400549334934,\n",
       "   'max_bin': 233.56497254837947,\n",
       "   'max_depth': 7.091226292373014,\n",
       "   'min_child_samples': 129.18109351109604,\n",
       "   'min_child_weight': 16.191061303605174,\n",
       "   'num_leaves': 54.2189339010674,\n",
       "   'reg_alpha': 26.286099295926196,\n",
       "   'reg_lambda': 5.379272888358416,\n",
       "   'subsample': 0.9220407056094406}},\n",
       " {'target': 0.7744248629145971,\n",
       "  'params': {'colsample_bytree': 0.7887667901778652,\n",
       "   'max_bin': 360.70968761252215,\n",
       "   'max_depth': 9.31724978914275,\n",
       "   'min_child_samples': 77.33869223324848,\n",
       "   'min_child_weight': 31.804123906530485,\n",
       "   'num_leaves': 47.15041335649752,\n",
       "   'reg_alpha': 33.483146614639004,\n",
       "   'reg_lambda': 5.403016766614044,\n",
       "   'subsample': 0.9757863420960169}},\n",
       " {'target': 0.7722034149473564,\n",
       "  'params': {'colsample_bytree': 0.8966741632287338,\n",
       "   'max_bin': 75.05948007406482,\n",
       "   'max_depth': 13.24226361088704,\n",
       "   'min_child_samples': 175.70368603038517,\n",
       "   'min_child_weight': 12.255257913372507,\n",
       "   'num_leaves': 26.070914391421148,\n",
       "   'reg_alpha': 35.856628335592966,\n",
       "   'reg_lambda': 9.65504421503971,\n",
       "   'subsample': 0.5452839263159726}},\n",
       " {'target': 0.7736508364929756,\n",
       "  'params': {'colsample_bytree': 0.8264480331653203,\n",
       "   'max_bin': 482.0076265452367,\n",
       "   'max_depth': 14.409891917637927,\n",
       "   'min_child_samples': 111.9380641636264,\n",
       "   'min_child_weight': 1.1490698934284809,\n",
       "   'num_leaves': 49.73163710786009,\n",
       "   'reg_alpha': 44.69587751612353,\n",
       "   'reg_lambda': 0.0660565556129309,\n",
       "   'subsample': 0.6456423041523289}},\n",
       " {'target': 0.7772857958381745,\n",
       "  'params': {'colsample_bytree': 0.6790874358630945,\n",
       "   'max_bin': 495.5883417872887,\n",
       "   'max_depth': 13.495577949310704,\n",
       "   'min_child_samples': 154.92432612082445,\n",
       "   'min_child_weight': 41.056153505864344,\n",
       "   'num_leaves': 59.614555940082454,\n",
       "   'reg_alpha': 10.88727137584814,\n",
       "   'reg_lambda': 7.263008197687969,\n",
       "   'subsample': 0.9833530340999077}},\n",
       " {'target': 0.7770127624397868,\n",
       "  'params': {'colsample_bytree': 0.95659429609139,\n",
       "   'max_bin': 401.98808224929604,\n",
       "   'max_depth': 10.786676891900697,\n",
       "   'min_child_samples': 41.54772415987469,\n",
       "   'min_child_weight': 26.340557857483606,\n",
       "   'num_leaves': 62.52802184110901,\n",
       "   'reg_alpha': 5.918192104635162,\n",
       "   'reg_lambda': 2.2651673440376774,\n",
       "   'subsample': 0.8734679036890398}},\n",
       " {'target': 0.7771019060883321,\n",
       "  'params': {'colsample_bytree': 0.7099666658681485,\n",
       "   'max_bin': 494.01508460723875,\n",
       "   'max_depth': 10.768115883293703,\n",
       "   'min_child_samples': 162.34794072327009,\n",
       "   'min_child_weight': 31.087537679647813,\n",
       "   'num_leaves': 60.92188547061779,\n",
       "   'reg_alpha': 0.16030539526080315,\n",
       "   'reg_lambda': 0.9464052075242702,\n",
       "   'subsample': 0.5214723544178943}},\n",
       " {'target': 0.7756554201380265,\n",
       "  'params': {'colsample_bytree': 0.7145488392833451,\n",
       "   'max_bin': 406.7413448703126,\n",
       "   'max_depth': 14.302342988201962,\n",
       "   'min_child_samples': 133.6135824744626,\n",
       "   'min_child_weight': 29.27450936612583,\n",
       "   'num_leaves': 24.919136868157807,\n",
       "   'reg_alpha': 6.613509413878078,\n",
       "   'reg_lambda': 4.344867842064901,\n",
       "   'subsample': 0.5224383048759376}},\n",
       " {'target': 0.7770188493688892,\n",
       "  'params': {'colsample_bytree': 0.6165731819194809,\n",
       "   'max_bin': 498.4187139697899,\n",
       "   'max_depth': 12.898836844207345,\n",
       "   'min_child_samples': 170.79287170764238,\n",
       "   'min_child_weight': 47.747958295212335,\n",
       "   'num_leaves': 52.58753446445777,\n",
       "   'reg_alpha': 4.512165832772037,\n",
       "   'reg_lambda': 8.35287269288788,\n",
       "   'subsample': 0.9304960173405608}}]"
      ]
     },
     "execution_count": 10,
     "metadata": {},
     "output_type": "execute_result"
    }
   ],
   "source": [
    "lbgBO.res"
   ]
  },
  {
   "cell_type": "code",
   "execution_count": 11,
   "metadata": {},
   "outputs": [
    {
     "name": "stdout",
     "output_type": "stream",
     "text": [
      "[0.7747515318161347, 0.7726800872577807, 0.7731216247078669, 0.7742910108353326, 0.7738070427875996, 0.7731230971982839, 0.7732957185047409, 0.7761834961834931, 0.7732448310149904, 0.7750903841065592, 0.7745394471311235, 0.7734197984577427, 0.7738622429110955, 0.7759966455683464, 0.7724974571464506, 0.7734608963483132, 0.7739129381987528, 0.7746834716253075, 0.775070804908199, 0.7726797489185586, 0.7738176107258349, 0.7743523074186134, 0.7744248629145971, 0.7722034149473564, 0.7736508364929756, 0.7772857958381745, 0.7770127624397868, 0.7771019060883321, 0.7756554201380265, 0.7770188493688892]\n",
      "maximum target index: 25\n"
     ]
    }
   ],
   "source": [
    "# lgbBO.res에서 target이 max인것만 추려내기\n",
    "target_list = []\n",
    "for result in lbgBO.res:\n",
    "    target = result['target']\n",
    "    target_list.append(target)\n",
    "print(target_list)\n",
    "\n",
    "# argmax를 통해 가장 큰 target의 index가져오기\n",
    "print('maximum target index:', np.argmax(np.array(target_list)))"
   ]
  },
  {
   "cell_type": "code",
   "execution_count": 12,
   "metadata": {},
   "outputs": [
    {
     "name": "stdout",
     "output_type": "stream",
     "text": [
      "{'target': 0.7772857958381745, 'params': {'colsample_bytree': 0.6790874358630945, 'max_bin': 495.5883417872887, 'max_depth': 13.495577949310704, 'min_child_samples': 154.92432612082445, 'min_child_weight': 41.056153505864344, 'num_leaves': 59.614555940082454, 'reg_alpha': 10.88727137584814, 'reg_lambda': 7.263008197687969, 'subsample': 0.9833530340999077}}\n"
     ]
    }
   ],
   "source": [
    "# 가장 큰 target값을 가지는 params 추출\n",
    "max_dict = lbgBO.res[np.argmax(np.array(target_list))]\n",
    "print(max_dict)"
   ]
  },
  {
   "cell_type": "code",
   "execution_count": 13,
   "metadata": {},
   "outputs": [],
   "source": [
    "# 최적화된 파라미터로 다시 테스트\n",
    "def train_apps_all(apps_all_train):\n",
    "    ftr_app = apps_all_train.drop(['SK_ID_CURR', 'TARGET'], axis=1)\n",
    "    target_app = apps_all_train['TARGET']\n",
    "\n",
    "    train_x, valid_x, train_y, valid_y = train_test_split(ftr_app, target_app, test_size=0.3, random_state=2020)\n",
    "    print('train shape:', train_x.shape, 'valid shape:', valid_x.shape)\n",
    "    clf = LGBMClassifier(\n",
    "                nthread=4,\n",
    "                n_estimators=1000,\n",
    "                learning_rate=0.02,\n",
    "                max_depth = 13,\n",
    "                num_leaves=60,\n",
    "                colsample_bytree=0.679,\n",
    "                subsample=0.983,\n",
    "                max_bin=495,\n",
    "                reg_alpha=10.887,\n",
    "                reg_lambda=7.2630,\n",
    "                min_child_weight=41,\n",
    "                min_child_samples=154,\n",
    "                silent=-1,\n",
    "                verbose=-1,\n",
    "                )\n",
    "\n",
    "    clf.fit(train_x, train_y, eval_set=[(train_x, train_y), (valid_x, valid_y)], eval_metric= 'auc', verbose= 100, \n",
    "                early_stopping_rounds= 100)\n",
    "    \n",
    "    return clf"
   ]
  },
  {
   "cell_type": "code",
   "execution_count": 14,
   "metadata": {},
   "outputs": [
    {
     "name": "stderr",
     "output_type": "stream",
     "text": [
      "C:\\Users\\miming\\AppData\\Local\\Temp\\ipykernel_4892\\1480129953.py:53: FutureWarning: Index.ravel returning ndarray is deprecated; in a future version this will return a view on self.\n",
      "  prev_amt_agg.columns = [\"PREV_\"+ \"_\".join(x).upper() for x in prev_amt_agg.columns.ravel()]\n"
     ]
    },
    {
     "name": "stdout",
     "output_type": "stream",
     "text": [
      "prev_agg shape: (338857, 41)\n",
      "apps_all before merge shape: (356255, 135)\n",
      "apps_all after merge with prev_agg shape: (356255, 176)\n",
      "train shape: (215257, 174) valid shape: (92254, 174)\n"
     ]
    },
    {
     "name": "stderr",
     "output_type": "stream",
     "text": [
      "c:\\Python310\\lib\\site-packages\\lightgbm\\sklearn.py:598: UserWarning: 'silent' argument is deprecated and will be removed in a future release of LightGBM. Pass 'verbose' parameter via keyword arguments instead.\n",
      "  _log_warning(\"'silent' argument is deprecated and will be removed in a future release of LightGBM. \"\n",
      "c:\\Python310\\lib\\site-packages\\lightgbm\\sklearn.py:726: UserWarning: 'early_stopping_rounds' argument is deprecated and will be removed in a future release of LightGBM. Pass 'early_stopping()' callback via 'callbacks' argument instead.\n",
      "  _log_warning(\"'early_stopping_rounds' argument is deprecated and will be removed in a future release of LightGBM. \"\n",
      "c:\\Python310\\lib\\site-packages\\lightgbm\\sklearn.py:736: UserWarning: 'verbose' argument is deprecated and will be removed in a future release of LightGBM. Pass 'log_evaluation()' callback via 'callbacks' argument instead.\n",
      "  _log_warning(\"'verbose' argument is deprecated and will be removed in a future release of LightGBM. \"\n"
     ]
    },
    {
     "name": "stdout",
     "output_type": "stream",
     "text": [
      "[LightGBM] [Warning] num_threads is set with n_jobs=-1, nthread=4 will be ignored. Current value: num_threads=-1\n",
      "[100]\ttraining's auc: 0.777229\ttraining's binary_logloss: 0.244199\tvalid_1's auc: 0.758265\tvalid_1's binary_logloss: 0.248217\n",
      "[200]\ttraining's auc: 0.796064\ttraining's binary_logloss: 0.235625\tvalid_1's auc: 0.768193\tvalid_1's binary_logloss: 0.243475\n",
      "[300]\ttraining's auc: 0.809745\ttraining's binary_logloss: 0.230233\tvalid_1's auc: 0.7729\tvalid_1's binary_logloss: 0.241713\n",
      "[400]\ttraining's auc: 0.821329\ttraining's binary_logloss: 0.225846\tvalid_1's auc: 0.775437\tvalid_1's binary_logloss: 0.240852\n",
      "[500]\ttraining's auc: 0.831812\ttraining's binary_logloss: 0.221851\tvalid_1's auc: 0.777047\tvalid_1's binary_logloss: 0.240281\n",
      "[600]\ttraining's auc: 0.8412\ttraining's binary_logloss: 0.218269\tvalid_1's auc: 0.777948\tvalid_1's binary_logloss: 0.239961\n",
      "[700]\ttraining's auc: 0.849701\ttraining's binary_logloss: 0.214961\tvalid_1's auc: 0.77841\tvalid_1's binary_logloss: 0.239814\n",
      "[800]\ttraining's auc: 0.857426\ttraining's binary_logloss: 0.211839\tvalid_1's auc: 0.778648\tvalid_1's binary_logloss: 0.239722\n",
      "[900]\ttraining's auc: 0.864703\ttraining's binary_logloss: 0.208853\tvalid_1's auc: 0.778811\tvalid_1's binary_logloss: 0.239659\n",
      "[1000]\ttraining's auc: 0.871281\ttraining's binary_logloss: 0.206051\tvalid_1's auc: 0.778849\tvalid_1's binary_logloss: 0.239643\n"
     ]
    }
   ],
   "source": [
    "apps_all = get_apps_all_with_prev_agg(apps, prev)\n",
    "apps_all = get_apps_all_encoded(apps_all)\n",
    "apps_all_train, apps_all_test = get_apps_all_train_test(apps_all)\n",
    "clf = train_apps_all(apps_all_train)"
   ]
  },
  {
   "cell_type": "code",
   "execution_count": 15,
   "metadata": {},
   "outputs": [],
   "source": [
    "preds = clf.predict_proba(apps_all_test.drop('SK_ID_CURR', axis=1))[:, 1 ]\n",
    "apps_all_test['TARGET'] = preds\n",
    "apps_all_test[['SK_ID_CURR', 'TARGET']].to_csv('prev_baseline_tuning_02.csv', index=False)"
   ]
  },
  {
   "cell_type": "code",
   "execution_count": null,
   "metadata": {},
   "outputs": [],
   "source": []
  }
 ],
 "metadata": {
  "kernelspec": {
   "display_name": "Python 3",
   "language": "python",
   "name": "python3"
  },
  "language_info": {
   "codemirror_mode": {
    "name": "ipython",
    "version": 3
   },
   "file_extension": ".py",
   "mimetype": "text/x-python",
   "name": "python",
   "nbconvert_exporter": "python",
   "pygments_lexer": "ipython3",
   "version": "3.10.8"
  }
 },
 "nbformat": 4,
 "nbformat_minor": 2
}

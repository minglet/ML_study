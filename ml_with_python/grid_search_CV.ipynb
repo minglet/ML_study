{
 "cells": [
  {
   "attachments": {},
   "cell_type": "markdown",
   "metadata": {},
   "source": [
    "### GridSearch\n",
    "관심 있는 매개변수들을 대상으로 가능한 모든 조합을 시도하며 최적의 하이퍼 파라미터 튜닝을 하는 것  \n",
    "\n",
    "</br>\n",
    "예시 모델 : SVM   \n",
    "\n",
    "하이퍼 파라미터 : gamma, C"
   ]
  },
  {
   "cell_type": "code",
   "execution_count": 1,
   "metadata": {},
   "outputs": [
    {
     "name": "stdout",
     "output_type": "stream",
     "text": [
      "훈련 세트의 크기: (120, 4)  테스트 세트의 크기 (30, 4)\n"
     ]
    }
   ],
   "source": [
    "# GridSearch basic\n",
    "from sklearn.svm import SVC\n",
    "from sklearn.model_selection import train_test_split\n",
    "from sklearn.datasets import load_iris\n",
    "\n",
    "iris = load_iris()\n",
    "X_train, X_test, y_train, y_test = train_test_split(iris.data, iris.target, test_size=0.2, random_state=0)\n",
    "print(\"훈련 세트의 크기: {0}  테스트 세트의 크기 {1}\".format(X_train.shape, X_test.shape))"
   ]
  },
  {
   "cell_type": "code",
   "execution_count": 2,
   "metadata": {},
   "outputs": [
    {
     "name": "stdout",
     "output_type": "stream",
     "text": [
      "[0.2, 0.2, 0.2, 0.5666666666666667, 0.9333333333333333, 1.0, 0.2, 0.2, 0.5666666666666667, 0.9333333333333333, 1.0, 1.0, 0.2, 0.2, 0.9333333333333333, 1.0, 1.0, 1.0, 0.2, 0.2, 1.0, 1.0, 1.0, 1.0, 0.2, 0.2, 0.23333333333333334, 0.9666666666666667, 0.9666666666666667, 0.9666666666666667, 0.2, 0.2, 0.2, 0.36666666666666664, 0.43333333333333335, 0.43333333333333335]\n"
     ]
    }
   ],
   "source": [
    "best_score = 0\n",
    "\n",
    "# 예측 점수 list\n",
    "scores = []\n",
    "\n",
    "for gamma in [0.001, 0.01, 0.1, 1, 10, 100]:\n",
    "    for C in [0.001, 0.01, 0.1, 1, 10, 100]:\n",
    "        # 매개변수의 각 조합에 대해 SVC 학습\n",
    "        svm = SVC(gamma=gamma, C=C)\n",
    "        svm.fit(X_train, y_train)\n",
    "        # 테스트 세트로 SVC를 평가함\n",
    "        score = svm.score(X_test, y_test)\n",
    "        scores.append(score)\n",
    "        # best score / best params 저장\n",
    "        if score > best_score:\n",
    "            best_score = score\n",
    "            best_params = {\"gamma\": gamma, \"C\": C}\n",
    "print(scores)"
   ]
  },
  {
   "attachments": {
    "image.png": {
     "image/png": "[encoded data removed]"
    }
   },
   "cell_type": "markdown",
   "metadata": {},
   "source": [
    "![image.png](attachment:image.png)  \n",
    "\n",
    "gamma for문을 돌때마다 새로운 모델을 선언해 6개씩(하이퍼파라미터 수) 점점 정확도가 좋아지는 것을 볼 수 있다.  \n",
    "과대 적합된 것!"
   ]
  },
  {
   "cell_type": "code",
   "execution_count": 3,
   "metadata": {},
   "outputs": [
    {
     "name": "stdout",
     "output_type": "stream",
     "text": [
      "1.0\n",
      "{'gamma': 0.001, 'C': 100}\n"
     ]
    }
   ],
   "source": [
    "# for문으로 모델을 돌리면서 이미 테스트 데이터를 사용했기 때문에 모델의 정확도가 1.0까지 올라감\n",
    "print(best_score)\n",
    "print(best_params)"
   ]
  },
  {
   "cell_type": "code",
   "execution_count": 4,
   "metadata": {},
   "outputs": [
    {
     "name": "stdout",
     "output_type": "stream",
     "text": [
      "훈련세트의 크기: (108, 4)  검증 세트의 크기: (12, 4)  테스트 세트의 크기: (30, 4)\n",
      "\n"
     ]
    }
   ],
   "source": [
    "# train, validation, test 데이터 셋 분리\n",
    "from sklearn.svm import SVC\n",
    "# train test 셋 분리\n",
    "X_train, X_test, y_train, y_test = train_test_split(iris.data, iris.target, test_size=0.2, random_state=0)\n",
    "# train val 셋 분리\n",
    "X_tr, X_val, y_tr, y_val = train_test_split(X_train, y_train, test_size=0.1, random_state=1)\n",
    "\n",
    "print(\"훈련세트의 크기: {0}  검증 세트의 크기: {1}  테스트 세트의 크기: {2}\\n\".format(X_tr.shape, X_val.shape, X_test.shape))"
   ]
  },
  {
   "cell_type": "code",
   "execution_count": 5,
   "metadata": {},
   "outputs": [
    {
     "name": "stdout",
     "output_type": "stream",
     "text": [
      "[0.25, 0.25, 0.25, 0.6666666666666666, 1.0, 1.0, 0.25, 0.25, 0.6666666666666666, 1.0, 1.0, 1.0, 0.25, 0.25, 1.0, 1.0, 1.0, 1.0, 0.25, 0.25, 1.0, 1.0, 1.0, 0.9166666666666666, 0.25, 0.25, 0.25, 1.0, 1.0, 1.0, 0.25, 0.25, 0.25, 0.5, 0.5833333333333334, 0.5833333333333334]\n",
      "검증 세트에서 최고 점수: 1.00\n",
      "최적 매개변수:  {'gamma': 0.001, 'C': 10}\n"
     ]
    }
   ],
   "source": [
    "best_score = 0\n",
    "\n",
    "# 예측 점수 list\n",
    "scores = []\n",
    "\n",
    "for gamma in [0.001, 0.01, 0.1, 1, 10, 100]:\n",
    "    for C in [0.001, 0.01, 0.1, 1, 10, 100]:\n",
    "        # 매개변수의 각 조합에 대해 SVC 학습\n",
    "        svm = SVC(gamma=gamma, C=C)\n",
    "        svm.fit(X_tr, y_tr)\n",
    "        # 테스트 세트로 SVC를 평가함\n",
    "        score = svm.score(X_val, y_val)\n",
    "        scores.append(score)\n",
    "        # best score / best params 저장\n",
    "        if score > best_score:\n",
    "            best_score = score\n",
    "            best_params = {\"gamma\": gamma, \"C\": C}\n",
    "print(scores)\n",
    "print(\"검증 세트에서 최고 점수: {:.2f}\".format(best_score))\n",
    "print(\"최적 매개변수: \", best_params)"
   ]
  },
  {
   "cell_type": "code",
   "execution_count": 11,
   "metadata": {},
   "outputs": [
    {
     "name": "stdout",
     "output_type": "stream",
     "text": [
      "검증 세트에서 최고 점수: 1.00\n",
      "최적 매개변수:  {'gamma': 0.001, 'C': 10}\n",
      "최적 매개변수에서 테스트 셋 점수: 0.93\n"
     ]
    }
   ],
   "source": [
    "# 테스트 셋에서 평가하기\n",
    "svm = SVC(**best_params)\n",
    "svm.fit(X_train, y_train) # 학습시킬땐 데이터 전부 (X_tr + X_val)\n",
    "test_score = svm.score(X_test, y_test)\n",
    "print(\"검증 세트에서 최고 점수: {:.2f}\".format(best_score))\n",
    "print(\"최적 매개변수: \", best_params)\n",
    "print(\"최적 매개변수에서 테스트 셋 점수: {:.2f}\".format(test_score))"
   ]
  },
  {
   "attachments": {},
   "cell_type": "markdown",
   "metadata": {},
   "source": [
    "[결론]\n",
    "실제 모델의 성능은 0.93에 그치는 것이고, 그때의 최적 매개변수는 gamma : 0.001, C : 10이다."
   ]
  },
  {
   "attachments": {},
   "cell_type": "markdown",
   "metadata": {},
   "source": [
    "### GridSearchCV\n",
    "교차 검증을 포함한 매개변수 조합의 성능 평가하는 모델"
   ]
  },
  {
   "cell_type": "code",
   "execution_count": 12,
   "metadata": {},
   "outputs": [
    {
     "name": "stdout",
     "output_type": "stream",
     "text": [
      "검증 세트에서 최고 점수: 0.96\n",
      "최적 매개변수:  {'gamma': 0.001, 'C': 100}\n"
     ]
    }
   ],
   "source": [
    "from sklearn.model_selection import cross_val_score\n",
    "import numpy as np\n",
    "best_score = 0\n",
    "\n",
    "# 경우의 수 : 6*6*5=180\n",
    "for gamma in [0.001, 0.01, 0.1, 1, 10, 100]:\n",
    "    for C in [0.001, 0.01, 0.1, 1, 10, 100]:\n",
    "        # 매개변수의 각 조합에 대해 SVC 학습\n",
    "        svm = SVC(gamma=gamma, C=C)\n",
    "        # 교차 검증 적용 (5개의 fold로 나눔)\n",
    "        scores = cross_val_score(svm, X_train, y_train, cv=5)\n",
    "        # 교차 검증 정확도의 평균을 계산\n",
    "        score_mean = np.mean(scores)\n",
    "        # best score / best params 저장\n",
    "        if score_mean > best_score:\n",
    "            best_score = score_mean\n",
    "            best_params = {\"gamma\": gamma, \"C\": C}\n",
    "\n",
    "print(\"검증 세트에서 최고 점수: {:.2f}\".format(best_score))\n",
    "print(\"최적 매개변수: \", best_params)"
   ]
  },
  {
   "cell_type": "code",
   "execution_count": 13,
   "metadata": {},
   "outputs": [
    {
     "name": "stdout",
     "output_type": "stream",
     "text": [
      "최적 매개변수에서 테스트 셋 점수: 1.00\n"
     ]
    }
   ],
   "source": [
    "# 훈련 세트와 검증 세트를 합쳐 모델을 다시 만듦\n",
    "svm = SVC(**best_params)\n",
    "svm.fit(X_train, y_train)\n",
    "test_score = svm.score(X_test, y_test)\n",
    "print(\"최적 매개변수에서 테스트 셋 점수: {:.2f}\".format(test_score))"
   ]
  },
  {
   "attachments": {},
   "cell_type": "markdown",
   "metadata": {},
   "source": [
    "### GridSearchCV 모델 사용"
   ]
  },
  {
   "cell_type": "code",
   "execution_count": 15,
   "metadata": {},
   "outputs": [
    {
     "name": "stdout",
     "output_type": "stream",
     "text": [
      "{'C': [0.001, 0.01, 0.1, 1, 10, 100], 'gamma': [0.001, 0.01, 0.1, 1, 10, 100]}\n"
     ]
    }
   ],
   "source": [
    "from sklearn.svm import SVC\n",
    "from sklearn.model_selection import GridSearchCV\n",
    "\n",
    "# 모델 선언\n",
    "svm = SVC()\n",
    "\n",
    "# 파라미터를 딕셔너리로 저장\n",
    "param_grid = {'C': [0.001, 0.01, 0.1, 1, 10, 100],\n",
    "              'gamma': [0.001, 0.01, 0.1, 1, 10, 100]}\n",
    "print(param_grid)\n",
    "grid_search = GridSearchCV(svm, param_grid=param_grid, cv=5, return_train_score=True)"
   ]
  },
  {
   "cell_type": "code",
   "execution_count": 23,
   "metadata": {},
   "outputs": [
    {
     "name": "stdout",
     "output_type": "stream",
     "text": [
      "검증 세트 점수: 0.97\n"
     ]
    }
   ],
   "source": [
    "# 과대 적합되지 않기 위해서 train test 나누기\n",
    "# cross validation할거니까 직접 validation 나눠줄 필요없음\n",
    "X_train, X_test, y_train, y_test = train_test_split(iris.data, iris.target, random_state=0)\n",
    "grid_search.fit(X_train, y_train)\n",
    "score = grid_search.score(X_test, y_test)\n",
    "print(\"검증 세트 점수: {:.2f}\".format(score))"
   ]
  },
  {
   "cell_type": "code",
   "execution_count": 24,
   "metadata": {},
   "outputs": [
    {
     "name": "stdout",
     "output_type": "stream",
     "text": [
      "테스트 세트 점수: 0.97\n"
     ]
    }
   ],
   "source": [
    "# 최적의 매개변수로 모델 학습 및 평가\n",
    "svm = SVC(**grid_search.best_params_)\n",
    "svm.fit(X_train, y_train)\n",
    "final_score = svm.score(X_test, y_test)\n",
    "print(\"테스트 세트 점수: {:.2f}\".format(final_score))"
   ]
  },
  {
   "cell_type": "code",
   "execution_count": 25,
   "metadata": {},
   "outputs": [
    {
     "name": "stdout",
     "output_type": "stream",
     "text": [
      "SVC(C=10, gamma=0.1)\n"
     ]
    }
   ],
   "source": [
    "print(grid_search.best_estimator_)"
   ]
  },
  {
   "cell_type": "code",
   "execution_count": null,
   "metadata": {},
   "outputs": [],
   "source": []
  }
 ],
 "metadata": {
  "kernelspec": {
   "display_name": "Python 3",
   "language": "python",
   "name": "python3"
  },
  "language_info": {
   "codemirror_mode": {
    "name": "ipython",
    "version": 3
   },
   "file_extension": ".py",
   "mimetype": "text/x-python",
   "name": "python",
   "nbconvert_exporter": "python",
   "pygments_lexer": "ipython3",
   "version": "3.10.8"
  },
  "orig_nbformat": 4,
  "vscode": {
   "interpreter": {
    "hash": "369f2c481f4da34e4445cda3fffd2e751bd1c4d706f27375911949ba6bb62e1c"
   }
  }
 },
 "nbformat": 4,
 "nbformat_minor": 2
}

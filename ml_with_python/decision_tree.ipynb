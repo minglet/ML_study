{
 "cells": [
  {
   "attachments": {},
   "cell_type": "markdown",
   "metadata": {},
   "source": [
    "### 결정 트리 기본 코드"
   ]
  },
  {
   "cell_type": "code",
   "execution_count": 4,
   "metadata": {},
   "outputs": [
    {
     "name": "stdout",
     "output_type": "stream",
     "text": [
      "Train dataset 정확도:  1.0\n",
      "Test dataset 정확도: 0.916\n"
     ]
    }
   ],
   "source": [
    "from sklearn.model_selection import train_test_split\n",
    "from sklearn.datasets import load_breast_cancer\n",
    "from sklearn.tree import DecisionTreeClassifier\n",
    "\n",
    "cancer = load_breast_cancer()\n",
    "X_train, X_test, y_train, y_test = train_test_split(cancer.data, cancer.target, stratify=cancer.target, random_state=42)\n",
    "\n",
    "dt = DecisionTreeClassifier()\n",
    "dt.fit(X_train, y_train)\n",
    "accuracy_train = dt.score(X_train, y_train)\n",
    "accuracy_test = dt.score(X_test, y_test)\n",
    "print(\"Train dataset 정확도: \", accuracy_train) # 과적합이 되어 학습 데이터셋에 대해서는 100% 정답\n",
    "print(\"Test dataset 정확도: {0:.3f}\".format(accuracy_test)) # 테스트 데이터셋은 92%의 정답률"
   ]
  },
  {
   "attachments": {},
   "cell_type": "markdown",
   "metadata": {},
   "source": [
    "**트리 깊이 제한**"
   ]
  },
  {
   "cell_type": "code",
   "execution_count": 5,
   "metadata": {},
   "outputs": [
    {
     "name": "stdout",
     "output_type": "stream",
     "text": [
      "Train dataset 정확도: 0.988\n",
      "Test dataset 정확도: 0.951\n"
     ]
    }
   ],
   "source": [
    "dt_limit = DecisionTreeClassifier(max_depth=4, random_state=0)\n",
    "dt_limit.fit(X_train, y_train)\n",
    "\n",
    "print(\"Train dataset 정확도: {0:.3f}\".format(dt_limit.score(X_train, y_train))) \n",
    "print(\"Test dataset 정확도: {0:.3f}\".format(dt_limit.score(X_test, y_test)))"
   ]
  },
  {
   "attachments": {},
   "cell_type": "markdown",
   "metadata": {},
   "source": [
    "### graphviz를 이용하여 시각화"
   ]
  },
  {
   "cell_type": "code",
   "execution_count": null,
   "metadata": {},
   "outputs": [],
   "source": []
  }
 ],
 "metadata": {
  "kernelspec": {
   "display_name": "Python 3",
   "language": "python",
   "name": "python3"
  },
  "language_info": {
   "codemirror_mode": {
    "name": "ipython",
    "version": 3
   },
   "file_extension": ".py",
   "mimetype": "text/x-python",
   "name": "python",
   "nbconvert_exporter": "python",
   "pygments_lexer": "ipython3",
   "version": "3.10.8"
  },
  "orig_nbformat": 4,
  "vscode": {
   "interpreter": {
    "hash": "369f2c481f4da34e4445cda3fffd2e751bd1c4d706f27375911949ba6bb62e1c"
   }
  }
 },
 "nbformat": 4,
 "nbformat_minor": 2
}

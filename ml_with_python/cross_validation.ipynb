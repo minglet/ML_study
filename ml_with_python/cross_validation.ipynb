{
 "cells": [
  {
   "attachments": {},
   "cell_type": "markdown",
   "metadata": {},
   "source": [
    "### 교차 검증"
   ]
  },
  {
   "cell_type": "code",
   "execution_count": 2,
   "metadata": {},
   "outputs": [
    {
     "name": "stdout",
     "output_type": "stream",
     "text": [
      "교차 검증 점수: [0.96666667 1.         0.93333333 0.96666667 1.        ]\n"
     ]
    }
   ],
   "source": [
    "import numpy as np\n",
    "import pandas as pd\n",
    "from sklearn.model_selection import cross_val_score\n",
    "from sklearn.datasets import load_iris\n",
    "from sklearn.linear_model import LogisticRegression\n",
    "\n",
    "\n",
    "iris = load_iris()\n",
    "iris_data = iris.data\n",
    "target = iris.target\n",
    "\n",
    "lr_clf = LogisticRegression(max_iter=1000)\n",
    "score = cross_val_score(lr_clf, iris_data, target)\n",
    "print(\"교차 검증 점수:\",score)\n"
   ]
  },
  {
   "attachments": {},
   "cell_type": "markdown",
   "metadata": {},
   "source": [
    "#### 교차 검증에 fold 수 바꾸기"
   ]
  },
  {
   "cell_type": "code",
   "execution_count": 3,
   "metadata": {},
   "outputs": [
    {
     "name": "stdout",
     "output_type": "stream",
     "text": [
      "교차 검증 점수:  [0.96666667 1.         0.93333333 0.96666667 1.        ]\n",
      "평균 교차 검증 점수: 0.9733\n"
     ]
    }
   ],
   "source": [
    "score = cross_val_score(lr_clf, iris_data, target, cv=5) # fold 5개\n",
    "print(\"교차 검증 점수: \", score)\n",
    "print(\"평균 교차 검증 점수: {0:.4f}\".format(round(np.mean(score), 4)))"
   ]
  },
  {
   "attachments": {},
   "cell_type": "markdown",
   "metadata": {},
   "source": [
    "#### cross_validate"
   ]
  },
  {
   "cell_type": "code",
   "execution_count": 4,
   "metadata": {},
   "outputs": [
    {
     "data": {
      "text/plain": [
       "{'fit_time': array([0.01100087, 0.01400375, 0.00900292, 0.00900102, 0.00900221]),\n",
       " 'score_time': array([0.        , 0.00100017, 0.        , 0.        , 0.        ]),\n",
       " 'test_score': array([0.96666667, 1.        , 0.93333333, 0.96666667, 1.        ]),\n",
       " 'train_score': array([0.96666667, 0.96666667, 0.98333333, 0.98333333, 0.975     ])}"
      ]
     },
     "execution_count": 4,
     "metadata": {},
     "output_type": "execute_result"
    }
   ],
   "source": [
    "# cross_val_score 함수와 인터페이스가 비슷하지만 훈련과 테스트에 걸린 시간을 담은 딕셔너리 반환\n",
    "from sklearn.model_selection import cross_validate\n",
    "\n",
    "res = cross_validate(lr_clf, iris_data, target, cv=5, return_train_score=True)\n",
    "res"
   ]
  },
  {
   "cell_type": "code",
   "execution_count": 5,
   "metadata": {},
   "outputs": [
    {
     "data": {
      "text/html": [
       "<div>\n",
       "<style scoped>\n",
       "    .dataframe tbody tr th:only-of-type {\n",
       "        vertical-align: middle;\n",
       "    }\n",
       "\n",
       "    .dataframe tbody tr th {\n",
       "        vertical-align: top;\n",
       "    }\n",
       "\n",
       "    .dataframe thead th {\n",
       "        text-align: right;\n",
       "    }\n",
       "</style>\n",
       "<table border=\"1\" class=\"dataframe\">\n",
       "  <thead>\n",
       "    <tr style=\"text-align: right;\">\n",
       "      <th></th>\n",
       "      <th>fit_time</th>\n",
       "      <th>score_time</th>\n",
       "      <th>test_score</th>\n",
       "      <th>train_score</th>\n",
       "    </tr>\n",
       "  </thead>\n",
       "  <tbody>\n",
       "    <tr>\n",
       "      <th>0</th>\n",
       "      <td>0.011001</td>\n",
       "      <td>0.000</td>\n",
       "      <td>0.966667</td>\n",
       "      <td>0.966667</td>\n",
       "    </tr>\n",
       "    <tr>\n",
       "      <th>1</th>\n",
       "      <td>0.014004</td>\n",
       "      <td>0.001</td>\n",
       "      <td>1.000000</td>\n",
       "      <td>0.966667</td>\n",
       "    </tr>\n",
       "    <tr>\n",
       "      <th>2</th>\n",
       "      <td>0.009003</td>\n",
       "      <td>0.000</td>\n",
       "      <td>0.933333</td>\n",
       "      <td>0.983333</td>\n",
       "    </tr>\n",
       "    <tr>\n",
       "      <th>3</th>\n",
       "      <td>0.009001</td>\n",
       "      <td>0.000</td>\n",
       "      <td>0.966667</td>\n",
       "      <td>0.983333</td>\n",
       "    </tr>\n",
       "    <tr>\n",
       "      <th>4</th>\n",
       "      <td>0.009002</td>\n",
       "      <td>0.000</td>\n",
       "      <td>1.000000</td>\n",
       "      <td>0.975000</td>\n",
       "    </tr>\n",
       "  </tbody>\n",
       "</table>\n",
       "</div>"
      ],
      "text/plain": [
       "   fit_time  score_time  test_score  train_score\n",
       "0  0.011001       0.000    0.966667     0.966667\n",
       "1  0.014004       0.001    1.000000     0.966667\n",
       "2  0.009003       0.000    0.933333     0.983333\n",
       "3  0.009001       0.000    0.966667     0.983333\n",
       "4  0.009002       0.000    1.000000     0.975000"
      ]
     },
     "metadata": {},
     "output_type": "display_data"
    },
    {
     "name": "stdout",
     "output_type": "stream",
     "text": [
      "평균시간과 점수\n",
      " fit_time       0.010402\n",
      "score_time     0.000200\n",
      "test_score     0.973333\n",
      "train_score    0.975000\n",
      "dtype: float64\n"
     ]
    }
   ],
   "source": [
    "# dataframe으로 만들고 각 컬럼별 평균 반환하기\n",
    "res_df = pd.DataFrame(res)\n",
    "display(res_df)\n",
    "print('평균시간과 점수\\n', res_df.mean())"
   ]
  },
  {
   "attachments": {},
   "cell_type": "markdown",
   "metadata": {},
   "source": [
    "#### 계층별 k-fold 교차 방법 (Stratified K 폴드)"
   ]
  },
  {
   "cell_type": "code",
   "execution_count": 7,
   "metadata": {},
   "outputs": [
    {
     "name": "stdout",
     "output_type": "stream",
     "text": [
      "Iris 레이블:\n",
      " [0 0 0 0 0 0 0 0 0 0 0 0 0 0 0 0 0 0 0 0 0 0 0 0 0 0 0 0 0 0 0 0 0 0 0 0 0\n",
      " 0 0 0 0 0 0 0 0 0 0 0 0 0 1 1 1 1 1 1 1 1 1 1 1 1 1 1 1 1 1 1 1 1 1 1 1 1\n",
      " 1 1 1 1 1 1 1 1 1 1 1 1 1 1 1 1 1 1 1 1 1 1 1 1 1 1 2 2 2 2 2 2 2 2 2 2 2\n",
      " 2 2 2 2 2 2 2 2 2 2 2 2 2 2 2 2 2 2 2 2 2 2 2 2 2 2 2 2 2 2 2 2 2 2 2 2 2\n",
      " 2 2]\n"
     ]
    }
   ],
   "source": [
    "from sklearn.datasets import load_iris\n",
    "\n",
    "iris = load_iris()\n",
    "print('Iris 레이블:\\n', iris.target)\n"
   ]
  },
  {
   "cell_type": "code",
   "execution_count": 9,
   "metadata": {},
   "outputs": [
    {
     "name": "stdout",
     "output_type": "stream",
     "text": [
      "## 교차 검증 KFold 1 ##\n",
      "## 학습 데이터 ##\n",
      " 1    50\n",
      "2    50\n",
      "Name: target, dtype: int64\n",
      "## 검증 데이터 ##\n",
      " 0    50\n",
      "Name: target, dtype: int64\n",
      "## 교차 검증 KFold 2 ##\n",
      "## 학습 데이터 ##\n",
      " 0    50\n",
      "2    50\n",
      "Name: target, dtype: int64\n",
      "## 검증 데이터 ##\n",
      " 1    50\n",
      "Name: target, dtype: int64\n",
      "## 교차 검증 KFold 3 ##\n",
      "## 학습 데이터 ##\n",
      " 0    50\n",
      "1    50\n",
      "Name: target, dtype: int64\n",
      "## 검증 데이터 ##\n",
      " 2    50\n",
      "Name: target, dtype: int64\n"
     ]
    }
   ],
   "source": [
    "# 단순한 KFold 하기\n",
    "from sklearn.model_selection import KFold\n",
    "from sklearn.model_selection import train_test_split\n",
    "\n",
    "# DataFrame으로 만들기\n",
    "iris_df = pd.DataFrame(iris_data, columns=iris.feature_names)\n",
    "iris_df['target'] = target\n",
    "\n",
    "# Kfold 생성\n",
    "kf = KFold(n_splits=3)\n",
    "n_iter = 0\n",
    "\n",
    "for train_idx, val_idx in kf.split(iris_df):\n",
    "    n_iter += 1\n",
    "    y_train, y_val = iris_df['target'].iloc[train_idx], iris_df['target'].iloc[val_idx]\n",
    "    print('## 교차 검증 KFold {0} ##'.format(n_iter))\n",
    "    print(\"## 학습 데이터 ##\\n {0}\".format(y_train.value_counts()))\n",
    "    print(\"## 검증 데이터 ##\\n {0}\".format(y_val.value_counts()))\n",
    "    "
   ]
  },
  {
   "cell_type": "code",
   "execution_count": 10,
   "metadata": {},
   "outputs": [
    {
     "name": "stdout",
     "output_type": "stream",
     "text": [
      "교차 검증 점수:\n",
      " [0. 0. 0.]\n"
     ]
    }
   ],
   "source": [
    "# kfold로 교차 검증 점수 얻기\n",
    "kf = KFold(n_splits=3)\n",
    "\n",
    "print('교차 검증 점수:\\n', cross_val_score(lr_clf, iris_data, target, cv=kf))\n",
    "# 각 폴드는 iris 데이터 셋 클래스 중 하나에 대응하므로 아무것도 학습할 수 없다. "
   ]
  },
  {
   "cell_type": "code",
   "execution_count": 11,
   "metadata": {},
   "outputs": [
    {
     "name": "stdout",
     "output_type": "stream",
     "text": [
      "교차 검증 점수:\n",
      " [0.98 0.96 0.96]\n"
     ]
    }
   ],
   "source": [
    "# Kfold 데이터 분할 전 섞어주기\n",
    "kf = KFold(n_splits=3, shuffle=True, random_state=0)\n",
    "print('교차 검증 점수:\\n', cross_val_score(lr_clf, iris_data, target, cv=kf))"
   ]
  },
  {
   "attachments": {},
   "cell_type": "markdown",
   "metadata": {},
   "source": [
    "#### 클래스의 같은 비율로 폴드 나누기"
   ]
  },
  {
   "cell_type": "code",
   "execution_count": 12,
   "metadata": {},
   "outputs": [
    {
     "name": "stdout",
     "output_type": "stream",
     "text": [
      "## 교차 검증 KFold 1 ##\n",
      "## 학습 데이터 ##\n",
      " 2    34\n",
      "0    33\n",
      "1    33\n",
      "Name: target, dtype: int64\n",
      "## 검증 데이터 ##\n",
      " 0    17\n",
      "1    17\n",
      "2    16\n",
      "Name: target, dtype: int64\n",
      "## 교차 검증 KFold 2 ##\n",
      "## 학습 데이터 ##\n",
      " 1    34\n",
      "0    33\n",
      "2    33\n",
      "Name: target, dtype: int64\n",
      "## 검증 데이터 ##\n",
      " 0    17\n",
      "2    17\n",
      "1    16\n",
      "Name: target, dtype: int64\n",
      "## 교차 검증 KFold 3 ##\n",
      "## 학습 데이터 ##\n",
      " 0    34\n",
      "1    33\n",
      "2    33\n",
      "Name: target, dtype: int64\n",
      "## 검증 데이터 ##\n",
      " 1    17\n",
      "2    17\n",
      "0    16\n",
      "Name: target, dtype: int64\n"
     ]
    }
   ],
   "source": [
    "from sklearn.model_selection import StratifiedKFold\n",
    "\n",
    "skf = StratifiedKFold(n_splits=3)\n",
    "n_iter = 0\n",
    "\n",
    "for train_idx, val_idx in skf.split(iris_df, iris_df['target']):\n",
    "    n_iter += 1\n",
    "    y_train, y_val = iris_df['target'].iloc[train_idx], iris_df['target'].iloc[val_idx]\n",
    "    print('## 교차 검증 KFold {0} ##'.format(n_iter))\n",
    "    print(\"## 학습 데이터 ##\\n {0}\".format(y_train.value_counts()))\n",
    "    print(\"## 검증 데이터 ##\\n {0}\".format(y_val.value_counts()))\n",
    "# 클래스 비율에 맞춰서 폴드 나눠짐"
   ]
  },
  {
   "attachments": {},
   "cell_type": "markdown",
   "metadata": {},
   "source": [
    "#### LOOCV(Leave-one-out Cross-validation)"
   ]
  },
  {
   "cell_type": "code",
   "execution_count": 14,
   "metadata": {},
   "outputs": [
    {
     "name": "stdout",
     "output_type": "stream",
     "text": [
      "교차 검증 분할 횟수: 150\n",
      "교차 검증 분할 scores: [1. 1. 1. 1. 1. 1. 1. 1. 1. 1. 1. 1. 1. 1. 1. 1. 1. 1. 1. 1. 1. 1. 1. 1.\n",
      " 1. 1. 1. 1. 1. 1. 1. 1. 1. 1. 1. 1. 1. 1. 1. 1. 1. 1. 1. 1. 1. 1. 1. 1.\n",
      " 1. 1. 1. 1. 1. 1. 1. 1. 1. 1. 1. 1. 1. 1. 1. 1. 1. 1. 1. 1. 1. 1. 0. 1.\n",
      " 1. 1. 1. 1. 1. 0. 1. 1. 1. 1. 1. 0. 1. 1. 1. 1. 1. 1. 1. 1. 1. 1. 1. 1.\n",
      " 1. 1. 1. 1. 1. 1. 1. 1. 1. 1. 0. 1. 1. 1. 1. 1. 1. 1. 1. 1. 1. 1. 1. 0.\n",
      " 1. 1. 1. 1. 1. 1. 1. 1. 1. 1. 1. 1. 1. 1. 1. 1. 1. 1. 1. 1. 1. 1. 1. 1.\n",
      " 1. 1. 1. 1. 1. 1.]\n",
      "평균 정확도 : 0.97\n"
     ]
    }
   ],
   "source": [
    "from sklearn.model_selection import LeaveOneOut\n",
    "# loo 선언\n",
    "loo = LeaveOneOut()\n",
    "scores = cross_val_score(lr_clf, iris_data, target, cv=loo)\n",
    "print('교차 검증 분할 횟수:', len(scores))\n",
    "print('교차 검증 분할 scores:', scores)\n",
    "print(\"평균 정확도 : {0:.2f}\".format(scores.mean()))"
   ]
  },
  {
   "attachments": {},
   "cell_type": "markdown",
   "metadata": {},
   "source": [
    "#### shuffle-split cross-validation"
   ]
  },
  {
   "cell_type": "code",
   "execution_count": 15,
   "metadata": {},
   "outputs": [
    {
     "name": "stdout",
     "output_type": "stream",
     "text": [
      "교차 검증 점수:\n",
      " [0.98666667 0.97333333 0.94666667 0.93333333 0.92       0.97333333\n",
      " 0.94666667 0.92       0.97333333 0.96      ]\n"
     ]
    }
   ],
   "source": [
    "from sklearn.model_selection import ShuffleSplit\n",
    "# 데이터셋의 50%를 train 세트, 50%를 test세트로 10번 분할\n",
    "shuffle_split = ShuffleSplit(test_size=.5, train_size=.5, n_splits=10)\n",
    "scores = cross_val_score(lr_clf, iris_data, target, cv=shuffle_split)\n",
    "print(\"교차 검증 점수:\\n\", scores)"
   ]
  },
  {
   "attachments": {},
   "cell_type": "markdown",
   "metadata": {},
   "source": [
    "#### GroupKFold"
   ]
  },
  {
   "cell_type": "code",
   "execution_count": 16,
   "metadata": {},
   "outputs": [
    {
     "name": "stdout",
     "output_type": "stream",
     "text": [
      "교차 검증 점수:\n",
      " [0.75       0.6        0.66666667]\n"
     ]
    }
   ],
   "source": [
    "from sklearn.model_selection import GroupKFold\n",
    "from sklearn.datasets import make_blobs\n",
    "gkf = GroupKFold(n_splits=3)\n",
    "\n",
    "# 인위적인 데이터 생성\n",
    "X, y = make_blobs(n_samples=12, random_state=0)\n",
    "# 처음 세 개의 샘플은 같은 그룹에 속함\n",
    "groups= [0,0,0,1,1,1,1,2,2,3,3,3]\n",
    "scores = cross_val_score(lr_clf, X, y, groups=groups, cv=gkf)\n",
    "\n",
    "print(\"교차 검증 점수:\\n\", scores)"
   ]
  },
  {
   "attachments": {},
   "cell_type": "markdown",
   "metadata": {},
   "source": [
    "#### 반복 교차 검증 - RepeatedStratifiedKFold"
   ]
  },
  {
   "cell_type": "code",
   "execution_count": 17,
   "metadata": {},
   "outputs": [
    {
     "name": "stdout",
     "output_type": "stream",
     "text": [
      "교차 검증 점수:\n",
      " [1.         0.96666667 0.93333333 1.         0.93333333 0.96666667\n",
      " 0.96666667 0.93333333 1.         0.96666667 0.93333333 1.\n",
      " 1.         0.96666667 0.96666667 0.9        1.         1.\n",
      " 0.93333333 0.96666667 0.93333333 0.96666667 0.96666667 1.\n",
      " 0.96666667 1.         0.96666667 0.96666667 0.9        1.\n",
      " 0.96666667 0.96666667 0.96666667 0.96666667 0.93333333 0.96666667\n",
      " 0.96666667 1.         1.         0.9        0.96666667 1.\n",
      " 0.9        0.96666667 0.96666667 0.9        0.96666667 0.96666667\n",
      " 1.         0.96666667]\n",
      "교차 검증 평균 점수: 0.965\n"
     ]
    }
   ],
   "source": [
    "from sklearn.model_selection import RepeatedStratifiedKFold\n",
    "\n",
    "rskf = RepeatedStratifiedKFold(random_state=42)\n",
    "scores = cross_val_score(lr_clf, iris_data, target, cv=rskf)\n",
    "\n",
    "print(\"교차 검증 점수:\\n\", scores)\n",
    "print(\"교차 검증 평균 점수: {:.3f}\".format(scores.mean()))"
   ]
  },
  {
   "cell_type": "code",
   "execution_count": null,
   "metadata": {},
   "outputs": [],
   "source": []
  }
 ],
 "metadata": {
  "kernelspec": {
   "display_name": "Python 3",
   "language": "python",
   "name": "python3"
  },
  "language_info": {
   "codemirror_mode": {
    "name": "ipython",
    "version": 3
   },
   "file_extension": ".py",
   "mimetype": "text/x-python",
   "name": "python",
   "nbconvert_exporter": "python",
   "pygments_lexer": "ipython3",
   "version": "3.10.8"
  },
  "orig_nbformat": 4,
  "vscode": {
   "interpreter": {
    "hash": "369f2c481f4da34e4445cda3fffd2e751bd1c4d706f27375911949ba6bb62e1c"
   }
  }
 },
 "nbformat": 4,
 "nbformat_minor": 2
}

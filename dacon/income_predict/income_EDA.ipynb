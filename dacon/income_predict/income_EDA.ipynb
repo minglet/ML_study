{
 "cells": [
  {
   "cell_type": "code",
   "execution_count": 1,
   "metadata": {},
   "outputs": [],
   "source": [
    "import pandas as pd\n",
    "import numpy as np\n",
    "import seaborn as sns\n",
    "import os\n",
    "import matplotlib.pyplot as plt\n",
    "%matplotlib inline"
   ]
  },
  {
   "cell_type": "code",
   "execution_count": 2,
   "metadata": {},
   "outputs": [],
   "source": [
    "train = pd.read_csv('../data/train.csv')\n",
    "test = pd.read_csv('../data/test.csv')"
   ]
  },
  {
   "cell_type": "code",
   "execution_count": 28,
   "metadata": {},
   "outputs": [
    {
     "name": "stdout",
     "output_type": "stream",
     "text": [
      "<class 'pandas.core.frame.DataFrame'>\n",
      "RangeIndex: 20000 entries, 0 to 19999\n",
      "Data columns (total 23 columns):\n",
      " #   Column                  Non-Null Count  Dtype \n",
      "---  ------                  --------------  ----- \n",
      " 0   ID                      20000 non-null  object\n",
      " 1   Age                     20000 non-null  int64 \n",
      " 2   Gender                  20000 non-null  object\n",
      " 3   Education_Status        20000 non-null  object\n",
      " 4   Employment_Status       20000 non-null  object\n",
      " 5   Working_Week (Yearly)   20000 non-null  int64 \n",
      " 6   Industry_Status         20000 non-null  object\n",
      " 7   Occupation_Status       20000 non-null  object\n",
      " 8   Race                    20000 non-null  object\n",
      " 9   Hispanic_Origin         20000 non-null  object\n",
      " 10  Martial_Status          20000 non-null  object\n",
      " 11  Household_Status        20000 non-null  object\n",
      " 12  Household_Summary       20000 non-null  object\n",
      " 13  Citizenship             20000 non-null  object\n",
      " 14  Birth_Country           20000 non-null  object\n",
      " 15  Birth_Country (Father)  20000 non-null  object\n",
      " 16  Birth_Country (Mother)  20000 non-null  object\n",
      " 17  Tax_Status              20000 non-null  object\n",
      " 18  Gains                   20000 non-null  int64 \n",
      " 19  Losses                  20000 non-null  int64 \n",
      " 20  Dividends               20000 non-null  int64 \n",
      " 21  Income_Status           20000 non-null  object\n",
      " 22  Income                  20000 non-null  int64 \n",
      "dtypes: int64(6), object(17)\n",
      "memory usage: 3.5+ MB\n"
     ]
    }
   ],
   "source": [
    "train.info()"
   ]
  },
  {
   "cell_type": "code",
   "execution_count": 3,
   "metadata": {},
   "outputs": [
    {
     "data": {
      "text/plain": [
       "['ID',\n",
       " 'Age',\n",
       " 'Gender',\n",
       " 'Education_Status',\n",
       " 'Employment_Status',\n",
       " 'Working_Week (Yearly)',\n",
       " 'Industry_Status',\n",
       " 'Occupation_Status',\n",
       " 'Race',\n",
       " 'Hispanic_Origin',\n",
       " 'Martial_Status',\n",
       " 'Household_Status',\n",
       " 'Household_Summary',\n",
       " 'Citizenship',\n",
       " 'Birth_Country',\n",
       " 'Birth_Country (Father)',\n",
       " 'Birth_Country (Mother)',\n",
       " 'Tax_Status',\n",
       " 'Gains',\n",
       " 'Losses',\n",
       " 'Dividends',\n",
       " 'Income_Status',\n",
       " 'Income']"
      ]
     },
     "execution_count": 3,
     "metadata": {},
     "output_type": "execute_result"
    }
   ],
   "source": [
    "train.columns.tolist()"
   ]
  },
  {
   "cell_type": "code",
   "execution_count": 4,
   "metadata": {},
   "outputs": [
    {
     "data": {
      "text/plain": [
       "['ID',\n",
       " 'Age',\n",
       " 'Gender',\n",
       " 'Education_Status',\n",
       " 'Employment_Status',\n",
       " 'Working_Week (Yearly)',\n",
       " 'Industry_Status',\n",
       " 'Occupation_Status',\n",
       " 'Race',\n",
       " 'Hispanic_Origin',\n",
       " 'Martial_Status',\n",
       " 'Household_Status',\n",
       " 'Household_Summary',\n",
       " 'Citizenship',\n",
       " 'Birth_Country',\n",
       " 'Birth_Country (Father)',\n",
       " 'Birth_Country (Mother)',\n",
       " 'Tax_Status',\n",
       " 'Gains',\n",
       " 'Losses',\n",
       " 'Dividends',\n",
       " 'Income_Status']"
      ]
     },
     "execution_count": 4,
     "metadata": {},
     "output_type": "execute_result"
    }
   ],
   "source": [
    "test.columns.tolist()"
   ]
  },
  {
   "cell_type": "code",
   "execution_count": 5,
   "metadata": {},
   "outputs": [
    {
     "data": {
      "text/plain": [
       "array(['Middle (7-8)', 'Associates degree (Vocational)', 'High graduate',\n",
       "       'Masters degree', 'Bachelors degree', 'High Freshman',\n",
       "       'Elementary (1-4)', 'College', 'Children', 'High Sophomore',\n",
       "       'Associates degree (Academic)', 'High Junior', 'Elementary (5-6)',\n",
       "       'Doctorate degree', 'Professional degree', 'High Senior',\n",
       "       'Kindergarten'], dtype=object)"
      ]
     },
     "execution_count": 5,
     "metadata": {},
     "output_type": "execute_result"
    }
   ],
   "source": [
    "train['Education_Status'].unique()"
   ]
  },
  {
   "cell_type": "code",
   "execution_count": 6,
   "metadata": {},
   "outputs": [
    {
     "data": {
      "text/plain": [
       "array([ 4, 52, 50,  0,  5, 30, 40, 20, 14,  6, 12, 48, 26, 44, 42, 46, 36,\n",
       "       49, 45, 28, 35,  2,  8, 24, 15, 25, 16, 38, 22, 23, 43, 32, 17, 51,\n",
       "       37, 13, 11, 47, 21,  1, 29, 10, 18, 39,  7, 34, 41,  9, 27,  3, 19,\n",
       "       33, 31])"
      ]
     },
     "execution_count": 6,
     "metadata": {},
     "output_type": "execute_result"
    }
   ],
   "source": [
    "train['Working_Week (Yearly)'].unique()"
   ]
  },
  {
   "cell_type": "code",
   "execution_count": 7,
   "metadata": {},
   "outputs": [
    {
     "data": {
      "text/plain": [
       "array(['Full-Time', 'Children or Armed Forces', 'Not Working',\n",
       "       'Seeking Full-Time', 'Choice Part-Time',\n",
       "       'Part-Time (Usually Part-Time)', 'Part-Time (Usually Full-Time)',\n",
       "       'Seeking Part-Time'], dtype=object)"
      ]
     },
     "execution_count": 7,
     "metadata": {},
     "output_type": "execute_result"
    }
   ],
   "source": [
    "train['Employment_Status'].unique()\n",
    "# Full-Time, Children or Armed Forces, Not working, Seeking Full-Time, \n",
    "# Choice Part-Time, Part-Time (Usually Part-Time), Part-Time (Usually Full-Time),\n",
    "# Seeking Part-Time"
   ]
  },
  {
   "cell_type": "code",
   "execution_count": 8,
   "metadata": {},
   "outputs": [
    {
     "data": {
      "text/plain": [
       "array(['Social Services', 'Entertainment', 'Manufacturing (Non-durable)',\n",
       "       'Retail', 'Not in universe or children', 'Construction',\n",
       "       'Hospitals', 'Manufacturing (Durable)', 'Public Administration',\n",
       "       'Education', 'Finance Insurance & Real Estate', 'Transportation',\n",
       "       'Medical (except Hospitals)', 'Wholesale',\n",
       "       'Other professional services',\n",
       "       'Personal Services (except Private Household)',\n",
       "       'Business & Repair', 'Private Household Services', 'Mining',\n",
       "       'Agriculture', 'Utilities & Sanitary', 'Communications',\n",
       "       'Forestry & Fisheries', 'Armed Forces'], dtype=object)"
      ]
     },
     "execution_count": 8,
     "metadata": {},
     "output_type": "execute_result"
    }
   ],
   "source": [
    "train['Industry_Status'].unique()"
   ]
  },
  {
   "cell_type": "code",
   "execution_count": 14,
   "metadata": {},
   "outputs": [
    {
     "data": {
      "text/plain": [
       "array(['M', 'F'], dtype=object)"
      ]
     },
     "execution_count": 14,
     "metadata": {},
     "output_type": "execute_result"
    }
   ],
   "source": [
    "train['Gender'].unique()"
   ]
  },
  {
   "cell_type": "markdown",
   "metadata": {},
   "source": [
    "#### Income(target) 분포 보기"
   ]
  },
  {
   "cell_type": "code",
   "execution_count": 9,
   "metadata": {},
   "outputs": [
    {
     "data": {
      "text/plain": [
       "(array([1.585e+04, 3.549e+03, 4.840e+02, 4.800e+01, 1.700e+01, 1.300e+01,\n",
       "        1.500e+01, 7.000e+00, 9.000e+00, 8.000e+00]),\n",
       " array([   0. ,  999.9, 1999.8, 2999.7, 3999.6, 4999.5, 5999.4, 6999.3,\n",
       "        7999.2, 8999.1, 9999. ]),\n",
       " <BarContainer object of 10 artists>)"
      ]
     },
     "execution_count": 9,
     "metadata": {},
     "output_type": "execute_result"
    },
    {
     "data": {
      "image/png": "[encoded data removed]",
      "text/plain": [
       "<Figure size 640x480 with 1 Axes>"
      ]
     },
     "metadata": {},
     "output_type": "display_data"
    }
   ],
   "source": [
    "target = train['Income']\n",
    "plt.hist(target)"
   ]
  },
  {
   "cell_type": "code",
   "execution_count": 10,
   "metadata": {},
   "outputs": [
    {
     "data": {
      "text/plain": [
       "Income\n",
       "0       8697\n",
       "500      743\n",
       "700      550\n",
       "600      547\n",
       "800      526\n",
       "        ... \n",
       "543        1\n",
       "1713       1\n",
       "1602       1\n",
       "1722       1\n",
       "2373       1\n",
       "Name: count, Length: 1228, dtype: int64"
      ]
     },
     "execution_count": 10,
     "metadata": {},
     "output_type": "execute_result"
    }
   ],
   "source": [
    "target.value_counts()"
   ]
  },
  {
   "cell_type": "code",
   "execution_count": 11,
   "metadata": {},
   "outputs": [
    {
     "data": {
      "text/plain": [
       "Gender\n",
       "F    491.735103\n",
       "M    623.620382\n",
       "Name: Income, dtype: float64"
      ]
     },
     "execution_count": 11,
     "metadata": {},
     "output_type": "execute_result"
    }
   ],
   "source": [
    "# 성비로 income 구별하기\n",
    "train.groupby('Gender')['Income'].mean()"
   ]
  },
  {
   "cell_type": "code",
   "execution_count": 12,
   "metadata": {},
   "outputs": [
    {
     "data": {
      "text/plain": [
       "<seaborn.axisgrid.FacetGrid at 0x7ff4b0d8c520>"
      ]
     },
     "execution_count": 12,
     "metadata": {},
     "output_type": "execute_result"
    },
    {
     "data": {
      "image/png": "[encoded data removed]",
      "text/plain": [
       "<Figure size 500x500 with 1 Axes>"
      ]
     },
     "metadata": {},
     "output_type": "display_data"
    }
   ],
   "source": [
    "# 0보다 큰 경우만 봐보기\n",
    "cond = train['Income'] > 0\n",
    "sns.displot(train[cond]['Income'])"
   ]
  },
  {
   "cell_type": "markdown",
   "metadata": {},
   "source": [
    "#### 성비에 따른 target 분포 시각화"
   ]
  },
  {
   "cell_type": "code",
   "execution_count": 27,
   "metadata": {},
   "outputs": [
    {
     "data": {
      "image/png": "[encoded data removed]",
      "text/plain": [
       "<Figure size 500x500 with 1 Axes>"
      ]
     },
     "metadata": {},
     "output_type": "display_data"
    },
    {
     "data": {
      "image/png": "[encoded data removed]",
      "text/plain": [
       "<Figure size 500x500 with 1 Axes>"
      ]
     },
     "metadata": {},
     "output_type": "display_data"
    }
   ],
   "source": [
    "cond_m = train['Gender'] == 'M'\n",
    "cond_w = train['Gender'] == 'F'\n",
    "\n",
    "# fig, axes = plt.subplots(1, 2, figsize=(10, 5))\n",
    "\n",
    "sns.displot(train[cond_m]['Income'], label=0, color='blue')\n",
    "# axes[0].set_title('Male Income')\n",
    "\n",
    "sns.displot(train[cond_w]['Income'], label=1, color='red')\n",
    "# axes[1].set_title('Female Income')\n",
    "\n",
    "# plt.legend()\n",
    "plt.show()"
   ]
  },
  {
   "cell_type": "code",
   "execution_count": 24,
   "metadata": {},
   "outputs": [
    {
     "data": {
      "text/plain": [
       "Series([], Name: Income, dtype: int64)"
      ]
     },
     "execution_count": 24,
     "metadata": {},
     "output_type": "execute_result"
    }
   ],
   "source": [
    "sns.violinplot(x='Income', y='')"
   ]
  },
  {
   "cell_type": "markdown",
   "metadata": {},
   "source": [
    "### 이산형 변수, 연속형 변수 추출"
   ]
  },
  {
   "cell_type": "code",
   "execution_count": 38,
   "metadata": {},
   "outputs": [],
   "source": [
    "columns = train.columns.tolist()\n",
    "\n",
    "train_obj = [col for col in columns if train[col].dtypes == 'object']\n",
    "train_int = [col for col in columns if train[col].dtypes == 'int64']"
   ]
  },
  {
   "cell_type": "code",
   "execution_count": 40,
   "metadata": {},
   "outputs": [
    {
     "name": "stdout",
     "output_type": "stream",
     "text": [
      "['Age', 'Working_Week (Yearly)', 'Gains', 'Losses', 'Dividends', 'Income']\n",
      "['ID', 'Gender', 'Education_Status', 'Employment_Status', 'Industry_Status', 'Occupation_Status', 'Race', 'Hispanic_Origin', 'Martial_Status', 'Household_Status', 'Household_Summary', 'Citizenship', 'Birth_Country', 'Birth_Country (Father)', 'Birth_Country (Mother)', 'Tax_Status', 'Income_Status']\n"
     ]
    }
   ],
   "source": [
    "print(train_int)\n",
    "print(train_obj)"
   ]
  },
  {
   "cell_type": "markdown",
   "metadata": {},
   "source": [
    "#### object 형 feature에 대해서 Income 값을 histogram으로 시각화"
   ]
  },
  {
   "cell_type": "code",
   "execution_count": 59,
   "metadata": {},
   "outputs": [
    {
     "name": "stdout",
     "output_type": "stream",
     "text": [
      "['Gender', 'Education_Status', 'Employment_Status', 'Industry_Status', 'Occupation_Status', 'Race', 'Hispanic_Origin', 'Martial_Status', 'Household_Status', 'Household_Summary', 'Citizenship', 'Birth_Country', 'Birth_Country (Father)', 'Birth_Country (Mother)', 'Tax_Status', 'Income_Status']\n"
     ]
    }
   ],
   "source": [
    "obj_columns = train.dtypes[train.dtypes == 'object'].index.tolist()\n",
    "obj_columns.remove('ID')\n",
    "print(obj_columns)"
   ]
  },
  {
   "cell_type": "code",
   "execution_count": 60,
   "metadata": {},
   "outputs": [],
   "source": [
    "def show_hist_by_target(df, column):\n",
    "    colors = sns.color_palette('husl', 10) \n",
    "    col_obj = df[column].unique()\n",
    "    for i, col in enumerate(col_obj):\n",
    "        sns.histplot(data=df[df[column]==col], x='Income', color=colors[i], label=col)\n",
    "    \n",
    "    plt.legend()\n",
    "    plt.show()\n",
    "    "
   ]
  },
  {
   "cell_type": "code",
   "execution_count": 61,
   "metadata": {},
   "outputs": [
    {
     "data": {
      "image/png": "[encoded data removed]",
      "text/plain": [
       "<Figure size 640x480 with 1 Axes>"
      ]
     },
     "metadata": {},
     "output_type": "display_data"
    },
    {
     "ename": "IndexError",
     "evalue": "list index out of range",
     "output_type": "error",
     "traceback": [
      "\u001b[0;31m---------------------------------------------------------------------------\u001b[0m",
      "\u001b[0;31mIndexError\u001b[0m                                Traceback (most recent call last)",
      "Cell \u001b[0;32mIn[61], line 2\u001b[0m\n\u001b[1;32m      1\u001b[0m \u001b[38;5;28;01mfor\u001b[39;00m column \u001b[38;5;129;01min\u001b[39;00m obj_columns:\n\u001b[0;32m----> 2\u001b[0m     \u001b[43mshow_hist_by_target\u001b[49m\u001b[43m(\u001b[49m\u001b[43mtrain\u001b[49m\u001b[43m,\u001b[49m\u001b[43m \u001b[49m\u001b[43mcolumn\u001b[49m\u001b[43m)\u001b[49m\n",
      "Cell \u001b[0;32mIn[60], line 5\u001b[0m, in \u001b[0;36mshow_hist_by_target\u001b[0;34m(df, column)\u001b[0m\n\u001b[1;32m      3\u001b[0m col_obj \u001b[38;5;241m=\u001b[39m df[column]\u001b[38;5;241m.\u001b[39munique()\n\u001b[1;32m      4\u001b[0m \u001b[38;5;28;01mfor\u001b[39;00m i, col \u001b[38;5;129;01min\u001b[39;00m \u001b[38;5;28menumerate\u001b[39m(col_obj):\n\u001b[0;32m----> 5\u001b[0m     sns\u001b[38;5;241m.\u001b[39mhistplot(data\u001b[38;5;241m=\u001b[39mdf[df[column]\u001b[38;5;241m==\u001b[39mcol], x\u001b[38;5;241m=\u001b[39m\u001b[38;5;124m'\u001b[39m\u001b[38;5;124mIncome\u001b[39m\u001b[38;5;124m'\u001b[39m, color\u001b[38;5;241m=\u001b[39m\u001b[43mcolors\u001b[49m\u001b[43m[\u001b[49m\u001b[43mi\u001b[49m\u001b[43m]\u001b[49m, label\u001b[38;5;241m=\u001b[39mcol)\n\u001b[1;32m      7\u001b[0m plt\u001b[38;5;241m.\u001b[39mlegend()\n\u001b[1;32m      8\u001b[0m plt\u001b[38;5;241m.\u001b[39mshow()\n",
      "\u001b[0;31mIndexError\u001b[0m: list index out of range"
     ]
    },
    {
     "data": {
      "image/png": "[encoded data removed]",
      "text/plain": [
       "<Figure size 640x480 with 1 Axes>"
      ]
     },
     "metadata": {},
     "output_type": "display_data"
    }
   ],
   "source": [
    "for column in obj_columns:\n",
    "    show_hist_by_target(train, column)"
   ]
  },
  {
   "cell_type": "code",
   "execution_count": 65,
   "metadata": {},
   "outputs": [
    {
     "name": "stdout",
     "output_type": "stream",
     "text": [
      "Gender 2\n",
      "Education_Status 17\n",
      "Employment_Status 8\n",
      "Industry_Status 24\n",
      "Occupation_Status 15\n",
      "Race 5\n",
      "Hispanic_Origin 10\n",
      "Martial_Status 7\n",
      "Household_Status 31\n",
      "Household_Summary 8\n",
      "Citizenship 5\n",
      "Birth_Country 43\n",
      "Birth_Country (Father) 43\n",
      "Birth_Country (Mother) 43\n",
      "Tax_Status 6\n",
      "Income_Status 3\n"
     ]
    }
   ],
   "source": [
    "for col in obj_columns:\n",
    "    print(col, len(train[col].unique()))"
   ]
  },
  {
   "cell_type": "code",
   "execution_count": 66,
   "metadata": {},
   "outputs": [
    {
     "name": "stdout",
     "output_type": "stream",
     "text": [
      "['Householder' 'Nonfamily householder'\n",
      " 'Child 18+ never marr Not in a subfamily' 'Spouse of householder'\n",
      " 'Other Relative 18+ ever married Responsible Person of subfamily'\n",
      " 'Child <18 never marr not in subfamily'\n",
      " 'Other Relative <18 never married child of subfamily Responsible Person'\n",
      " 'Child 18+ ever married Responsible Person of subfamily'\n",
      " 'Secondary individual' 'Grandchild 18+ never marr not in subfamily'\n",
      " 'Other Rel 18+ ever marr not in subfamily'\n",
      " 'Responsible Person of unrelated subfamily'\n",
      " 'Grandchild <18 never married child of subfamily Responsible Person'\n",
      " 'Child 18+ ever marr Not in a subfamily'\n",
      " 'Other Rel 18+ never marr not in subfamily'\n",
      " 'Child 18+ never married Responsible Person of subfamily'\n",
      " 'Other Rel <18 never marr not in subfamily'\n",
      " 'Child under 18 of Responsible Person of unrelated subfamily'\n",
      " 'Grandchild <18 never marr not in subfamily' 'In group quarters'\n",
      " 'Other Relative 18+ spouse of subfamily Responsible Person'\n",
      " 'Other Relative 18+ never married Responsible Person of subfamily'\n",
      " 'Child <18 never married Responsible Person of subfamily'\n",
      " 'Grandchild 18+ spouse of subfamily Responsible Person'\n",
      " 'Child 18+ spouse of subfamily Responsible Person'\n",
      " 'Child <18 ever marr not in subfamily'\n",
      " 'Spouse of Responsible Person of unrelated subfamily'\n",
      " 'Grandchild 18+ ever marr not in subfamily'\n",
      " 'Grandchild 18+ ever married Responsible Person of subfamily'\n",
      " 'Child <18 ever married Responsible Person of subfamily'\n",
      " 'Other Relative <18 ever married Responsible Person of subfamily']\n"
     ]
    }
   ],
   "source": [
    "print(train['Household_Status'].unique())"
   ]
  },
  {
   "cell_type": "code",
   "execution_count": 69,
   "metadata": {},
   "outputs": [
    {
     "data": {
      "text/plain": [
       "Tax_Status\n",
       "Head of Household (HOH)                                     676.317995\n",
       "Married Filling Jointly both over 65 (MFJ)                  203.144989\n",
       "Married Filling Jointly both under 65 (MFJ)                 742.472403\n",
       "Married Filling Jointly one over 65 & one under 65 (MFJ)    474.095082\n",
       "Nonfiler                                                     60.947341\n",
       "Single                                                      615.808365\n",
       "Name: Income, dtype: float64"
      ]
     },
     "execution_count": 69,
     "metadata": {},
     "output_type": "execute_result"
    }
   ],
   "source": [
    "train.groupby('Tax_Status')['Income'].mean()"
   ]
  },
  {
   "cell_type": "code",
   "execution_count": null,
   "metadata": {},
   "outputs": [],
   "source": []
  }
 ],
 "metadata": {
  "kernelspec": {
   "display_name": "Python 3",
   "language": "python",
   "name": "python3"
  },
  "language_info": {
   "codemirror_mode": {
    "name": "ipython",
    "version": 3
   },
   "file_extension": ".py",
   "mimetype": "text/x-python",
   "name": "python",
   "nbconvert_exporter": "python",
   "pygments_lexer": "ipython3",
   "version": "3.10.13"
  }
 },
 "nbformat": 4,
 "nbformat_minor": 2
}

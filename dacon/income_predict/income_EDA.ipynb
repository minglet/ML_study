{
 "cells": [
  {
   "cell_type": "code",
   "execution_count": 15,
   "metadata": {},
   "outputs": [],
   "source": [
    "import pandas as pd\n",
    "import numpy as np\n",
    "import seaborn as sns\n",
    "import os\n",
    "import matplotlib.pyplot as plt\n",
    "%matplotlib inline"
   ]
  },
  {
   "cell_type": "code",
   "execution_count": 3,
   "metadata": {},
   "outputs": [],
   "source": [
    "train = pd.read_csv('../data/train.csv')\n",
    "test = pd.read_csv('../data/test.csv')"
   ]
  },
  {
   "cell_type": "code",
   "execution_count": 6,
   "metadata": {},
   "outputs": [
    {
     "data": {
      "text/plain": [
       "['ID',\n",
       " 'Age',\n",
       " 'Gender',\n",
       " 'Education_Status',\n",
       " 'Employment_Status',\n",
       " 'Working_Week (Yearly)',\n",
       " 'Industry_Status',\n",
       " 'Occupation_Status',\n",
       " 'Race',\n",
       " 'Hispanic_Origin',\n",
       " 'Martial_Status',\n",
       " 'Household_Status',\n",
       " 'Household_Summary',\n",
       " 'Citizenship',\n",
       " 'Birth_Country',\n",
       " 'Birth_Country (Father)',\n",
       " 'Birth_Country (Mother)',\n",
       " 'Tax_Status',\n",
       " 'Gains',\n",
       " 'Losses',\n",
       " 'Dividends',\n",
       " 'Income_Status',\n",
       " 'Income']"
      ]
     },
     "execution_count": 6,
     "metadata": {},
     "output_type": "execute_result"
    }
   ],
   "source": [
    "train.columns.tolist()"
   ]
  },
  {
   "cell_type": "code",
   "execution_count": 7,
   "metadata": {},
   "outputs": [
    {
     "data": {
      "text/plain": [
       "['ID',\n",
       " 'Age',\n",
       " 'Gender',\n",
       " 'Education_Status',\n",
       " 'Employment_Status',\n",
       " 'Working_Week (Yearly)',\n",
       " 'Industry_Status',\n",
       " 'Occupation_Status',\n",
       " 'Race',\n",
       " 'Hispanic_Origin',\n",
       " 'Martial_Status',\n",
       " 'Household_Status',\n",
       " 'Household_Summary',\n",
       " 'Citizenship',\n",
       " 'Birth_Country',\n",
       " 'Birth_Country (Father)',\n",
       " 'Birth_Country (Mother)',\n",
       " 'Tax_Status',\n",
       " 'Gains',\n",
       " 'Losses',\n",
       " 'Dividends',\n",
       " 'Income_Status']"
      ]
     },
     "execution_count": 7,
     "metadata": {},
     "output_type": "execute_result"
    }
   ],
   "source": [
    "test.columns.tolist()"
   ]
  },
  {
   "cell_type": "code",
   "execution_count": 9,
   "metadata": {},
   "outputs": [
    {
     "data": {
      "text/plain": [
       "array(['Middle (7-8)', 'Associates degree (Vocational)', 'High graduate',\n",
       "       'Masters degree', 'Bachelors degree', 'High Freshman',\n",
       "       'Elementary (1-4)', 'College', 'Children', 'High Sophomore',\n",
       "       'Associates degree (Academic)', 'High Junior', 'Elementary (5-6)',\n",
       "       'Doctorate degree', 'Professional degree', 'High Senior',\n",
       "       'Kindergarten'], dtype=object)"
      ]
     },
     "execution_count": 9,
     "metadata": {},
     "output_type": "execute_result"
    }
   ],
   "source": [
    "train['Education_Status'].unique()"
   ]
  },
  {
   "cell_type": "code",
   "execution_count": 10,
   "metadata": {},
   "outputs": [
    {
     "data": {
      "text/plain": [
       "array([ 4, 52, 50,  0,  5, 30, 40, 20, 14,  6, 12, 48, 26, 44, 42, 46, 36,\n",
       "       49, 45, 28, 35,  2,  8, 24, 15, 25, 16, 38, 22, 23, 43, 32, 17, 51,\n",
       "       37, 13, 11, 47, 21,  1, 29, 10, 18, 39,  7, 34, 41,  9, 27,  3, 19,\n",
       "       33, 31], dtype=int64)"
      ]
     },
     "execution_count": 10,
     "metadata": {},
     "output_type": "execute_result"
    }
   ],
   "source": [
    "train['Working_Week (Yearly)'].unique()"
   ]
  },
  {
   "cell_type": "code",
   "execution_count": 12,
   "metadata": {},
   "outputs": [
    {
     "data": {
      "text/plain": [
       "array(['Full-Time', 'Children or Armed Forces', 'Not Working',\n",
       "       'Seeking Full-Time', 'Choice Part-Time',\n",
       "       'Part-Time (Usually Part-Time)', 'Part-Time (Usually Full-Time)',\n",
       "       'Seeking Part-Time'], dtype=object)"
      ]
     },
     "execution_count": 12,
     "metadata": {},
     "output_type": "execute_result"
    }
   ],
   "source": [
    "train['Employment_Status'].unique()\n",
    "# Full-Time, Children or Armed Forces, Not working, Seeking Full-Time, \n",
    "# Choice Part-Time, Part-Time (Usually Part-Time), Part-Time (Usually Full-Time),\n",
    "# Seeking Part-Time"
   ]
  },
  {
   "cell_type": "code",
   "execution_count": 13,
   "metadata": {},
   "outputs": [
    {
     "data": {
      "text/plain": [
       "array(['Social Services', 'Entertainment', 'Manufacturing (Non-durable)',\n",
       "       'Retail', 'Not in universe or children', 'Construction',\n",
       "       'Hospitals', 'Manufacturing (Durable)', 'Public Administration',\n",
       "       'Education', 'Finance Insurance & Real Estate', 'Transportation',\n",
       "       'Medical (except Hospitals)', 'Wholesale',\n",
       "       'Other professional services',\n",
       "       'Personal Services (except Private Household)',\n",
       "       'Business & Repair', 'Private Household Services', 'Mining',\n",
       "       'Agriculture', 'Utilities & Sanitary', 'Communications',\n",
       "       'Forestry & Fisheries', 'Armed Forces'], dtype=object)"
      ]
     },
     "execution_count": 13,
     "metadata": {},
     "output_type": "execute_result"
    }
   ],
   "source": [
    "train['Industry_Status'].unique()"
   ]
  },
  {
   "cell_type": "code",
   "execution_count": null,
   "metadata": {},
   "outputs": [],
   "source": []
  },
  {
   "cell_type": "markdown",
   "metadata": {},
   "source": [
    "#### Income(target) 분포 보기"
   ]
  },
  {
   "cell_type": "code",
   "execution_count": 16,
   "metadata": {},
   "outputs": [
    {
     "data": {
      "text/plain": [
       "(array([1.585e+04, 3.549e+03, 4.840e+02, 4.800e+01, 1.700e+01, 1.300e+01,\n",
       "        1.500e+01, 7.000e+00, 9.000e+00, 8.000e+00]),\n",
       " array([   0. ,  999.9, 1999.8, 2999.7, 3999.6, 4999.5, 5999.4, 6999.3,\n",
       "        7999.2, 8999.1, 9999. ]),\n",
       " <BarContainer object of 10 artists>)"
      ]
     },
     "execution_count": 16,
     "metadata": {},
     "output_type": "execute_result"
    },
    {
     "data": {
      "image/png": "[encoded data removed]",
      "text/plain": [
       "<Figure size 640x480 with 1 Axes>"
      ]
     },
     "metadata": {},
     "output_type": "display_data"
    }
   ],
   "source": [
    "target = train['Income']\n",
    "plt.hist(target)"
   ]
  },
  {
   "cell_type": "code",
   "execution_count": 17,
   "metadata": {},
   "outputs": [
    {
     "data": {
      "text/plain": [
       "0       8697\n",
       "500      743\n",
       "700      550\n",
       "600      547\n",
       "800      526\n",
       "        ... \n",
       "543        1\n",
       "1713       1\n",
       "1602       1\n",
       "1722       1\n",
       "2373       1\n",
       "Name: Income, Length: 1228, dtype: int64"
      ]
     },
     "execution_count": 17,
     "metadata": {},
     "output_type": "execute_result"
    }
   ],
   "source": [
    "target.value_counts()"
   ]
  },
  {
   "cell_type": "code",
   "execution_count": null,
   "metadata": {},
   "outputs": [],
   "source": []
  }
 ],
 "metadata": {
  "kernelspec": {
   "display_name": "Python 3",
   "language": "python",
   "name": "python3"
  },
  "language_info": {
   "codemirror_mode": {
    "name": "ipython",
    "version": 3
   },
   "file_extension": ".py",
   "mimetype": "text/x-python",
   "name": "python",
   "nbconvert_exporter": "python",
   "pygments_lexer": "ipython3",
   "version": "3.10.8"
  }
 },
 "nbformat": 4,
 "nbformat_minor": 2
}

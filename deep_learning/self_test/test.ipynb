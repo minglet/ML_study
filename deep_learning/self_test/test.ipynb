{
 "cells": [
  {
   "cell_type": "code",
   "execution_count": 13,
   "metadata": {},
   "outputs": [
    {
     "name": "stdout",
     "output_type": "stream",
     "text": [
      "(3,)\n",
      "[0.09003057 0.24472847 0.66524096]\n"
     ]
    }
   ],
   "source": [
    "import numpy as np\n",
    "x = np.array([[1, 2, 3],\n",
    "            [4, 5, 6],\n",
    "            [7, 8, 9]])\n",
    "x = np.array([1,2,3])\n",
    "print(x.shape)\n",
    "\n",
    "if x.ndim == 2:\n",
    "    x = x - x.max(axis=1, keepdims=True)\n",
    "    x = np.exp(x)\n",
    "    x /= x.sum(axis=1, keepdims=True) \n",
    "else:\n",
    "    x = x - np.max(x) # x를 max(x)로 먼저 빼주고 x를 다시 정의해준다.\n",
    "    x = np.exp(x)\n",
    "    x /= np.sum(x)\n",
    "print(x)"
   ]
  },
  {
   "cell_type": "code",
   "execution_count": 19,
   "metadata": {},
   "outputs": [
    {
     "name": "stdout",
     "output_type": "stream",
     "text": [
      "[0.09003057 0.24472847 0.66524096]\n"
     ]
    }
   ],
   "source": [
    "# x = np.array([[1, 2, 3],\n",
    "#             [4, 5, 6],\n",
    "#             [7, 8, 9]])\n",
    "x = np.array([1,2,3])\n",
    "\n",
    "if x.ndim == 2:\n",
    "    # overflow를 막기 위해 입력값 중\n",
    "    # 최대값을 빼준다. \n",
    "    x = x - x.max(axis=1, keepdims=True)\n",
    "    x = np.exp(x)\n",
    "    x /= x.sum(axis=1, keepdims=True)\n",
    "elif x.ndim == 1:\n",
    "    x = x - np.max(x)\n",
    "    x = np.exp(x) / np.sum(np.exp(x))\n",
    "\n",
    "print(x)"
   ]
  },
  {
   "cell_type": "code",
   "execution_count": 18,
   "metadata": {},
   "outputs": [
    {
     "name": "stdout",
     "output_type": "stream",
     "text": [
      "(3,)\n"
     ]
    }
   ],
   "source": [
    "y = np.array([1,2,3])\n",
    "t = np.array([1,24,3])\n",
    "print(y.shape)\n",
    "\n",
    "if y.ndim == 1:\n",
    "    t = t.reshape(1, t.size)\n",
    "    y = y.reshape(1, y.size)\n"
   ]
  },
  {
   "cell_type": "code",
   "execution_count": 20,
   "metadata": {},
   "outputs": [
    {
     "name": "stdout",
     "output_type": "stream",
     "text": [
      "2\n",
      "[0 1]\n",
      "[0.7 0.9]\n"
     ]
    },
    {
     "data": {
      "text/plain": [
       "0.23101760281416064"
      ]
     },
     "execution_count": 20,
     "metadata": {},
     "output_type": "execute_result"
    }
   ],
   "source": [
    "# 예측값 y와 정답 레이블 t 생성\n",
    "y = np.array([[0.2, 0.7, 0.1],\n",
    "              [0.9, 0.1, 0.0]])\n",
    "# y.shape (2, 3)\n",
    "\n",
    "t = np.array([[0, 1, 0],\n",
    "              [1, 0, 0]])\n",
    "# t.shape (2, 3)\n",
    "\n",
    "def cross_entropy_error(y, t):\n",
    "    if y.ndim == 1:\n",
    "        t = t.reshape(1, t.size)\n",
    "        y = y.reshape(1, y.size)\n",
    "\n",
    "    if t.size == y.size:\n",
    "        t = t.argmax(axis=1) # 예측한 것들 중 가장 높은 즉 확률이 가장 높은 값의 인덱스를 출력\n",
    "\n",
    "    batch_size = y.shape[0]\n",
    "    print(batch_size)\n",
    "    print(np.arange(batch_size))    \n",
    "    print(y[np.arange(batch_size), t]) # t의 인덱스 위치에 해당하는 y의 값을 불러옴\n",
    "    cross_entropy = np.log(y[np.arange(batch_size), t] + 1e-7)\n",
    "    loss = -np.sum(cross_entropy) / batch_size\n",
    "\n",
    "    return loss\n",
    "\n",
    "cross_entropy_error(y, t)"
   ]
  },
  {
   "cell_type": "code",
   "execution_count": null,
   "metadata": {},
   "outputs": [],
   "source": []
  }
 ],
 "metadata": {
  "kernelspec": {
   "display_name": "kaggle",
   "language": "python",
   "name": "python3"
  },
  "language_info": {
   "codemirror_mode": {
    "name": "ipython",
    "version": 3
   },
   "file_extension": ".py",
   "mimetype": "text/x-python",
   "name": "python",
   "nbconvert_exporter": "python",
   "pygments_lexer": "ipython3",
   "version": "3.10.13"
  }
 },
 "nbformat": 4,
 "nbformat_minor": 2
}

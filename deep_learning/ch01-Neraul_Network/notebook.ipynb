{
 "cells": [
  {
   "cell_type": "markdown",
   "metadata": {},
   "source": [
    "### 직접 테스트하고 싶은 거 확인하면서 보기"
   ]
  },
  {
   "cell_type": "code",
   "execution_count": 4,
   "metadata": {},
   "outputs": [
    {
     "name": "stdout",
     "output_type": "stream",
     "text": [
      "x size: (1, 8)\n",
      "y size: (7, 8)\n"
     ]
    }
   ],
   "source": [
    "# Repeat node 예제\n",
    "import numpy as np\n",
    "\n",
    "D, N = 8, 7\n",
    "x = np.random.randn(1, D)\n",
    "# np.repeat으로 x를 한 줄씩 추가하는 것\n",
    "y = np.repeat(x, N, axis=0) # row를 기준으로 복제하기\n",
    "print(f'x size: {x.shape}')\n",
    "print(f'y size: {y.shape}')"
   ]
  },
  {
   "cell_type": "code",
   "execution_count": 5,
   "metadata": {},
   "outputs": [
    {
     "data": {
      "text/plain": [
       "array([[-1.34697905, -0.04839212, -0.31104008,  0.95931094,  0.34183142,\n",
       "         0.44716615,  0.85842551, -1.82937361]])"
      ]
     },
     "execution_count": 5,
     "metadata": {},
     "output_type": "execute_result"
    }
   ],
   "source": [
    "x"
   ]
  },
  {
   "cell_type": "code",
   "execution_count": 6,
   "metadata": {},
   "outputs": [
    {
     "data": {
      "text/plain": [
       "array([[-1.34697905, -0.04839212, -0.31104008,  0.95931094,  0.34183142,\n",
       "         0.44716615,  0.85842551, -1.82937361],\n",
       "       [-1.34697905, -0.04839212, -0.31104008,  0.95931094,  0.34183142,\n",
       "         0.44716615,  0.85842551, -1.82937361],\n",
       "       [-1.34697905, -0.04839212, -0.31104008,  0.95931094,  0.34183142,\n",
       "         0.44716615,  0.85842551, -1.82937361],\n",
       "       [-1.34697905, -0.04839212, -0.31104008,  0.95931094,  0.34183142,\n",
       "         0.44716615,  0.85842551, -1.82937361],\n",
       "       [-1.34697905, -0.04839212, -0.31104008,  0.95931094,  0.34183142,\n",
       "         0.44716615,  0.85842551, -1.82937361],\n",
       "       [-1.34697905, -0.04839212, -0.31104008,  0.95931094,  0.34183142,\n",
       "         0.44716615,  0.85842551, -1.82937361],\n",
       "       [-1.34697905, -0.04839212, -0.31104008,  0.95931094,  0.34183142,\n",
       "         0.44716615,  0.85842551, -1.82937361]])"
      ]
     },
     "execution_count": 6,
     "metadata": {},
     "output_type": "execute_result"
    }
   ],
   "source": [
    "# x가 복제되어 같은 값이 계속 들어감\n",
    "y "
   ]
  },
  {
   "cell_type": "code",
   "execution_count": 9,
   "metadata": {},
   "outputs": [],
   "source": [
    "dy = np.random.randn(N, D)\n",
    "# keepdims = True : 차원 수 유지\n",
    "dx = np.sum(dy, axis=0, keepdims = True) # row를 기준으로 sum하겠다는 것\n",
    "\n",
    "# sum을 한다는 것은 순전파\n",
    "# 큰 dimension에서 압축되어 작은 dimension으로 감\n",
    "\n",
    "# repeat을 한다는 것은 역전파\n",
    "# 작은 dimension에서 큰 dimension으로 복제해가며 늘리는 작업"
   ]
  },
  {
   "cell_type": "code",
   "execution_count": 11,
   "metadata": {},
   "outputs": [
    {
     "name": "stdout",
     "output_type": "stream",
     "text": [
      "x.shape: (7, 8)\n",
      "y.shape: (1, 8)\n"
     ]
    }
   ],
   "source": [
    "# sum 노드 역전파\n",
    "\n",
    "x = np.random.randn(N, D)\n",
    "y = np.sum(y, axis=0, keepdims=True)\n",
    "\n",
    "print(f'x.shape: {x.shape}')\n",
    "print(f'y.shape: {y.shape}')"
   ]
  },
  {
   "cell_type": "markdown",
   "metadata": {},
   "source": [
    "### Matmul\n",
    "행렬의 곱셈 Matrix Multiply의 약자로 `MatMul`을 사용한다. 배치사이즈가 N이라고 할 때 MatMul 노드의 역전파는 다음과 같다.\n",
    "![matmul](/Users/taghive/Documents/minah/git/ML_study/deep_learning/ch01-Neraul_Network/image/matmul.png)"
   ]
  },
  {
   "cell_type": "code",
   "execution_count": 12,
   "metadata": {},
   "outputs": [],
   "source": [
    "import numpy as np\n",
    "\n",
    "# Matmul 클래스 구현\n",
    "# common/layer.py\n",
    "\n",
    "class Matmul:\n",
    "    def __init__(self, W) -> None:\n",
    "        self.params = [W]\n",
    "        self.grads = [np.zeros_like(W)]\n",
    "        self.x = None\n",
    "\n",
    "    def forward(self, x):\n",
    "        W, = self.params\n",
    "        out = np.matmul(x, W)\n",
    "        self.x = x\n",
    "        return out\n",
    "    \n",
    "    def backward(self, dout):\n",
    "        W, = self.params\n",
    "        dx = np.matmul(dout, W.T)\n",
    "        dW = np.matmul(self.x.T, dout)\n",
    "        self.grads[0][...] = dW # 깊은 복사\n",
    "        return dx"
   ]
  },
  {
   "cell_type": "markdown",
   "metadata": {},
   "source": [
    "- **np.zeros** : 0으로 가득찬 Array를 배출한다. 즉, 여기에는 튜플, int, 혹은 list의 값이 들어와야 한다 그렇게 되면 해당하는 shape으로 형태를 만들어준다음 Array를 return 한다.    \n",
    "만약 여기에 np.zeros_like 처럼 변수를 넣어주면 오류가 나온다.\n",
    "- **np.zeros_like** : 어떤 변수만큼의 사이즈인 0 으로 가득 찬 Array를 배출한다. 즉, 여기에는 변수가 들어와야한다.    \n",
    "여기는 변수 말고도 그냥 [2,3,3] 이렇게 parameter 로 넣어줘도 되는데 이때는 단, 2,3,3 shape을 가진 array가 나오는 것이 아니라 [0, 0, 0] 인 numpy array 가 나온다."
   ]
  },
  {
   "cell_type": "code",
   "execution_count": 13,
   "metadata": {},
   "outputs": [],
   "source": [
    "# 얕은 복사 깊은 복사 차이\n",
    "a = np.array([1,2,3])\n",
    "b = np.array([2,3,4])\n",
    "\n",
    "a = b"
   ]
  },
  {
   "cell_type": "code",
   "execution_count": 14,
   "metadata": {},
   "outputs": [
    {
     "data": {
      "text/plain": [
       "True"
      ]
     },
     "execution_count": 14,
     "metadata": {},
     "output_type": "execute_result"
    }
   ],
   "source": [
    "id(a) == id(b)"
   ]
  },
  {
   "cell_type": "code",
   "execution_count": 16,
   "metadata": {},
   "outputs": [
    {
     "data": {
      "text/plain": [
       "array([2, 3, 4])"
      ]
     },
     "execution_count": 16,
     "metadata": {},
     "output_type": "execute_result"
    }
   ],
   "source": [
    "b"
   ]
  },
  {
   "cell_type": "code",
   "execution_count": 17,
   "metadata": {},
   "outputs": [],
   "source": [
    "a = np.array([1,2,3])\n",
    "b = np.array([2,3,4])\n",
    "\n",
    "a[...] = b"
   ]
  },
  {
   "cell_type": "code",
   "execution_count": 18,
   "metadata": {},
   "outputs": [
    {
     "data": {
      "text/plain": [
       "False"
      ]
     },
     "execution_count": 18,
     "metadata": {},
     "output_type": "execute_result"
    }
   ],
   "source": [
    "id(a) == id(b)"
   ]
  },
  {
   "cell_type": "code",
   "execution_count": null,
   "metadata": {},
   "outputs": [],
   "source": []
  }
 ],
 "metadata": {
  "kernelspec": {
   "display_name": "kaggle",
   "language": "python",
   "name": "python3"
  },
  "language_info": {
   "codemirror_mode": {
    "name": "ipython",
    "version": 3
   },
   "file_extension": ".py",
   "mimetype": "text/x-python",
   "name": "python",
   "nbconvert_exporter": "python",
   "pygments_lexer": "ipython3",
   "version": "3.10.13"
  }
 },
 "nbformat": 4,
 "nbformat_minor": 2
}

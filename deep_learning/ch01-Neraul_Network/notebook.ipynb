{
 "cells": [
  {
   "cell_type": "markdown",
   "metadata": {},
   "source": [
    "### 직접 테스트하고 싶은 거 확인하면서 보기"
   ]
  },
  {
   "cell_type": "code",
   "execution_count": 1,
   "metadata": {},
   "outputs": [
    {
     "name": "stdout",
     "output_type": "stream",
     "text": [
      "Intel MKL WARNING: Support of Intel(R) Streaming SIMD Extensions 4.2 (Intel(R) SSE4.2) enabled only processors has been deprecated. Intel oneAPI Math Kernel Library 2025.0 will require Intel(R) Advanced Vector Extensions (Intel(R) AVX) instructions.\n",
      "Intel MKL WARNING: Support of Intel(R) Streaming SIMD Extensions 4.2 (Intel(R) SSE4.2) enabled only processors has been deprecated. Intel oneAPI Math Kernel Library 2025.0 will require Intel(R) Advanced Vector Extensions (Intel(R) AVX) instructions.\n",
      "x size: (1, 8)\n",
      "y size: (7, 8)\n"
     ]
    }
   ],
   "source": [
    "# Repeat node 예제\n",
    "import numpy as np\n",
    "\n",
    "D, N = 8, 7\n",
    "x = np.random.randn(1, D)\n",
    "# np.repeat으로 x를 한 줄씩 추가하는 것\n",
    "y = np.repeat(x, N, axis=0) # row를 기준으로 복제하기\n",
    "print(f'x size: {x.shape}')\n",
    "print(f'y size: {y.shape}')"
   ]
  },
  {
   "cell_type": "code",
   "execution_count": 2,
   "metadata": {},
   "outputs": [
    {
     "data": {
      "text/plain": [
       "array([[ 1.07840703,  0.56022716,  2.65097516, -0.16894663,  1.04623254,\n",
       "        -1.45078713,  0.3767504 , -0.05715005]])"
      ]
     },
     "execution_count": 2,
     "metadata": {},
     "output_type": "execute_result"
    }
   ],
   "source": [
    "x"
   ]
  },
  {
   "cell_type": "code",
   "execution_count": 3,
   "metadata": {},
   "outputs": [
    {
     "data": {
      "text/plain": [
       "array([[ 1.07840703,  0.56022716,  2.65097516, -0.16894663,  1.04623254,\n",
       "        -1.45078713,  0.3767504 , -0.05715005],\n",
       "       [ 1.07840703,  0.56022716,  2.65097516, -0.16894663,  1.04623254,\n",
       "        -1.45078713,  0.3767504 , -0.05715005],\n",
       "       [ 1.07840703,  0.56022716,  2.65097516, -0.16894663,  1.04623254,\n",
       "        -1.45078713,  0.3767504 , -0.05715005],\n",
       "       [ 1.07840703,  0.56022716,  2.65097516, -0.16894663,  1.04623254,\n",
       "        -1.45078713,  0.3767504 , -0.05715005],\n",
       "       [ 1.07840703,  0.56022716,  2.65097516, -0.16894663,  1.04623254,\n",
       "        -1.45078713,  0.3767504 , -0.05715005],\n",
       "       [ 1.07840703,  0.56022716,  2.65097516, -0.16894663,  1.04623254,\n",
       "        -1.45078713,  0.3767504 , -0.05715005],\n",
       "       [ 1.07840703,  0.56022716,  2.65097516, -0.16894663,  1.04623254,\n",
       "        -1.45078713,  0.3767504 , -0.05715005]])"
      ]
     },
     "execution_count": 3,
     "metadata": {},
     "output_type": "execute_result"
    }
   ],
   "source": [
    "# x가 복제되어 같은 값이 계속 들어감\n",
    "y "
   ]
  },
  {
   "cell_type": "code",
   "execution_count": 4,
   "metadata": {},
   "outputs": [],
   "source": [
    "dy = np.random.randn(N, D)\n",
    "# keepdims = True : 차원 수 유지\n",
    "dx = np.sum(dy, axis=0, keepdims = True) # row를 기준으로 sum하겠다는 것\n",
    "\n",
    "# sum을 한다는 것은 순전파\n",
    "# 큰 dimension에서 압축되어 작은 dimension으로 감\n",
    "\n",
    "# repeat을 한다는 것은 역전파\n",
    "# 작은 dimension에서 큰 dimension으로 복제해가며 늘리는 작업"
   ]
  },
  {
   "cell_type": "code",
   "execution_count": 5,
   "metadata": {},
   "outputs": [
    {
     "name": "stdout",
     "output_type": "stream",
     "text": [
      "x.shape: (7, 8)\n",
      "y.shape: (1, 8)\n"
     ]
    }
   ],
   "source": [
    "# sum 노드 역전파\n",
    "\n",
    "x = np.random.randn(N, D)\n",
    "y = np.sum(y, axis=0, keepdims=True)\n",
    "\n",
    "print(f'x.shape: {x.shape}')\n",
    "print(f'y.shape: {y.shape}')"
   ]
  },
  {
   "cell_type": "markdown",
   "metadata": {},
   "source": [
    "### Matmul\n",
    "행렬의 곱셈 Matrix Multiply의 약자로 `MatMul`을 사용한다. 배치사이즈가 N이라고 할 때 MatMul 노드의 역전파는 다음과 같다.\n",
    "![matmul](/Users/taghive/Documents/minah/git/ML_study/deep_learning/ch01-Neraul_Network/image/matmul.png)"
   ]
  },
  {
   "cell_type": "code",
   "execution_count": 6,
   "metadata": {},
   "outputs": [],
   "source": [
    "import numpy as np\n",
    "\n",
    "# Matmul 클래스 구현\n",
    "# common/layer.py\n",
    "\n",
    "class Matmul:\n",
    "    def __init__(self, W) -> None:\n",
    "        self.params = [W]\n",
    "        self.grads = [np.zeros_like(W)]\n",
    "        self.x = None\n",
    "\n",
    "    def forward(self, x):\n",
    "        W, = self.params\n",
    "        out = np.matmul(x, W)\n",
    "        self.x = x\n",
    "        return out\n",
    "    \n",
    "    def backward(self, dout):\n",
    "        W, = self.params\n",
    "        dx = np.matmul(dout, W.T)\n",
    "        dW = np.matmul(self.x.T, dout)\n",
    "        self.grads[0][...] = dW # 깊은 복사\n",
    "        return dx"
   ]
  },
  {
   "cell_type": "markdown",
   "metadata": {},
   "source": [
    "- **np.zeros** : 0으로 가득찬 Array를 배출한다. 즉, 여기에는 튜플, int, 혹은 list의 값이 들어와야 한다 그렇게 되면 해당하는 shape으로 형태를 만들어준다음 Array를 return 한다.    \n",
    "만약 여기에 np.zeros_like 처럼 변수를 넣어주면 오류가 나온다.\n",
    "- **np.zeros_like** : 어떤 변수만큼의 사이즈인 0 으로 가득 찬 Array를 배출한다. 즉, 여기에는 변수가 들어와야한다.    \n",
    "여기는 변수 말고도 그냥 [2,3,3] 이렇게 parameter 로 넣어줘도 되는데 이때는 단, 2,3,3 shape을 가진 array가 나오는 것이 아니라 [0, 0, 0] 인 numpy array 가 나온다."
   ]
  },
  {
   "cell_type": "code",
   "execution_count": 7,
   "metadata": {},
   "outputs": [
    {
     "name": "stdout",
     "output_type": "stream",
     "text": [
      "[[0 0 0]\n",
      " [0 0 0]\n",
      " [0 0 0]]\n"
     ]
    },
    {
     "data": {
      "text/plain": [
       "'\\nc는 다음과 같이 나온다.\\n [[0,0,0],\\n  [0,0,0],\\n  [0,0,0]]\\n'"
      ]
     },
     "execution_count": 7,
     "metadata": {},
     "output_type": "execute_result"
    }
   ],
   "source": [
    "a = np.zeros((4,3))\n",
    "b = np.array([[1,2,3],[2,3,4],[1,2,2]])\n",
    "c = np.zeros_like(b) # 어떤 변수가 담긴 array를 넣어도 크기는 유지 되면서 0으로 다 초기화 시켜주는 기능 \n",
    "print(c)\n",
    "\n",
    "'''\n",
    "c는 다음과 같이 나온다.\n",
    " [[0,0,0],\n",
    "  [0,0,0],\n",
    "  [0,0,0]]\n",
    "'''"
   ]
  },
  {
   "cell_type": "code",
   "execution_count": 8,
   "metadata": {},
   "outputs": [],
   "source": [
    "# 얕은 복사 깊은 복사 차이\n",
    "a = np.array([1,2,3])\n",
    "b = np.array([2,3,4])\n",
    "\n",
    "a = b"
   ]
  },
  {
   "cell_type": "code",
   "execution_count": 9,
   "metadata": {},
   "outputs": [
    {
     "data": {
      "text/plain": [
       "True"
      ]
     },
     "execution_count": 9,
     "metadata": {},
     "output_type": "execute_result"
    }
   ],
   "source": [
    "id(a) == id(b)"
   ]
  },
  {
   "cell_type": "code",
   "execution_count": 10,
   "metadata": {},
   "outputs": [
    {
     "data": {
      "text/plain": [
       "array([2, 3, 4])"
      ]
     },
     "execution_count": 10,
     "metadata": {},
     "output_type": "execute_result"
    }
   ],
   "source": [
    "b"
   ]
  },
  {
   "cell_type": "code",
   "execution_count": 11,
   "metadata": {},
   "outputs": [],
   "source": [
    "a = np.array([1,2,3])\n",
    "b = np.array([2,3,4])\n",
    "\n",
    "a[...] = b"
   ]
  },
  {
   "cell_type": "code",
   "execution_count": 12,
   "metadata": {},
   "outputs": [
    {
     "data": {
      "text/plain": [
       "False"
      ]
     },
     "execution_count": 12,
     "metadata": {},
     "output_type": "execute_result"
    }
   ],
   "source": [
    "id(a) == id(b)"
   ]
  },
  {
   "cell_type": "markdown",
   "metadata": {},
   "source": [
    "### Sigmoid"
   ]
  },
  {
   "cell_type": "code",
   "execution_count": 13,
   "metadata": {},
   "outputs": [],
   "source": [
    "class Sigmoid:\n",
    "    def __init__(self):\n",
    "        self.params, self.grads = [], []\n",
    "        self.out = None\n",
    "\n",
    "    def forward(self, x):\n",
    "        out = 1 / (1+np.exp(-x))\n",
    "        self.out = out\n",
    "    \n",
    "    def backward(self, dout):\n",
    "        dx = dout * (1.0 - self.out) * self.out\n",
    "        return dx"
   ]
  },
  {
   "cell_type": "markdown",
   "metadata": {},
   "source": [
    "### Affine 계층\n",
    "![image](./image/affine.png)"
   ]
  },
  {
   "cell_type": "code",
   "execution_count": 14,
   "metadata": {},
   "outputs": [],
   "source": [
    "class Affine:\n",
    "    def __init__(self, W, b):\n",
    "        self.params = [W, b]\n",
    "        self.grads = [np.zeros_like(W), np.zeros_like(b)]\n",
    "        self.x = None\n",
    "\n",
    "    def forward(self, x):\n",
    "        W, b = self.params\n",
    "        out = np.matmul(x, W)  + b\n",
    "        self.x = x\n",
    "        return out\n",
    "    \n",
    "    def backward(self, dout):\n",
    "        W, b = self.params\n",
    "        dx = np.matmul(dout, W.T)\n",
    "        dW = np.matmul(self.x.T, dout)\n",
    "        db = np.sum(dout, axis=0)\n",
    "        \n",
    "        self.grads[0][...] = dW\n",
    "        self.grads[1][...] = db\n",
    "        return dx"
   ]
  },
  {
   "cell_type": "markdown",
   "metadata": {},
   "source": [
    "### 짚고 넘어가기 softmax함수 구현"
   ]
  },
  {
   "cell_type": "code",
   "execution_count": 15,
   "metadata": {},
   "outputs": [
    {
     "name": "stdout",
     "output_type": "stream",
     "text": [
      "[nan nan nan]\n",
      "[  0 -10 -20]\n",
      "[9.99954600e-01 4.53978686e-05 2.06106005e-09]\n"
     ]
    },
    {
     "name": "stderr",
     "output_type": "stream",
     "text": [
      "/var/folders/1p/yzsh1hd153l8nh14x_v7xgd40000gn/T/ipykernel_1341/1345834547.py:2: RuntimeWarning: overflow encountered in exp\n",
      "  print(np.exp(a) / np.sum(np.exp(a)))\n",
      "/var/folders/1p/yzsh1hd153l8nh14x_v7xgd40000gn/T/ipykernel_1341/1345834547.py:2: RuntimeWarning: invalid value encountered in divide\n",
      "  print(np.exp(a) / np.sum(np.exp(a)))\n"
     ]
    }
   ],
   "source": [
    "a = np.array([1010, 1000, 990])\n",
    "print(np.exp(a) / np.sum(np.exp(a)))\n",
    "\n",
    "c = np.max(a)\n",
    "print(a - c)\n",
    "print(np.exp(a-c) / np.sum(np.exp(a-c)))"
   ]
  },
  {
   "cell_type": "code",
   "execution_count": 2,
   "metadata": {},
   "outputs": [
    {
     "name": "stdout",
     "output_type": "stream",
     "text": [
      "Intel MKL WARNING: Support of Intel(R) Streaming SIMD Extensions 4.2 (Intel(R) SSE4.2) enabled only processors has been deprecated. Intel oneAPI Math Kernel Library 2025.0 will require Intel(R) Advanced Vector Extensions (Intel(R) AVX) instructions.\n",
      "Intel MKL WARNING: Support of Intel(R) Streaming SIMD Extensions 4.2 (Intel(R) SSE4.2) enabled only processors has been deprecated. Intel oneAPI Math Kernel Library 2025.0 will require Intel(R) Advanced Vector Extensions (Intel(R) AVX) instructions.\n"
     ]
    },
    {
     "data": {
      "text/plain": [
       "0.510825457099338"
      ]
     },
     "execution_count": 2,
     "metadata": {},
     "output_type": "execute_result"
    }
   ],
   "source": [
    "# cross entropy 구현 코드\n",
    "import numpy as np\n",
    "def cross_entropy(y, t):\n",
    "    delta = 1e-7\n",
    "    return -np.sum(t * np.log(y + delta))\n",
    "\n",
    "t = [0, 0, 1, 0, 0, 0, 0, 0, 0, 0]\n",
    "y = [0.1, 0.05, 0.6, 0.0, 0.05, 0.1, 0.0, 0.1, 0.0, 0.0]\n",
    "cross_entropy(np.array(y), np.array(t))"
   ]
  },
  {
   "cell_type": "code",
   "execution_count": 17,
   "metadata": {},
   "outputs": [
    {
     "data": {
      "text/plain": [
       "array([1, 1, 0, 1, 0, 1, 1, 0, 1, 1])"
      ]
     },
     "execution_count": 17,
     "metadata": {},
     "output_type": "execute_result"
    }
   ],
   "source": [
    "y = [[0.1, 0.05, 0.6, 0.0, 0.05, 0.1, 0.0, 0.1, 0.0, 0.0],\n",
    "     [0.2, 0.06, 0.0, 0.1, 0.04, 0.2, 0.1, 0.0, 0.1, 0.9]]\n",
    "np.array(y).argmax(axis=0) \n",
    "# argmax를 할 때 axis=0 이면 각 column에서 비교를 해서 row의 요소 수 만큼 출력 값이 나온다.\n",
    "# axis=1을 하면 각 row 중에서 가장 큰것의 인덱스 값을 출력한다. 즉 위의 경우에는 row가 2개 있으니 2개가 나온다  "
   ]
  },
  {
   "cell_type": "markdown",
   "metadata": {},
   "source": [
    "### Softmax with Loss 계층"
   ]
  },
  {
   "cell_type": "code",
   "execution_count": 24,
   "metadata": {},
   "outputs": [],
   "source": [
    "import sys\n",
    "sys.path.append('..') # 부모의 디렉터리 파일을 가져올 수 있도록 설정\n",
    "import numpy as np\n",
    "from common.functions import softmax, cross_entropy_error # 그냥 ..common 이렇게 넣으면 모듈을 못불러옴\n",
    "\n",
    "class SoftmaxWithLoos:\n",
    "    def __init__(self):\n",
    "        self.params, self.grads = [], []\n",
    "        self.y = None # softmax의 출력\n",
    "        self.t = None # 정답 레이블\n",
    "\n",
    "    def forward(self, x, t):\n",
    "        self.t = t\n",
    "        self.y = softmax(x)\n",
    "\n",
    "        # 정답 레이블이 원핫 벡터일 경우 정답의 인덱스로 변환\n",
    "        # cross_entropy_error()에 이미 있어서 굳이 필요 없을 듯\n",
    "        if self.t.size == self.y.size:\n",
    "            self.t = self.t.argmax(axis=1)\n",
    "        \n",
    "        loss = cross_entropy_error(self.y, self.t)\n",
    "        return loss\n",
    "    \n",
    "    def backward(self, dout=1):\n",
    "        batch_size = self.t.shape[0] # t의 맨 앞 요소는가 배치 사이즈\n",
    "\n",
    "        dx = self.y.copy()\n",
    "        dx[np.arange(batch_size), self.t] -= 1\n",
    "        dx *= dout\n",
    "        dx /= batch_size\n",
    "\n",
    "        return dx"
   ]
  },
  {
   "cell_type": "markdown",
   "metadata": {},
   "source": [
    "### 가중치 갱신\n",
    "![SGD](./image/SGD.png)"
   ]
  },
  {
   "cell_type": "code",
   "execution_count": 32,
   "metadata": {},
   "outputs": [],
   "source": [
    "# 경사하강법 SGD\n",
    "\n",
    "class SGD:\n",
    "    '''\n",
    "    확률적 경사하강법 (SGD, Stochastic Gradient Descent)\n",
    "        W <- W - lr * (dL/dW)\n",
    "    '''\n",
    "\n",
    "    def __init__(self, lr=0.01):\n",
    "        self.lr = lr\n",
    "\n",
    "    def update(self, params, grads):\n",
    "        for i in range(len(params)):\n",
    "            params[i] -= self.lr * grads[i]\n",
    "            "
   ]
  },
  {
   "cell_type": "code",
   "execution_count": 33,
   "metadata": {},
   "outputs": [],
   "source": [
    "# 혼자서 적어보기\n",
    "\n",
    "class SGD:\n",
    "    def __init__(self, lr=0.01):\n",
    "        self.lr = lr\n",
    "    \n",
    "    def update(self):\n",
    "        for i in range(len(self.params)):\n",
    "            self.params[i] -= self.lr * self.grads[i]"
   ]
  },
  {
   "cell_type": "markdown",
   "metadata": {},
   "source": [
    "### 실제 신경망 구현해보기"
   ]
  },
  {
   "cell_type": "code",
   "execution_count": 34,
   "metadata": {},
   "outputs": [
    {
     "name": "stdout",
     "output_type": "stream",
     "text": [
      "x (300, 2)\n",
      "t (300, 3)\n"
     ]
    }
   ],
   "source": [
    "# load dataset\n",
    "import sys\n",
    "sys.path.append('..')\n",
    "import matplotlib.pyplot as plt\n",
    "\n",
    "from dataset import spiral\n",
    "\n",
    "x, t = spiral.load_data()\n",
    "print('x', x.shape)\n",
    "print('t', t.shape)"
   ]
  },
  {
   "cell_type": "code",
   "execution_count": 35,
   "metadata": {},
   "outputs": [
    {
     "data": {
      "image/png": "[encoded data removed]",
      "text/plain": [
       "<Figure size 640x480 with 1 Axes>"
      ]
     },
     "metadata": {},
     "output_type": "display_data"
    }
   ],
   "source": [
    "N = 100\n",
    "CLS_NUM = 3\n",
    "markers = ['o', 'x', '^']\n",
    "\n",
    "for i in range(CLS_NUM):\n",
    "    plt.scatter(x[i*N: (i+1)*N, 0], x[i*N: (i+1)*N, 1], s=40, marker=markers[i])\n",
    "\n",
    "plt.show()"
   ]
  },
  {
   "cell_type": "code",
   "execution_count": 36,
   "metadata": {},
   "outputs": [],
   "source": [
    "import sys\n",
    "sys.path.append('..')\n",
    "# from common.np import *\n",
    "from common.layers import Affine, Sigmoid, SoftmaxWithLoos\n",
    "\n",
    "class TwoLayerNet:\n",
    "    def __init__(self, input_size, hidden_size, output_size):\n",
    "        I, H, O = input_size, hidden_size, output_size\n",
    "        \n",
    "        # 가중치 편향 초기화\n",
    "        W1 = 0.01 * np.random.randn(I, H)\n",
    "        b1 = np.zeros(H)\n",
    "        W2 = 0.01 * np.random.randn(H, O)\n",
    "        b2 = np.zeros(O)\n",
    "\n",
    "        # 레이어 생성\n",
    "        self.layers = [\n",
    "            Affine(W1, b1),\n",
    "            Sigmoid(),\n",
    "            Affine(W2, b2)\n",
    "        ]\n",
    "\n",
    "        # 모든 가중치를 리스트에 모으기\n",
    "        self.params = [layer for layer in self.layers]\n",
    "\n",
    "    def predict(self, x):\n",
    "        for layer in self.layers:\n",
    "            x = layer.forward(x)\n",
    "        return x"
   ]
  },
  {
   "cell_type": "markdown",
   "metadata": {},
   "source": [
    "### 학습용 코드"
   ]
  },
  {
   "cell_type": "code",
   "execution_count": 10,
   "metadata": {},
   "outputs": [
    {
     "name": "stderr",
     "output_type": "stream",
     "text": [
      "100%|██████████| 300/300 [00:00<00:00, 1511.70it/s]"
     ]
    },
    {
     "name": "stdout",
     "output_type": "stream",
     "text": [
      "epoch: 1 | iter 10/10 | loss: 1.13\n",
      "epoch: 2 | iter 10/10 | loss: 1.13\n",
      "epoch: 3 | iter 10/10 | loss: 1.12\n",
      "epoch: 4 | iter 10/10 | loss: 1.12\n",
      "epoch: 5 | iter 10/10 | loss: 1.11\n",
      "epoch: 6 | iter 10/10 | loss: 1.14\n",
      "epoch: 7 | iter 10/10 | loss: 1.16\n",
      "epoch: 8 | iter 10/10 | loss: 1.11\n",
      "epoch: 9 | iter 10/10 | loss: 1.12\n",
      "epoch: 10 | iter 10/10 | loss: 1.13\n",
      "epoch: 11 | iter 10/10 | loss: 1.12\n",
      "epoch: 12 | iter 10/10 | loss: 1.11\n",
      "epoch: 13 | iter 10/10 | loss: 1.09\n",
      "epoch: 14 | iter 10/10 | loss: 1.08\n",
      "epoch: 15 | iter 10/10 | loss: 1.04\n",
      "epoch: 16 | iter 10/10 | loss: 1.03\n",
      "epoch: 17 | iter 10/10 | loss: 0.96\n",
      "epoch: 18 | iter 10/10 | loss: 0.92\n",
      "epoch: 19 | iter 10/10 | loss: 0.92\n",
      "epoch: 20 | iter 10/10 | loss: 0.87\n",
      "epoch: 21 | iter 10/10 | loss: 0.85\n",
      "epoch: 22 | iter 10/10 | loss: 0.82\n",
      "epoch: 23 | iter 10/10 | loss: 0.79\n",
      "epoch: 24 | iter 10/10 | loss: 0.78\n",
      "epoch: 25 | iter 10/10 | loss: 0.82\n",
      "epoch: 26 | iter 10/10 | loss: 0.78\n",
      "epoch: 27 | iter 10/10 | loss: 0.76\n",
      "epoch: 28 | iter 10/10 | loss: 0.76\n",
      "epoch: 29 | iter 10/10 | loss: 0.78\n",
      "epoch: 30 | iter 10/10 | loss: 0.75\n",
      "epoch: 31 | iter 10/10 | loss: 0.78\n",
      "epoch: 32 | iter 10/10 | loss: 0.77\n",
      "epoch: 33 | iter 10/10 | loss: 0.77\n",
      "epoch: 34 | iter 10/10 | loss: 0.78\n",
      "epoch: 35 | iter 10/10 | loss: 0.75\n",
      "epoch: 36 | iter 10/10 | loss: 0.74\n",
      "epoch: 37 | iter 10/10 | loss: 0.76\n",
      "epoch: 38 | iter 10/10 | loss: 0.76\n",
      "epoch: 39 | iter 10/10 | loss: 0.73\n",
      "epoch: 40 | iter 10/10 | loss: 0.75\n",
      "epoch: 41 | iter 10/10 | loss: 0.76\n",
      "epoch: 42 | iter 10/10 | loss: 0.76\n",
      "epoch: 43 | iter 10/10 | loss: 0.76\n",
      "epoch: 44 | iter 10/10 | loss: 0.74\n",
      "epoch: 45 | iter 10/10 | loss: 0.75\n",
      "epoch: 46 | iter 10/10 | loss: 0.73\n",
      "epoch: 47 | iter 10/10 | loss: 0.72\n",
      "epoch: 48 | iter 10/10 | loss: 0.73\n",
      "epoch: 49 | iter 10/10 | loss: 0.72\n",
      "epoch: 50 | iter 10/10 | loss: 0.72\n",
      "epoch: 51 | iter 10/10 | loss: 0.72\n",
      "epoch: 52 | iter 10/10 | loss: 0.72\n",
      "epoch: 53 | iter 10/10 | loss: 0.74\n",
      "epoch: 54 | iter 10/10 | loss: 0.74\n",
      "epoch: 55 | iter 10/10 | loss: 0.72\n",
      "epoch: 56 | iter 10/10 | loss: 0.72\n",
      "epoch: 57 | iter 10/10 | loss: 0.71\n",
      "epoch: 58 | iter 10/10 | loss: 0.70\n",
      "epoch: 59 | iter 10/10 | loss: 0.72\n",
      "epoch: 60 | iter 10/10 | loss: 0.70\n",
      "epoch: 61 | iter 10/10 | loss: 0.71\n",
      "epoch: 62 | iter 10/10 | loss: 0.72\n",
      "epoch: 63 | iter 10/10 | loss: 0.70\n",
      "epoch: 64 | iter 10/10 | loss: 0.71\n",
      "epoch: 65 | iter 10/10 | loss: 0.73\n",
      "epoch: 66 | iter 10/10 | loss: 0.70\n",
      "epoch: 67 | iter 10/10 | loss: 0.71\n",
      "epoch: 68 | iter 10/10 | loss: 0.69\n",
      "epoch: 69 | iter 10/10 | loss: 0.70\n",
      "epoch: 70 | iter 10/10 | loss: 0.71\n",
      "epoch: 71 | iter 10/10 | loss: 0.68\n",
      "epoch: 72 | iter 10/10 | loss: 0.69\n",
      "epoch: 73 | iter 10/10 | loss: 0.67\n",
      "epoch: 74 | iter 10/10 | loss: 0.68\n",
      "epoch: 75 | iter 10/10 | loss: 0.67\n",
      "epoch: 76 | iter 10/10 | loss: 0.66\n",
      "epoch: 77 | iter 10/10 | loss: 0.69\n",
      "epoch: 78 | iter 10/10 | loss: 0.64\n",
      "epoch: 79 | iter 10/10 | loss: 0.68\n",
      "epoch: 80 | iter 10/10 | loss: 0.64\n",
      "epoch: 81 | iter 10/10 | loss: 0.64\n",
      "epoch: 82 | iter 10/10 | loss: 0.66\n",
      "epoch: 83 | iter 10/10 | loss: 0.62\n",
      "epoch: 84 | iter 10/10 | loss: 0.62\n",
      "epoch: 85 | iter 10/10 | loss: 0.61\n",
      "epoch: 86 | iter 10/10 | loss: 0.60\n",
      "epoch: 87 | iter 10/10 | loss: 0.60\n",
      "epoch: 88 | iter 10/10 | loss: 0.61\n",
      "epoch: 89 | iter 10/10 | loss: 0.59\n",
      "epoch: 90 | iter 10/10 | loss: 0.58\n",
      "epoch: 91 | iter 10/10 | loss: 0.56\n",
      "epoch: 92 | iter 10/10 | loss: 0.56\n",
      "epoch: 93 | iter 10/10 | loss: 0.54\n",
      "epoch: 94 | iter 10/10 | loss: 0.53\n",
      "epoch: 95 | iter 10/10 | loss: 0.53\n",
      "epoch: 96 | iter 10/10 | loss: 0.52\n",
      "epoch: 97 | iter 10/10 | loss: 0.51\n",
      "epoch: 98 | iter 10/10 | loss: 0.50\n",
      "epoch: 99 | iter 10/10 | loss: 0.48\n",
      "epoch: 100 | iter 10/10 | loss: 0.48\n",
      "epoch: 101 | iter 10/10 | loss: 0.46\n",
      "epoch: 102 | iter 10/10 | loss: 0.45\n",
      "epoch: 103 | iter 10/10 | loss: 0.45\n",
      "epoch: 104 | iter 10/10 | loss: 0.44\n",
      "epoch: 105 | iter 10/10 | loss: 0.44\n",
      "epoch: 106 | iter 10/10 | loss: 0.41\n",
      "epoch: 107 | iter 10/10 | loss: 0.40\n",
      "epoch: 108 | iter 10/10 | loss: 0.41\n",
      "epoch: 109 | iter 10/10 | loss: 0.40\n",
      "epoch: 110 | iter 10/10 | loss: 0.40\n",
      "epoch: 111 | iter 10/10 | loss: 0.38\n",
      "epoch: 112 | iter 10/10 | loss: 0.38\n",
      "epoch: 113 | iter 10/10 | loss: 0.36\n",
      "epoch: 114 | iter 10/10 | loss: 0.37\n",
      "epoch: 115 | iter 10/10 | loss: 0.35\n",
      "epoch: 116 | iter 10/10 | loss: 0.34\n",
      "epoch: 117 | iter 10/10 | loss: 0.34\n",
      "epoch: 118 | iter 10/10 | loss: 0.34\n",
      "epoch: 119 | iter 10/10 | loss: 0.33\n",
      "epoch: 120 | iter 10/10 | loss: 0.34\n",
      "epoch: 121 | iter 10/10 | loss: 0.32\n",
      "epoch: 122 | iter 10/10 | loss: 0.32\n",
      "epoch: 123 | iter 10/10 | loss: 0.31\n",
      "epoch: 124 | iter 10/10 | loss: 0.31\n",
      "epoch: 125 | iter 10/10 | loss: 0.30\n",
      "epoch: 126 | iter 10/10 | loss: 0.30\n",
      "epoch: 127 | iter 10/10 | loss: 0.28\n",
      "epoch: 128 | iter 10/10 | loss: 0.28\n",
      "epoch: 129 | iter 10/10 | loss: 0.28\n",
      "epoch: 130 | iter 10/10 | loss: 0.28\n",
      "epoch: 131 | iter 10/10 | loss: 0.27\n",
      "epoch: 132 | iter 10/10 | loss: 0.27\n",
      "epoch: 133 | iter 10/10 | loss: 0.27\n",
      "epoch: 134 | iter 10/10 | loss: 0.27\n",
      "epoch: 135 | iter 10/10 | loss: 0.27\n",
      "epoch: 136 | iter 10/10 | loss: 0.26\n",
      "epoch: 137 | iter 10/10 | loss: 0.26\n",
      "epoch: 138 | iter 10/10 | loss: 0.26\n",
      "epoch: 139 | iter 10/10 | loss: 0.25\n",
      "epoch: 140 | iter 10/10 | loss: 0.24\n",
      "epoch: 141 | iter 10/10 | loss: 0.24\n",
      "epoch: 142 | iter 10/10 | loss: 0.25\n",
      "epoch: 143 | iter 10/10 | loss: 0.24\n",
      "epoch: 144 | iter 10/10 | loss: 0.24\n",
      "epoch: 145 | iter 10/10 | loss: 0.23\n",
      "epoch: 146 | iter 10/10 | loss: 0.24\n",
      "epoch: 147 | iter 10/10 | loss: 0.23\n",
      "epoch: 148 | iter 10/10 | loss: 0.23\n",
      "epoch: 149 | iter 10/10 | loss: 0.22\n",
      "epoch: 150 | iter 10/10 | loss: 0.22\n",
      "epoch: 151 | iter 10/10 | loss: 0.22\n",
      "epoch: 152 | iter 10/10 | loss: 0.22\n",
      "epoch: 153 | iter 10/10 | loss: 0.22\n",
      "epoch: 154 | iter 10/10 | loss: 0.22\n",
      "epoch: 155 | iter 10/10 | loss: 0.22\n",
      "epoch: 156 | iter 10/10 | loss: 0.21\n",
      "epoch: 157 | iter 10/10 | loss: 0.21\n",
      "epoch: 158 | iter 10/10 | loss: 0.20\n",
      "epoch: 159 | iter 10/10 | loss: 0.21\n",
      "epoch: 160 | iter 10/10 | loss: 0.20\n",
      "epoch: 161 | iter 10/10 | loss: 0.20\n",
      "epoch: 162 | iter 10/10 | loss: 0.20\n",
      "epoch: 163 | iter 10/10 | loss: 0.21\n",
      "epoch: 164 | iter 10/10 | loss: 0.20\n",
      "epoch: 165 | iter 10/10 | loss: 0.20\n",
      "epoch: 166 | iter 10/10 | loss: 0.19\n",
      "epoch: 167 | iter 10/10 | loss: 0.19\n",
      "epoch: 168 | iter 10/10 | loss: 0.19\n",
      "epoch: 169 | iter 10/10 | loss: 0.19\n",
      "epoch: 170 | iter 10/10 | loss: 0.19\n",
      "epoch: 171 | iter 10/10 | loss: 0.19\n",
      "epoch: 172 | iter 10/10 | loss: 0.18\n",
      "epoch: 173 | iter 10/10 | loss: 0.18\n",
      "epoch: 174 | iter 10/10 | loss: 0.18\n",
      "epoch: 175 | iter 10/10 | loss: 0.18\n",
      "epoch: 176 | iter 10/10 | loss: 0.18\n",
      "epoch: 177 | iter 10/10 | loss: 0.18\n",
      "epoch: 178 | iter 10/10 | loss: 0.18\n",
      "epoch: 179 | iter 10/10 | loss: 0.17\n",
      "epoch: 180 | iter 10/10 | loss: 0.17\n",
      "epoch: 181 | iter 10/10 | loss: 0.18\n",
      "epoch: 182 | iter 10/10 | loss: 0.17\n",
      "epoch: 183 | iter 10/10 | loss: 0.18\n",
      "epoch: 184 | iter 10/10 | loss: 0.17\n",
      "epoch: 185 | iter 10/10 | loss: 0.17\n",
      "epoch: 186 | iter 10/10 | loss: 0.18\n",
      "epoch: 187 | iter 10/10 | loss: 0.17\n",
      "epoch: 188 | iter 10/10 | loss: 0.17\n",
      "epoch: 189 | iter 10/10 | loss: 0.17\n",
      "epoch: 190 | iter 10/10 | loss: 0.17\n",
      "epoch: 191 | iter 10/10 | loss: 0.16\n",
      "epoch: 192 | iter 10/10 | loss: 0.17\n",
      "epoch: 193 | iter 10/10 | loss: 0.16\n",
      "epoch: 194 | iter 10/10 | loss: 0.16\n",
      "epoch: 195 | iter 10/10 | loss: 0.16\n",
      "epoch: 196 | iter 10/10 | loss: 0.16\n",
      "epoch: 197 | iter 10/10 | loss: 0.16\n",
      "epoch: 198 | iter 10/10 | loss: 0.15\n",
      "epoch: 199 | iter 10/10 | loss: 0.16\n",
      "epoch: 200 | iter 10/10 | loss: 0.16\n",
      "epoch: 201 | iter 10/10 | loss: 0.15\n",
      "epoch: 202 | iter 10/10 | loss: 0.16\n",
      "epoch: 203 | iter 10/10 | loss: 0.16\n",
      "epoch: 204 | iter 10/10 | loss: 0.15\n",
      "epoch: 205 | iter 10/10 | loss: 0.16\n",
      "epoch: 206 | iter 10/10 | loss: 0.15\n",
      "epoch: 207 | iter 10/10 | loss: 0.15\n",
      "epoch: 208 | iter 10/10 | loss: 0.15\n",
      "epoch: 209 | iter 10/10 | loss: 0.15\n",
      "epoch: 210 | iter 10/10 | loss: 0.15\n",
      "epoch: 211 | iter 10/10 | loss: 0.15\n",
      "epoch: 212 | iter 10/10 | loss: 0.15\n",
      "epoch: 213 | iter 10/10 | loss: 0.15\n",
      "epoch: 214 | iter 10/10 | loss: 0.15\n",
      "epoch: 215 | iter 10/10 | loss: 0.15\n",
      "epoch: 216 | iter 10/10 | loss: 0.14\n",
      "epoch: 217 | iter 10/10 | loss: 0.14\n",
      "epoch: 218 | iter 10/10 | loss: 0.15\n",
      "epoch: 219 | iter 10/10 | loss: 0.14\n",
      "epoch: 220 | iter 10/10 | loss: 0.14\n",
      "epoch: 221 | iter 10/10 | loss: 0.14\n",
      "epoch: 222 | iter 10/10 | loss: 0.14\n",
      "epoch: 223 | iter 10/10 | loss: 0.14\n",
      "epoch: 224 | iter 10/10 | loss: 0.14\n",
      "epoch: 225 | iter 10/10 | loss: 0.14\n",
      "epoch: 226 | iter 10/10 | loss: 0.14\n",
      "epoch: 227 | iter 10/10 | loss: 0.14\n",
      "epoch: 228 | iter 10/10 | loss: 0.14\n",
      "epoch: 229 | iter 10/10 | loss: 0.13\n",
      "epoch: 230 | iter 10/10 | loss: 0.14\n",
      "epoch: 231 | iter 10/10 | loss: 0.13\n",
      "epoch: 232 | iter 10/10 | loss: 0.14\n",
      "epoch: 233 | iter 10/10 | loss: 0.13\n",
      "epoch: 234 | iter 10/10 | loss: 0.13\n",
      "epoch: 235 | iter 10/10 | loss: 0.13\n",
      "epoch: 236 | iter 10/10 | loss: 0.13\n",
      "epoch: 237 | iter 10/10 | loss: 0.14\n",
      "epoch: 238 | iter 10/10 | loss: 0.13\n",
      "epoch: 239 | iter 10/10 | loss: 0.13\n",
      "epoch: 240 | iter 10/10 | loss: 0.14\n",
      "epoch: 241 | iter 10/10 | loss: 0.13\n",
      "epoch: 242 | iter 10/10 | loss: 0.13\n",
      "epoch: 243 | iter 10/10 | loss: 0.13\n",
      "epoch: 244 | iter 10/10 | loss: 0.13\n",
      "epoch: 245 | iter 10/10 | loss: 0.13\n",
      "epoch: 246 | iter 10/10 | loss: 0.13\n",
      "epoch: 247 | iter 10/10 | loss: 0.13\n",
      "epoch: 248 | iter 10/10 | loss: 0.13\n",
      "epoch: 249 | iter 10/10 | loss: 0.13\n",
      "epoch: 250 | iter 10/10 | loss: 0.13\n",
      "epoch: 251 | iter 10/10 | loss: 0.13\n",
      "epoch: 252 | iter 10/10 | loss: 0.12\n",
      "epoch: 253 | iter 10/10 | loss: 0.12\n",
      "epoch: 254 | iter 10/10 | loss: 0.12\n",
      "epoch: 255 | iter 10/10 | loss: 0.12\n",
      "epoch: 256 | iter 10/10 | loss: 0.12\n",
      "epoch: 257 | iter 10/10 | loss: 0.12\n",
      "epoch: 258 | iter 10/10 | loss: 0.12\n",
      "epoch: 259 | iter 10/10 | loss: 0.13\n",
      "epoch: 260 | iter 10/10 | loss: 0.12\n",
      "epoch: 261 | iter 10/10 | loss: 0.13\n",
      "epoch: 262 | iter 10/10 | loss: 0.12\n",
      "epoch: 263 | iter 10/10 | loss: 0.12\n",
      "epoch: 264 | iter 10/10 | loss: 0.13\n",
      "epoch: 265 | iter 10/10 | loss: 0.12\n",
      "epoch: 266 | iter 10/10 | loss: 0.12\n",
      "epoch: 267 | iter 10/10 | loss: 0.12\n",
      "epoch: 268 | iter 10/10 | loss: 0.12\n",
      "epoch: 269 | iter 10/10 | loss: 0.11\n",
      "epoch: 270 | iter 10/10 | loss: 0.12\n",
      "epoch: 271 | iter 10/10 | loss: 0.12\n",
      "epoch: 272 | iter 10/10 | loss: 0.12\n",
      "epoch: 273 | iter 10/10 | loss: 0.12\n",
      "epoch: 274 | iter 10/10 | loss: 0.12\n",
      "epoch: 275 | iter 10/10 | loss: 0.11\n",
      "epoch: 276 | iter 10/10 | loss: 0.12\n",
      "epoch: 277 | iter 10/10 | loss: 0.12\n",
      "epoch: 278 | iter 10/10 | loss: 0.11\n",
      "epoch: 279 | iter 10/10 | loss: 0.11\n",
      "epoch: 280 | iter 10/10 | loss: 0.11\n",
      "epoch: 281 | iter 10/10 | loss: 0.11\n",
      "epoch: 282 | iter 10/10 | loss: 0.12\n",
      "epoch: 283 | iter 10/10 | loss: 0.11\n",
      "epoch: 284 | iter 10/10 | loss: 0.11\n",
      "epoch: 285 | iter 10/10 | loss: 0.11\n",
      "epoch: 286 | iter 10/10 | loss: 0.11\n",
      "epoch: 287 | iter 10/10 | loss: 0.11\n",
      "epoch: 288 | iter 10/10 | loss: 0.12\n",
      "epoch: 289 | iter 10/10 | loss: 0.11\n",
      "epoch: 290 | iter 10/10 | loss: 0.11\n",
      "epoch: 291 | iter 10/10 | loss: 0.11\n",
      "epoch: 292 | iter 10/10 | loss: 0.11\n",
      "epoch: 293 | iter 10/10 | loss: 0.11\n",
      "epoch: 294 | iter 10/10 | loss: 0.11\n",
      "epoch: 295 | iter 10/10 | loss: 0.12\n",
      "epoch: 296 | iter 10/10 | loss: 0.11\n",
      "epoch: 297 | iter 10/10 | loss: 0.12\n",
      "epoch: 298 | iter 10/10 | loss: 0.11\n",
      "epoch: 299 | iter 10/10 | loss: 0.11\n",
      "epoch: 300 | iter 10/10 | loss: 0.11\n"
     ]
    },
    {
     "name": "stderr",
     "output_type": "stream",
     "text": [
      "\n"
     ]
    }
   ],
   "source": [
    "import sys\n",
    "sys.path.append('..')\n",
    "import numpy as np\n",
    "import matplotlib\n",
    "import matplotlib.pyplot as plt\n",
    "from tqdm import tqdm\n",
    "from common.optimizer import SGD\n",
    "from dataset import spiral\n",
    "from two_layer_net import TwoLayersNet\n",
    "\n",
    "# matplotlib.rc('font', family='Malgun Gothic')\n",
    "matplotlib.rc('font', family='AppleGothic')\n",
    "\n",
    "# 1. 하이퍼 파라미터 설정\n",
    "max_epoch = 300\n",
    "batch_size = 30\n",
    "hidden_size = 10\n",
    "learning_rate = 1.0\n",
    "\n",
    "# 2. 데이터 읽기, 모델과 옵티마이저 설정\n",
    "x, t = spiral.load_data()\n",
    "model = TwoLayersNet(input_size=2,\n",
    "                     hidden_size=hidden_size,\n",
    "                     output_size=3)\n",
    "optimizer = SGD(lr=learning_rate)\n",
    "\n",
    "# 3. 학습에 사용하는 변수\n",
    "data_size = len(x)\n",
    "max_iters = data_size // batch_size\n",
    "total_loss = 0\n",
    "loss_count = 0\n",
    "loss_list = []\n",
    "\n",
    "for epoch in tqdm(range(max_epoch)):\n",
    "    # 데이터 셔플링\n",
    "    idx = np.random.permutation(data_size)\n",
    "    x = x[idx]\n",
    "    t = t[idx]\n",
    "\n",
    "    for iter in range(max_iters):\n",
    "        batch_x = x[iter*batch_size:(iter+1)*batch_size]\n",
    "        batch_t = t[iter*batch_size:(iter+1)*batch_size]\n",
    "    \n",
    "        # 기울기 구해 매개변수 갱신\n",
    "        loss = model.forward(batch_x, batch_t)\n",
    "        model.backward()\n",
    "        optimizer.update(model.params, model.grads)\n",
    "\n",
    "        total_loss += loss\n",
    "        loss_count += 1\n",
    "        \n",
    "        # 정기적으로 학습 결과 출력\n",
    "        if (iter+1) % 10 == 0:\n",
    "            avg_loss = total_loss / loss_count\n",
    "            print(f'epoch: {epoch+1} | iter {iter+1}/{max_iters} | loss: {avg_loss:.2f}')\n",
    "            loss_list.append(avg_loss)\n",
    "            total_loss, loss_count = 0, 0\n"
   ]
  },
  {
   "cell_type": "code",
   "execution_count": 12,
   "metadata": {},
   "outputs": [
    {
     "data": {
      "image/png": "[encoded data removed]",
      "text/plain": [
       "<Figure size 640x480 with 1 Axes>"
      ]
     },
     "metadata": {},
     "output_type": "display_data"
    },
    {
     "data": {
      "image/png": "[encoded data removed]",
      "text/plain": [
       "<Figure size 640x480 with 1 Axes>"
      ]
     },
     "metadata": {},
     "output_type": "display_data"
    }
   ],
   "source": [
    "# 학습 결과 플롯\n",
    "plt.plot(np.arange(len(loss_list)),  loss_list, label='train')\n",
    "plt.xlabel('반복 (x10)')\n",
    "plt.ylabel('loss')\n",
    "plt.show()\n",
    "\n",
    "# 경계 영역 플롯\n",
    "h = 0.001\n",
    "# x[:, 0].min() -> -0.9에 가까운 값, -0.1을 더해줘서 -1.0에 근접한 값으로 바꾸기\n",
    "x_min, x_max = x[:, 0].min() - .1, x[:, 0].max() + .1\n",
    "y_min, y_max = x[:, 1].min() - .1, x[:, 1].max() + .1\n",
    "xx, yy = np.meshgrid(np.arange(x_min, x_max, h), np.arange(y_min, y_max, h))\n",
    "# meshgrid -> 1차원 배열로 주어진 두 개 이상의 배열을 받아서 각 배열의 모든 조합에 대한 2D 그리드를 생성\n",
    "X = np.c_[xx.ravel(), yy.ravel()] # ravel flatten 해주는 것\n",
    "score = model.predict(X)\n",
    "predict_cls = np.argmax(score, axis=1)\n",
    "Z = predict_cls.reshape(xx.shape)\n",
    "plt.contourf(xx, yy, Z)\n",
    "plt.axis('off')\n",
    "\n",
    "# plt.scatter\n",
    "x, t = spiral.load_data()\n",
    "N = 100\n",
    "CLS_NUM = 3\n",
    "markers = ['o', 'x', '^']\n",
    "for i in range(CLS_NUM):\n",
    "    plt.scatter(x[i*N:(i+1)*N, 0], x[i*N: (i+1)*N, 1], s=40, marker=markers[i])\n",
    "plt.show()"
   ]
  },
  {
   "cell_type": "code",
   "execution_count": 13,
   "metadata": {},
   "outputs": [
    {
     "data": {
      "text/plain": [
       "array([3, 5, 0, 9, 7, 6, 1, 2, 4, 8])"
      ]
     },
     "execution_count": 13,
     "metadata": {},
     "output_type": "execute_result"
    }
   ],
   "source": [
    "# 데이터 셔플링\n",
    "import numpy as np\n",
    "\n",
    "np.random.permutation(10)"
   ]
  },
  {
   "cell_type": "code",
   "execution_count": 8,
   "metadata": {},
   "outputs": [
    {
     "name": "stdout",
     "output_type": "stream",
     "text": [
      "<class 'numpy.ndarray'>\n",
      "[[ 0.81428094 -1.03919041 -0.19718926]\n",
      " [ 0.0926846   1.31780296  0.11465322]] [0. 0. 0.]\n"
     ]
    },
    {
     "data": {
      "text/plain": [
       "[array([[0., 0., 0.],\n",
       "        [0., 0., 0.]]),\n",
       " array([0., 0., 0.])]"
      ]
     },
     "execution_count": 8,
     "metadata": {},
     "output_type": "execute_result"
    }
   ],
   "source": [
    "import numpy as np\n",
    "W1 = np.random.randn(2, 3) # 2,3 shape의 평균 0, 표준편차 1의 랜덤한 값으로 채운 np.ndarray 생성\n",
    "b1 = np.zeros(3)\n",
    "print(type(W1))\n",
    "print(W1, b1)\n",
    "grads = [np.zeros_like(W1), np.zeros_like(b1)]\n",
    "grads"
   ]
  },
  {
   "cell_type": "code",
   "execution_count": null,
   "metadata": {},
   "outputs": [],
   "source": []
  }
 ],
 "metadata": {
  "kernelspec": {
   "display_name": "kaggle",
   "language": "python",
   "name": "python3"
  },
  "language_info": {
   "codemirror_mode": {
    "name": "ipython",
    "version": 3
   },
   "file_extension": ".py",
   "mimetype": "text/x-python",
   "name": "python",
   "nbconvert_exporter": "python",
   "pygments_lexer": "ipython3",
   "version": "3.10.13"
  }
 },
 "nbformat": 4,
 "nbformat_minor": 2
}
